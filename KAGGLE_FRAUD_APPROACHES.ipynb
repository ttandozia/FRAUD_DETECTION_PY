{
 "cells": [
  {
   "cell_type": "markdown",
   "metadata": {},
   "source": [
    "<h1 align=\"center\"> Credit Fraud Detection </h1>\n",
    "\n",
    "\n",
    "#### INTRODUCTION:\n",
    "In this project, we'll apply 3 different predictive approaches to compare:\n",
    "* How accurate we can be;\n",
    "* How much we can minimize false positives (this becomes a problem when clients have their credit card blocked erroneously).\n",
    "\n",
    "Since we can't see the real labels of each feature (for security reasons), we cannot infer additional business insights. Nevertheless, we can still deliver a good solution to this issue.\n",
    "\n",
    "\n",
    "#### APPROACHES:\n",
    "* Pycaret anomaly detection;\n",
    "* Pycaret classifier (100% of our data);\n",
    "* Classifier with under-over sample (using SMOTE technique).\n",
    "\n",
    "\n",
    "#### GOALS:\n",
    "* Implement models using pycaret modules to see how fast and accurate we can be with few code lines;\n",
    "* Compare un-supervised models (anomaly detection) with supervised models (Logistic Regression);\n",
    "* Implement a solution with under & over sample dataframe (using SMOTE technique)."
   ]
  },
  {
   "cell_type": "code",
   "execution_count": 1,
   "metadata": {},
   "outputs": [
    {
     "name": "stdout",
     "output_type": "stream",
     "text": [
      "Colab mode enabled.\n"
     ]
    }
   ],
   "source": [
    "# Standard Libraries\n",
    "import os\n",
    "import time\n",
    "import pandas as pd\n",
    "import numpy as np\n",
    "import matplotlib.pyplot as plt\n",
    "\n",
    "\n",
    "# Pycaret libraries\n",
    "from pycaret.anomaly import *\n",
    "# from pycaret.classification import * <- Will be imported when necessary\n",
    "from pycaret.utils import enable_colab\n",
    "enable_colab()\n",
    "\n",
    "\n",
    "# Sklearn libraries\n",
    "from sklearn.preprocessing import RobustScaler\n",
    "from sklearn.metrics import accuracy_score, roc_auc_score, recall_score, precision_score, f1_score\n",
    "from sklearn.metrics import confusion_matrix, classification_report\n",
    "from sklearn.model_selection import StratifiedShuffleSplit, KFold, StratifiedKFold\n",
    "from sklearn.model_selection import train_test_split, RandomizedSearchCV, GridSearchCV\n",
    "from sklearn.linear_model import LogisticRegression\n",
    "\n",
    "\n",
    "# Other libraries\n",
    "from imblearn.over_sampling import SMOTE\n",
    "import seaborn as sns\n",
    "from functools import reduce\n",
    "\n",
    "\n",
    "# Change pandas columns limit\n",
    "pd.set_option('display.max_columns', 100)"
   ]
  },
  {
   "cell_type": "code",
   "execution_count": 2,
   "metadata": {},
   "outputs": [
    {
     "data": {
      "text/html": [
       "\n",
       "            <script src=\"/static/components/requirejs/require.js\"></script>\n",
       "            <script>\n",
       "              requirejs.config({\n",
       "                paths: {\n",
       "                  base: '/static/base',\n",
       "                  plotly: 'https://cdn.plot.ly/plotly-latest.min.js?noext',\n",
       "                },\n",
       "              });\n",
       "            </script>\n",
       "            "
      ],
      "text/plain": [
       "<IPython.core.display.HTML object>"
      ]
     },
     "metadata": {},
     "output_type": "display_data"
    }
   ],
   "source": [
    "# Path\n",
    "os.chdir('C:/Users/ttandozia/Desktop/KAGGLE_FRAUD')"
   ]
  },
  {
   "cell_type": "code",
   "execution_count": 3,
   "metadata": {},
   "outputs": [
    {
     "data": {
      "text/html": [
       "\n",
       "            <script src=\"/static/components/requirejs/require.js\"></script>\n",
       "            <script>\n",
       "              requirejs.config({\n",
       "                paths: {\n",
       "                  base: '/static/base',\n",
       "                  plotly: 'https://cdn.plot.ly/plotly-latest.min.js?noext',\n",
       "                },\n",
       "              });\n",
       "            </script>\n",
       "            "
      ],
      "text/plain": [
       "<IPython.core.display.HTML object>"
      ]
     },
     "metadata": {},
     "output_type": "display_data"
    }
   ],
   "source": [
    "# Dataset\n",
    "df = pd.read_csv('creditcard.csv', sep=',')"
   ]
  },
  {
   "cell_type": "code",
   "execution_count": 4,
   "metadata": {},
   "outputs": [
    {
     "data": {
      "text/html": [
       "\n",
       "            <script src=\"/static/components/requirejs/require.js\"></script>\n",
       "            <script>\n",
       "              requirejs.config({\n",
       "                paths: {\n",
       "                  base: '/static/base',\n",
       "                  plotly: 'https://cdn.plot.ly/plotly-latest.min.js?noext',\n",
       "                },\n",
       "              });\n",
       "            </script>\n",
       "            "
      ],
      "text/plain": [
       "<IPython.core.display.HTML object>"
      ]
     },
     "metadata": {},
     "output_type": "display_data"
    }
   ],
   "source": [
    "# Scale features \"Time\" and \"Amount\"\n",
    "rob_scaler = RobustScaler()\n",
    "\n",
    "df['scaled_amount'] = rob_scaler.fit_transform(df['Amount'].values.reshape(-1,1))\n",
    "df['scaled_time'] = rob_scaler.fit_transform(df['Time'].values.reshape(-1,1))\n",
    "\n",
    "# Drop original columns\n",
    "df.drop(['Time','Amount'], axis=1, inplace=True)\n",
    "\n",
    "# Reorder columns\n",
    "scaled_amount = df['scaled_amount']\n",
    "scaled_time = df['scaled_time']\n",
    "df.drop(['scaled_amount', 'scaled_time'], axis=1, inplace=True)\n",
    "df.insert(0, 'scaled_amount', scaled_amount)\n",
    "df.insert(1, 'scaled_time', scaled_time)"
   ]
  },
  {
   "cell_type": "markdown",
   "metadata": {},
   "source": [
    "#### We'll create the \"original\" train and test so we can compare the 3 approches with the same test set.\n",
    "\n",
    "##### For each approach, we will split the data using random_state (or setion_id in pycaret) = 1313"
   ]
  },
  {
   "cell_type": "code",
   "execution_count": 5,
   "metadata": {},
   "outputs": [
    {
     "data": {
      "text/html": [
       "\n",
       "            <script src=\"/static/components/requirejs/require.js\"></script>\n",
       "            <script>\n",
       "              requirejs.config({\n",
       "                paths: {\n",
       "                  base: '/static/base',\n",
       "                  plotly: 'https://cdn.plot.ly/plotly-latest.min.js?noext',\n",
       "                },\n",
       "              });\n",
       "            </script>\n",
       "            "
      ],
      "text/plain": [
       "<IPython.core.display.HTML object>"
      ]
     },
     "metadata": {},
     "output_type": "display_data"
    }
   ],
   "source": [
    "# Spliting data\n",
    "X = df.drop('Class', axis=1)\n",
    "y = df['Class']\n",
    "\n",
    "skf = StratifiedKFold(n_splits=5, random_state=1313, shuffle=False)\n",
    "\n",
    "for train_index, test_index in skf.split(X, y):\n",
    "    original_Xtrain, original_Xtest = X.iloc[train_index], X.iloc[test_index]\n",
    "    original_ytrain, original_ytest = y.iloc[train_index], y.iloc[test_index]\n",
    "    \n",
    "original_df_train = pd.merge(original_Xtrain, original_ytrain, left_index=True, right_index=True)\n",
    "original_df_test = pd.merge(original_Xtest, original_ytest, left_index=True, right_index=True)"
   ]
  },
  {
   "cell_type": "markdown",
   "metadata": {},
   "source": [
    "# 1º APPROACH - ANOMALY DETECTION WITH PYCARET"
   ]
  },
  {
   "cell_type": "code",
   "execution_count": 6,
   "metadata": {
    "scrolled": false
   },
   "outputs": [
    {
     "data": {
      "text/html": [
       "<style  type=\"text/css\" >\n",
       "#T_b370f9a4_5f12_11eb_b9d5_80ce62a0b43frow29_col1{\n",
       "            background-color:  lightgreen;\n",
       "        }</style><table id=\"T_b370f9a4_5f12_11eb_b9d5_80ce62a0b43f\" ><thead>    <tr>        <th class=\"blank level0\" ></th>        <th class=\"col_heading level0 col0\" >Description</th>        <th class=\"col_heading level0 col1\" >Value</th>    </tr></thead><tbody>\n",
       "                <tr>\n",
       "                        <th id=\"T_b370f9a4_5f12_11eb_b9d5_80ce62a0b43flevel0_row0\" class=\"row_heading level0 row0\" >0</th>\n",
       "                        <td id=\"T_b370f9a4_5f12_11eb_b9d5_80ce62a0b43frow0_col0\" class=\"data row0 col0\" >session_id</td>\n",
       "                        <td id=\"T_b370f9a4_5f12_11eb_b9d5_80ce62a0b43frow0_col1\" class=\"data row0 col1\" >1313</td>\n",
       "            </tr>\n",
       "            <tr>\n",
       "                        <th id=\"T_b370f9a4_5f12_11eb_b9d5_80ce62a0b43flevel0_row1\" class=\"row_heading level0 row1\" >1</th>\n",
       "                        <td id=\"T_b370f9a4_5f12_11eb_b9d5_80ce62a0b43frow1_col0\" class=\"data row1 col0\" >Original Data</td>\n",
       "                        <td id=\"T_b370f9a4_5f12_11eb_b9d5_80ce62a0b43frow1_col1\" class=\"data row1 col1\" >(227846, 31)</td>\n",
       "            </tr>\n",
       "            <tr>\n",
       "                        <th id=\"T_b370f9a4_5f12_11eb_b9d5_80ce62a0b43flevel0_row2\" class=\"row_heading level0 row2\" >2</th>\n",
       "                        <td id=\"T_b370f9a4_5f12_11eb_b9d5_80ce62a0b43frow2_col0\" class=\"data row2 col0\" >Missing Values</td>\n",
       "                        <td id=\"T_b370f9a4_5f12_11eb_b9d5_80ce62a0b43frow2_col1\" class=\"data row2 col1\" >False</td>\n",
       "            </tr>\n",
       "            <tr>\n",
       "                        <th id=\"T_b370f9a4_5f12_11eb_b9d5_80ce62a0b43flevel0_row3\" class=\"row_heading level0 row3\" >3</th>\n",
       "                        <td id=\"T_b370f9a4_5f12_11eb_b9d5_80ce62a0b43frow3_col0\" class=\"data row3 col0\" >Numeric Features</td>\n",
       "                        <td id=\"T_b370f9a4_5f12_11eb_b9d5_80ce62a0b43frow3_col1\" class=\"data row3 col1\" >30</td>\n",
       "            </tr>\n",
       "            <tr>\n",
       "                        <th id=\"T_b370f9a4_5f12_11eb_b9d5_80ce62a0b43flevel0_row4\" class=\"row_heading level0 row4\" >4</th>\n",
       "                        <td id=\"T_b370f9a4_5f12_11eb_b9d5_80ce62a0b43frow4_col0\" class=\"data row4 col0\" >Categorical Features</td>\n",
       "                        <td id=\"T_b370f9a4_5f12_11eb_b9d5_80ce62a0b43frow4_col1\" class=\"data row4 col1\" >0</td>\n",
       "            </tr>\n",
       "            <tr>\n",
       "                        <th id=\"T_b370f9a4_5f12_11eb_b9d5_80ce62a0b43flevel0_row5\" class=\"row_heading level0 row5\" >5</th>\n",
       "                        <td id=\"T_b370f9a4_5f12_11eb_b9d5_80ce62a0b43frow5_col0\" class=\"data row5 col0\" >Ordinal Features</td>\n",
       "                        <td id=\"T_b370f9a4_5f12_11eb_b9d5_80ce62a0b43frow5_col1\" class=\"data row5 col1\" >False</td>\n",
       "            </tr>\n",
       "            <tr>\n",
       "                        <th id=\"T_b370f9a4_5f12_11eb_b9d5_80ce62a0b43flevel0_row6\" class=\"row_heading level0 row6\" >6</th>\n",
       "                        <td id=\"T_b370f9a4_5f12_11eb_b9d5_80ce62a0b43frow6_col0\" class=\"data row6 col0\" >High Cardinality Features</td>\n",
       "                        <td id=\"T_b370f9a4_5f12_11eb_b9d5_80ce62a0b43frow6_col1\" class=\"data row6 col1\" >False</td>\n",
       "            </tr>\n",
       "            <tr>\n",
       "                        <th id=\"T_b370f9a4_5f12_11eb_b9d5_80ce62a0b43flevel0_row7\" class=\"row_heading level0 row7\" >7</th>\n",
       "                        <td id=\"T_b370f9a4_5f12_11eb_b9d5_80ce62a0b43frow7_col0\" class=\"data row7 col0\" >High Cardinality Method</td>\n",
       "                        <td id=\"T_b370f9a4_5f12_11eb_b9d5_80ce62a0b43frow7_col1\" class=\"data row7 col1\" >None</td>\n",
       "            </tr>\n",
       "            <tr>\n",
       "                        <th id=\"T_b370f9a4_5f12_11eb_b9d5_80ce62a0b43flevel0_row8\" class=\"row_heading level0 row8\" >8</th>\n",
       "                        <td id=\"T_b370f9a4_5f12_11eb_b9d5_80ce62a0b43frow8_col0\" class=\"data row8 col0\" >Transformed Data</td>\n",
       "                        <td id=\"T_b370f9a4_5f12_11eb_b9d5_80ce62a0b43frow8_col1\" class=\"data row8 col1\" >(227846, 30)</td>\n",
       "            </tr>\n",
       "            <tr>\n",
       "                        <th id=\"T_b370f9a4_5f12_11eb_b9d5_80ce62a0b43flevel0_row9\" class=\"row_heading level0 row9\" >9</th>\n",
       "                        <td id=\"T_b370f9a4_5f12_11eb_b9d5_80ce62a0b43frow9_col0\" class=\"data row9 col0\" >CPU Jobs</td>\n",
       "                        <td id=\"T_b370f9a4_5f12_11eb_b9d5_80ce62a0b43frow9_col1\" class=\"data row9 col1\" >-1</td>\n",
       "            </tr>\n",
       "            <tr>\n",
       "                        <th id=\"T_b370f9a4_5f12_11eb_b9d5_80ce62a0b43flevel0_row10\" class=\"row_heading level0 row10\" >10</th>\n",
       "                        <td id=\"T_b370f9a4_5f12_11eb_b9d5_80ce62a0b43frow10_col0\" class=\"data row10 col0\" >Use GPU</td>\n",
       "                        <td id=\"T_b370f9a4_5f12_11eb_b9d5_80ce62a0b43frow10_col1\" class=\"data row10 col1\" >False</td>\n",
       "            </tr>\n",
       "            <tr>\n",
       "                        <th id=\"T_b370f9a4_5f12_11eb_b9d5_80ce62a0b43flevel0_row11\" class=\"row_heading level0 row11\" >11</th>\n",
       "                        <td id=\"T_b370f9a4_5f12_11eb_b9d5_80ce62a0b43frow11_col0\" class=\"data row11 col0\" >Log Experiment</td>\n",
       "                        <td id=\"T_b370f9a4_5f12_11eb_b9d5_80ce62a0b43frow11_col1\" class=\"data row11 col1\" >False</td>\n",
       "            </tr>\n",
       "            <tr>\n",
       "                        <th id=\"T_b370f9a4_5f12_11eb_b9d5_80ce62a0b43flevel0_row12\" class=\"row_heading level0 row12\" >12</th>\n",
       "                        <td id=\"T_b370f9a4_5f12_11eb_b9d5_80ce62a0b43frow12_col0\" class=\"data row12 col0\" >Experiment Name</td>\n",
       "                        <td id=\"T_b370f9a4_5f12_11eb_b9d5_80ce62a0b43frow12_col1\" class=\"data row12 col1\" >anomaly-default-name</td>\n",
       "            </tr>\n",
       "            <tr>\n",
       "                        <th id=\"T_b370f9a4_5f12_11eb_b9d5_80ce62a0b43flevel0_row13\" class=\"row_heading level0 row13\" >13</th>\n",
       "                        <td id=\"T_b370f9a4_5f12_11eb_b9d5_80ce62a0b43frow13_col0\" class=\"data row13 col0\" >USI</td>\n",
       "                        <td id=\"T_b370f9a4_5f12_11eb_b9d5_80ce62a0b43frow13_col1\" class=\"data row13 col1\" >e13c</td>\n",
       "            </tr>\n",
       "            <tr>\n",
       "                        <th id=\"T_b370f9a4_5f12_11eb_b9d5_80ce62a0b43flevel0_row14\" class=\"row_heading level0 row14\" >14</th>\n",
       "                        <td id=\"T_b370f9a4_5f12_11eb_b9d5_80ce62a0b43frow14_col0\" class=\"data row14 col0\" >Imputation Type</td>\n",
       "                        <td id=\"T_b370f9a4_5f12_11eb_b9d5_80ce62a0b43frow14_col1\" class=\"data row14 col1\" >iterative</td>\n",
       "            </tr>\n",
       "            <tr>\n",
       "                        <th id=\"T_b370f9a4_5f12_11eb_b9d5_80ce62a0b43flevel0_row15\" class=\"row_heading level0 row15\" >15</th>\n",
       "                        <td id=\"T_b370f9a4_5f12_11eb_b9d5_80ce62a0b43frow15_col0\" class=\"data row15 col0\" >Iterative Imputation Iteration</td>\n",
       "                        <td id=\"T_b370f9a4_5f12_11eb_b9d5_80ce62a0b43frow15_col1\" class=\"data row15 col1\" >30</td>\n",
       "            </tr>\n",
       "            <tr>\n",
       "                        <th id=\"T_b370f9a4_5f12_11eb_b9d5_80ce62a0b43flevel0_row16\" class=\"row_heading level0 row16\" >16</th>\n",
       "                        <td id=\"T_b370f9a4_5f12_11eb_b9d5_80ce62a0b43frow16_col0\" class=\"data row16 col0\" >Numeric Imputer</td>\n",
       "                        <td id=\"T_b370f9a4_5f12_11eb_b9d5_80ce62a0b43frow16_col1\" class=\"data row16 col1\" >median</td>\n",
       "            </tr>\n",
       "            <tr>\n",
       "                        <th id=\"T_b370f9a4_5f12_11eb_b9d5_80ce62a0b43flevel0_row17\" class=\"row_heading level0 row17\" >17</th>\n",
       "                        <td id=\"T_b370f9a4_5f12_11eb_b9d5_80ce62a0b43frow17_col0\" class=\"data row17 col0\" >Iterative Imputation Numeric Model</td>\n",
       "                        <td id=\"T_b370f9a4_5f12_11eb_b9d5_80ce62a0b43frow17_col1\" class=\"data row17 col1\" >Light Gradient Boosting Machine</td>\n",
       "            </tr>\n",
       "            <tr>\n",
       "                        <th id=\"T_b370f9a4_5f12_11eb_b9d5_80ce62a0b43flevel0_row18\" class=\"row_heading level0 row18\" >18</th>\n",
       "                        <td id=\"T_b370f9a4_5f12_11eb_b9d5_80ce62a0b43frow18_col0\" class=\"data row18 col0\" >Categorical Imputer</td>\n",
       "                        <td id=\"T_b370f9a4_5f12_11eb_b9d5_80ce62a0b43frow18_col1\" class=\"data row18 col1\" >mode</td>\n",
       "            </tr>\n",
       "            <tr>\n",
       "                        <th id=\"T_b370f9a4_5f12_11eb_b9d5_80ce62a0b43flevel0_row19\" class=\"row_heading level0 row19\" >19</th>\n",
       "                        <td id=\"T_b370f9a4_5f12_11eb_b9d5_80ce62a0b43frow19_col0\" class=\"data row19 col0\" >Iterative Imputation Categorical Model</td>\n",
       "                        <td id=\"T_b370f9a4_5f12_11eb_b9d5_80ce62a0b43frow19_col1\" class=\"data row19 col1\" >Light Gradient Boosting Machine</td>\n",
       "            </tr>\n",
       "            <tr>\n",
       "                        <th id=\"T_b370f9a4_5f12_11eb_b9d5_80ce62a0b43flevel0_row20\" class=\"row_heading level0 row20\" >20</th>\n",
       "                        <td id=\"T_b370f9a4_5f12_11eb_b9d5_80ce62a0b43frow20_col0\" class=\"data row20 col0\" >Unknown Categoricals Handling</td>\n",
       "                        <td id=\"T_b370f9a4_5f12_11eb_b9d5_80ce62a0b43frow20_col1\" class=\"data row20 col1\" >least_frequent</td>\n",
       "            </tr>\n",
       "            <tr>\n",
       "                        <th id=\"T_b370f9a4_5f12_11eb_b9d5_80ce62a0b43flevel0_row21\" class=\"row_heading level0 row21\" >21</th>\n",
       "                        <td id=\"T_b370f9a4_5f12_11eb_b9d5_80ce62a0b43frow21_col0\" class=\"data row21 col0\" >Normalize</td>\n",
       "                        <td id=\"T_b370f9a4_5f12_11eb_b9d5_80ce62a0b43frow21_col1\" class=\"data row21 col1\" >False</td>\n",
       "            </tr>\n",
       "            <tr>\n",
       "                        <th id=\"T_b370f9a4_5f12_11eb_b9d5_80ce62a0b43flevel0_row22\" class=\"row_heading level0 row22\" >22</th>\n",
       "                        <td id=\"T_b370f9a4_5f12_11eb_b9d5_80ce62a0b43frow22_col0\" class=\"data row22 col0\" >Normalize Method</td>\n",
       "                        <td id=\"T_b370f9a4_5f12_11eb_b9d5_80ce62a0b43frow22_col1\" class=\"data row22 col1\" >None</td>\n",
       "            </tr>\n",
       "            <tr>\n",
       "                        <th id=\"T_b370f9a4_5f12_11eb_b9d5_80ce62a0b43flevel0_row23\" class=\"row_heading level0 row23\" >23</th>\n",
       "                        <td id=\"T_b370f9a4_5f12_11eb_b9d5_80ce62a0b43frow23_col0\" class=\"data row23 col0\" >Transformation</td>\n",
       "                        <td id=\"T_b370f9a4_5f12_11eb_b9d5_80ce62a0b43frow23_col1\" class=\"data row23 col1\" >False</td>\n",
       "            </tr>\n",
       "            <tr>\n",
       "                        <th id=\"T_b370f9a4_5f12_11eb_b9d5_80ce62a0b43flevel0_row24\" class=\"row_heading level0 row24\" >24</th>\n",
       "                        <td id=\"T_b370f9a4_5f12_11eb_b9d5_80ce62a0b43frow24_col0\" class=\"data row24 col0\" >Transformation Method</td>\n",
       "                        <td id=\"T_b370f9a4_5f12_11eb_b9d5_80ce62a0b43frow24_col1\" class=\"data row24 col1\" >None</td>\n",
       "            </tr>\n",
       "            <tr>\n",
       "                        <th id=\"T_b370f9a4_5f12_11eb_b9d5_80ce62a0b43flevel0_row25\" class=\"row_heading level0 row25\" >25</th>\n",
       "                        <td id=\"T_b370f9a4_5f12_11eb_b9d5_80ce62a0b43frow25_col0\" class=\"data row25 col0\" >PCA</td>\n",
       "                        <td id=\"T_b370f9a4_5f12_11eb_b9d5_80ce62a0b43frow25_col1\" class=\"data row25 col1\" >False</td>\n",
       "            </tr>\n",
       "            <tr>\n",
       "                        <th id=\"T_b370f9a4_5f12_11eb_b9d5_80ce62a0b43flevel0_row26\" class=\"row_heading level0 row26\" >26</th>\n",
       "                        <td id=\"T_b370f9a4_5f12_11eb_b9d5_80ce62a0b43frow26_col0\" class=\"data row26 col0\" >PCA Method</td>\n",
       "                        <td id=\"T_b370f9a4_5f12_11eb_b9d5_80ce62a0b43frow26_col1\" class=\"data row26 col1\" >None</td>\n",
       "            </tr>\n",
       "            <tr>\n",
       "                        <th id=\"T_b370f9a4_5f12_11eb_b9d5_80ce62a0b43flevel0_row27\" class=\"row_heading level0 row27\" >27</th>\n",
       "                        <td id=\"T_b370f9a4_5f12_11eb_b9d5_80ce62a0b43frow27_col0\" class=\"data row27 col0\" >PCA Components</td>\n",
       "                        <td id=\"T_b370f9a4_5f12_11eb_b9d5_80ce62a0b43frow27_col1\" class=\"data row27 col1\" >None</td>\n",
       "            </tr>\n",
       "            <tr>\n",
       "                        <th id=\"T_b370f9a4_5f12_11eb_b9d5_80ce62a0b43flevel0_row28\" class=\"row_heading level0 row28\" >28</th>\n",
       "                        <td id=\"T_b370f9a4_5f12_11eb_b9d5_80ce62a0b43frow28_col0\" class=\"data row28 col0\" >Ignore Low Variance</td>\n",
       "                        <td id=\"T_b370f9a4_5f12_11eb_b9d5_80ce62a0b43frow28_col1\" class=\"data row28 col1\" >False</td>\n",
       "            </tr>\n",
       "            <tr>\n",
       "                        <th id=\"T_b370f9a4_5f12_11eb_b9d5_80ce62a0b43flevel0_row29\" class=\"row_heading level0 row29\" >29</th>\n",
       "                        <td id=\"T_b370f9a4_5f12_11eb_b9d5_80ce62a0b43frow29_col0\" class=\"data row29 col0\" >Combine Rare Levels</td>\n",
       "                        <td id=\"T_b370f9a4_5f12_11eb_b9d5_80ce62a0b43frow29_col1\" class=\"data row29 col1\" >True</td>\n",
       "            </tr>\n",
       "            <tr>\n",
       "                        <th id=\"T_b370f9a4_5f12_11eb_b9d5_80ce62a0b43flevel0_row30\" class=\"row_heading level0 row30\" >30</th>\n",
       "                        <td id=\"T_b370f9a4_5f12_11eb_b9d5_80ce62a0b43frow30_col0\" class=\"data row30 col0\" >Rare Level Threshold</td>\n",
       "                        <td id=\"T_b370f9a4_5f12_11eb_b9d5_80ce62a0b43frow30_col1\" class=\"data row30 col1\" >0.010000</td>\n",
       "            </tr>\n",
       "            <tr>\n",
       "                        <th id=\"T_b370f9a4_5f12_11eb_b9d5_80ce62a0b43flevel0_row31\" class=\"row_heading level0 row31\" >31</th>\n",
       "                        <td id=\"T_b370f9a4_5f12_11eb_b9d5_80ce62a0b43frow31_col0\" class=\"data row31 col0\" >Numeric Binning</td>\n",
       "                        <td id=\"T_b370f9a4_5f12_11eb_b9d5_80ce62a0b43frow31_col1\" class=\"data row31 col1\" >False</td>\n",
       "            </tr>\n",
       "            <tr>\n",
       "                        <th id=\"T_b370f9a4_5f12_11eb_b9d5_80ce62a0b43flevel0_row32\" class=\"row_heading level0 row32\" >32</th>\n",
       "                        <td id=\"T_b370f9a4_5f12_11eb_b9d5_80ce62a0b43frow32_col0\" class=\"data row32 col0\" >Remove Outliers</td>\n",
       "                        <td id=\"T_b370f9a4_5f12_11eb_b9d5_80ce62a0b43frow32_col1\" class=\"data row32 col1\" >False</td>\n",
       "            </tr>\n",
       "            <tr>\n",
       "                        <th id=\"T_b370f9a4_5f12_11eb_b9d5_80ce62a0b43flevel0_row33\" class=\"row_heading level0 row33\" >33</th>\n",
       "                        <td id=\"T_b370f9a4_5f12_11eb_b9d5_80ce62a0b43frow33_col0\" class=\"data row33 col0\" >Outliers Threshold</td>\n",
       "                        <td id=\"T_b370f9a4_5f12_11eb_b9d5_80ce62a0b43frow33_col1\" class=\"data row33 col1\" >None</td>\n",
       "            </tr>\n",
       "            <tr>\n",
       "                        <th id=\"T_b370f9a4_5f12_11eb_b9d5_80ce62a0b43flevel0_row34\" class=\"row_heading level0 row34\" >34</th>\n",
       "                        <td id=\"T_b370f9a4_5f12_11eb_b9d5_80ce62a0b43frow34_col0\" class=\"data row34 col0\" >Remove Multicollinearity</td>\n",
       "                        <td id=\"T_b370f9a4_5f12_11eb_b9d5_80ce62a0b43frow34_col1\" class=\"data row34 col1\" >False</td>\n",
       "            </tr>\n",
       "            <tr>\n",
       "                        <th id=\"T_b370f9a4_5f12_11eb_b9d5_80ce62a0b43flevel0_row35\" class=\"row_heading level0 row35\" >35</th>\n",
       "                        <td id=\"T_b370f9a4_5f12_11eb_b9d5_80ce62a0b43frow35_col0\" class=\"data row35 col0\" >Multicollinearity Threshold</td>\n",
       "                        <td id=\"T_b370f9a4_5f12_11eb_b9d5_80ce62a0b43frow35_col1\" class=\"data row35 col1\" >None</td>\n",
       "            </tr>\n",
       "            <tr>\n",
       "                        <th id=\"T_b370f9a4_5f12_11eb_b9d5_80ce62a0b43flevel0_row36\" class=\"row_heading level0 row36\" >36</th>\n",
       "                        <td id=\"T_b370f9a4_5f12_11eb_b9d5_80ce62a0b43frow36_col0\" class=\"data row36 col0\" >Clustering</td>\n",
       "                        <td id=\"T_b370f9a4_5f12_11eb_b9d5_80ce62a0b43frow36_col1\" class=\"data row36 col1\" >False</td>\n",
       "            </tr>\n",
       "            <tr>\n",
       "                        <th id=\"T_b370f9a4_5f12_11eb_b9d5_80ce62a0b43flevel0_row37\" class=\"row_heading level0 row37\" >37</th>\n",
       "                        <td id=\"T_b370f9a4_5f12_11eb_b9d5_80ce62a0b43frow37_col0\" class=\"data row37 col0\" >Clustering Iteration</td>\n",
       "                        <td id=\"T_b370f9a4_5f12_11eb_b9d5_80ce62a0b43frow37_col1\" class=\"data row37 col1\" >None</td>\n",
       "            </tr>\n",
       "            <tr>\n",
       "                        <th id=\"T_b370f9a4_5f12_11eb_b9d5_80ce62a0b43flevel0_row38\" class=\"row_heading level0 row38\" >38</th>\n",
       "                        <td id=\"T_b370f9a4_5f12_11eb_b9d5_80ce62a0b43frow38_col0\" class=\"data row38 col0\" >Polynomial Features</td>\n",
       "                        <td id=\"T_b370f9a4_5f12_11eb_b9d5_80ce62a0b43frow38_col1\" class=\"data row38 col1\" >False</td>\n",
       "            </tr>\n",
       "            <tr>\n",
       "                        <th id=\"T_b370f9a4_5f12_11eb_b9d5_80ce62a0b43flevel0_row39\" class=\"row_heading level0 row39\" >39</th>\n",
       "                        <td id=\"T_b370f9a4_5f12_11eb_b9d5_80ce62a0b43frow39_col0\" class=\"data row39 col0\" >Polynomial Degree</td>\n",
       "                        <td id=\"T_b370f9a4_5f12_11eb_b9d5_80ce62a0b43frow39_col1\" class=\"data row39 col1\" >None</td>\n",
       "            </tr>\n",
       "            <tr>\n",
       "                        <th id=\"T_b370f9a4_5f12_11eb_b9d5_80ce62a0b43flevel0_row40\" class=\"row_heading level0 row40\" >40</th>\n",
       "                        <td id=\"T_b370f9a4_5f12_11eb_b9d5_80ce62a0b43frow40_col0\" class=\"data row40 col0\" >Trignometry Features</td>\n",
       "                        <td id=\"T_b370f9a4_5f12_11eb_b9d5_80ce62a0b43frow40_col1\" class=\"data row40 col1\" >False</td>\n",
       "            </tr>\n",
       "            <tr>\n",
       "                        <th id=\"T_b370f9a4_5f12_11eb_b9d5_80ce62a0b43flevel0_row41\" class=\"row_heading level0 row41\" >41</th>\n",
       "                        <td id=\"T_b370f9a4_5f12_11eb_b9d5_80ce62a0b43frow41_col0\" class=\"data row41 col0\" >Polynomial Threshold</td>\n",
       "                        <td id=\"T_b370f9a4_5f12_11eb_b9d5_80ce62a0b43frow41_col1\" class=\"data row41 col1\" >None</td>\n",
       "            </tr>\n",
       "            <tr>\n",
       "                        <th id=\"T_b370f9a4_5f12_11eb_b9d5_80ce62a0b43flevel0_row42\" class=\"row_heading level0 row42\" >42</th>\n",
       "                        <td id=\"T_b370f9a4_5f12_11eb_b9d5_80ce62a0b43frow42_col0\" class=\"data row42 col0\" >Group Features</td>\n",
       "                        <td id=\"T_b370f9a4_5f12_11eb_b9d5_80ce62a0b43frow42_col1\" class=\"data row42 col1\" >False</td>\n",
       "            </tr>\n",
       "            <tr>\n",
       "                        <th id=\"T_b370f9a4_5f12_11eb_b9d5_80ce62a0b43flevel0_row43\" class=\"row_heading level0 row43\" >43</th>\n",
       "                        <td id=\"T_b370f9a4_5f12_11eb_b9d5_80ce62a0b43frow43_col0\" class=\"data row43 col0\" >Feature Selection</td>\n",
       "                        <td id=\"T_b370f9a4_5f12_11eb_b9d5_80ce62a0b43frow43_col1\" class=\"data row43 col1\" >False</td>\n",
       "            </tr>\n",
       "            <tr>\n",
       "                        <th id=\"T_b370f9a4_5f12_11eb_b9d5_80ce62a0b43flevel0_row44\" class=\"row_heading level0 row44\" >44</th>\n",
       "                        <td id=\"T_b370f9a4_5f12_11eb_b9d5_80ce62a0b43frow44_col0\" class=\"data row44 col0\" >Features Selection Threshold</td>\n",
       "                        <td id=\"T_b370f9a4_5f12_11eb_b9d5_80ce62a0b43frow44_col1\" class=\"data row44 col1\" >None</td>\n",
       "            </tr>\n",
       "            <tr>\n",
       "                        <th id=\"T_b370f9a4_5f12_11eb_b9d5_80ce62a0b43flevel0_row45\" class=\"row_heading level0 row45\" >45</th>\n",
       "                        <td id=\"T_b370f9a4_5f12_11eb_b9d5_80ce62a0b43frow45_col0\" class=\"data row45 col0\" >Feature Interaction</td>\n",
       "                        <td id=\"T_b370f9a4_5f12_11eb_b9d5_80ce62a0b43frow45_col1\" class=\"data row45 col1\" >False</td>\n",
       "            </tr>\n",
       "            <tr>\n",
       "                        <th id=\"T_b370f9a4_5f12_11eb_b9d5_80ce62a0b43flevel0_row46\" class=\"row_heading level0 row46\" >46</th>\n",
       "                        <td id=\"T_b370f9a4_5f12_11eb_b9d5_80ce62a0b43frow46_col0\" class=\"data row46 col0\" >Feature Ratio</td>\n",
       "                        <td id=\"T_b370f9a4_5f12_11eb_b9d5_80ce62a0b43frow46_col1\" class=\"data row46 col1\" >False</td>\n",
       "            </tr>\n",
       "            <tr>\n",
       "                        <th id=\"T_b370f9a4_5f12_11eb_b9d5_80ce62a0b43flevel0_row47\" class=\"row_heading level0 row47\" >47</th>\n",
       "                        <td id=\"T_b370f9a4_5f12_11eb_b9d5_80ce62a0b43frow47_col0\" class=\"data row47 col0\" >Interaction Threshold</td>\n",
       "                        <td id=\"T_b370f9a4_5f12_11eb_b9d5_80ce62a0b43frow47_col1\" class=\"data row47 col1\" >None</td>\n",
       "            </tr>\n",
       "    </tbody></table>"
      ],
      "text/plain": [
       "<pandas.io.formats.style.Styler at 0x1f31b47f208>"
      ]
     },
     "metadata": {},
     "output_type": "display_data"
    }
   ],
   "source": [
    "# Pycaret Anomaly Setup\n",
    "anom_setup = setup(data = original_df_train,\n",
    "                   session_id=1313, # sklearn \"random_state\"\n",
    "                   ignore_features=['Class'], \n",
    "                   preprocess=True,\n",
    "                   imputation_type='iterative',\n",
    "                   iterative_imputation_iters=30,\n",
    "                   combine_rare_levels=True,\n",
    "                   rare_level_threshold=0.01,\n",
    "                   numeric_imputation='median')"
   ]
  },
  {
   "cell_type": "markdown",
   "metadata": {},
   "source": [
    "### ANOMALY MODELS:"
   ]
  },
  {
   "cell_type": "markdown",
   "metadata": {},
   "source": [
    "**KNN**"
   ]
  },
  {
   "cell_type": "code",
   "execution_count": 7,
   "metadata": {},
   "outputs": [
    {
     "name": "stdout",
     "output_type": "stream",
     "text": [
      "Fitting knn took :402.725647687912 sec\n"
     ]
    }
   ],
   "source": [
    "# Creating model\n",
    "t0 = time.time()\n",
    "anom_model_knn = create_model('knn')\n",
    "t1 = time.time()\n",
    "print(\"Fitting knn took :{} sec\".format(t1 - t0))"
   ]
  },
  {
   "cell_type": "code",
   "execution_count": 8,
   "metadata": {},
   "outputs": [
    {
     "data": {
      "text/html": [
       "\n",
       "            <script src=\"/static/components/requirejs/require.js\"></script>\n",
       "            <script>\n",
       "              requirejs.config({\n",
       "                paths: {\n",
       "                  base: '/static/base',\n",
       "                  plotly: 'https://cdn.plot.ly/plotly-latest.min.js?noext',\n",
       "                },\n",
       "              });\n",
       "            </script>\n",
       "            "
      ],
      "text/plain": [
       "<IPython.core.display.HTML object>"
      ]
     },
     "metadata": {},
     "output_type": "display_data"
    }
   ],
   "source": [
    "# Assign Label with data\n",
    "anom_df_knn = assign_model(anom_model_knn)"
   ]
  },
  {
   "cell_type": "code",
   "execution_count": 9,
   "metadata": {},
   "outputs": [
    {
     "data": {
      "text/html": [
       "\n",
       "            <script src=\"/static/components/requirejs/require.js\"></script>\n",
       "            <script>\n",
       "              requirejs.config({\n",
       "                paths: {\n",
       "                  base: '/static/base',\n",
       "                  plotly: 'https://cdn.plot.ly/plotly-latest.min.js?noext',\n",
       "                },\n",
       "              });\n",
       "            </script>\n",
       "            "
      ],
      "text/plain": [
       "<IPython.core.display.HTML object>"
      ]
     },
     "metadata": {},
     "output_type": "display_data"
    },
    {
     "data": {
      "text/plain": [
       "0    216454\n",
       "1     11392\n",
       "Name: Anomaly, dtype: int64"
      ]
     },
     "execution_count": 9,
     "metadata": {},
     "output_type": "execute_result"
    }
   ],
   "source": [
    "# Check volumes\n",
    "anom_df_knn['Anomaly'].value_counts()"
   ]
  },
  {
   "cell_type": "code",
   "execution_count": 10,
   "metadata": {},
   "outputs": [
    {
     "data": {
      "text/html": [
       "\n",
       "            <script src=\"/static/components/requirejs/require.js\"></script>\n",
       "            <script>\n",
       "              requirejs.config({\n",
       "                paths: {\n",
       "                  base: '/static/base',\n",
       "                  plotly: 'https://cdn.plot.ly/plotly-latest.min.js?noext',\n",
       "                },\n",
       "              });\n",
       "            </script>\n",
       "            "
      ],
      "text/plain": [
       "<IPython.core.display.HTML object>"
      ]
     },
     "metadata": {},
     "output_type": "display_data"
    },
    {
     "data": {
      "text/html": [
       "<div>\n",
       "<style scoped>\n",
       "    .dataframe tbody tr th:only-of-type {\n",
       "        vertical-align: middle;\n",
       "    }\n",
       "\n",
       "    .dataframe tbody tr th {\n",
       "        vertical-align: top;\n",
       "    }\n",
       "\n",
       "    .dataframe thead th {\n",
       "        text-align: right;\n",
       "    }\n",
       "</style>\n",
       "<table border=\"1\" class=\"dataframe\">\n",
       "  <thead>\n",
       "    <tr style=\"text-align: right;\">\n",
       "      <th></th>\n",
       "      <th>Class</th>\n",
       "      <th>Anomaly</th>\n",
       "      <th>Freq</th>\n",
       "    </tr>\n",
       "  </thead>\n",
       "  <tbody>\n",
       "    <tr>\n",
       "      <th>0</th>\n",
       "      <td>0</td>\n",
       "      <td>0</td>\n",
       "      <td>216376</td>\n",
       "    </tr>\n",
       "    <tr>\n",
       "      <th>1</th>\n",
       "      <td>0</td>\n",
       "      <td>1</td>\n",
       "      <td>11076</td>\n",
       "    </tr>\n",
       "    <tr>\n",
       "      <th>2</th>\n",
       "      <td>1</td>\n",
       "      <td>0</td>\n",
       "      <td>78</td>\n",
       "    </tr>\n",
       "    <tr>\n",
       "      <th>3</th>\n",
       "      <td>1</td>\n",
       "      <td>1</td>\n",
       "      <td>316</td>\n",
       "    </tr>\n",
       "  </tbody>\n",
       "</table>\n",
       "</div>"
      ],
      "text/plain": [
       "   Class  Anomaly    Freq\n",
       "0      0        0  216376\n",
       "1      0        1   11076\n",
       "2      1        0      78\n",
       "3      1        1     316"
      ]
     },
     "execution_count": 10,
     "metadata": {},
     "output_type": "execute_result"
    }
   ],
   "source": [
    "# Crosstab wit target\n",
    "pd.crosstab(anom_df_knn['Class'], anom_df_knn['Anomaly']).stack().reset_index(name='Freq')"
   ]
  },
  {
   "cell_type": "code",
   "execution_count": 11,
   "metadata": {},
   "outputs": [
    {
     "data": {
      "text/html": [
       "\n",
       "            <script src=\"/static/components/requirejs/require.js\"></script>\n",
       "            <script>\n",
       "              requirejs.config({\n",
       "                paths: {\n",
       "                  base: '/static/base',\n",
       "                  plotly: 'https://cdn.plot.ly/plotly-latest.min.js?noext',\n",
       "                },\n",
       "              });\n",
       "            </script>\n",
       "            "
      ],
      "text/plain": [
       "<IPython.core.display.HTML object>"
      ]
     },
     "metadata": {},
     "output_type": "display_data"
    },
    {
     "data": {
      "text/plain": [
       "(Pipeline(memory=None,\n",
       "          steps=[('dtypes',\n",
       "                  DataTypes_Auto_infer(categorical_features=[],\n",
       "                                       display_types=True,\n",
       "                                       features_todrop=['Class'], id_columns=[],\n",
       "                                       ml_usecase='regression',\n",
       "                                       numerical_features=[],\n",
       "                                       target='UNSUPERVISED_DUMMY_TARGET',\n",
       "                                       time_features=[])),\n",
       "                 ('imputer',\n",
       "                  Iterative_Imputer(add_indicator=False,\n",
       "                                    classifier=LGBMClassifier(boosting_type='gbdt',\n",
       "                                                              class_weight...\n",
       " 227865  0.488747 -0.063826 -0.610194  0.007487 -0.013918      0        0   \n",
       " 227866  0.468036  0.571794 -0.403076  0.259078  0.077267      0        0   \n",
       " 227867  0.700880 -0.769575 -0.193723  0.143983  0.134559      0        0   \n",
       " 227868  0.609969 -0.695184  0.463574  0.119990  0.134411      0        0   \n",
       " \n",
       "         Anomaly_Score  \n",
       " 0            1.881069  \n",
       " 1            0.416298  \n",
       " 2            3.652251  \n",
       " 3            1.880649  \n",
       " 4            1.969569  \n",
       " ...               ...  \n",
       " 227864       3.258724  \n",
       " 227865       0.583978  \n",
       " 227866       3.166095  \n",
       " 227867       2.393118  \n",
       " 227868       1.101679  \n",
       " \n",
       " [227846 rows x 33 columns]]],\n",
       "          verbose=False),\n",
       " 'ANOM_KNN.pkl')"
      ]
     },
     "execution_count": 11,
     "metadata": {},
     "output_type": "execute_result"
    }
   ],
   "source": [
    "# Saving model\n",
    "save_model(anom_df_knn, 'ANOM_KNN', verbose=False)"
   ]
  },
  {
   "cell_type": "markdown",
   "metadata": {},
   "source": [
    "**Isolation Forest**"
   ]
  },
  {
   "cell_type": "code",
   "execution_count": 12,
   "metadata": {},
   "outputs": [
    {
     "name": "stdout",
     "output_type": "stream",
     "text": [
      "Fitting ift took :23.881831884384155 sec\n"
     ]
    }
   ],
   "source": [
    "# Creating model\n",
    "t0 = time.time()\n",
    "anom_model_ift = create_model('iforest')\n",
    "t1 = time.time()\n",
    "print(\"Fitting ift took :{} sec\".format(t1 - t0))"
   ]
  },
  {
   "cell_type": "code",
   "execution_count": 13,
   "metadata": {},
   "outputs": [
    {
     "data": {
      "text/html": [
       "\n",
       "            <script src=\"/static/components/requirejs/require.js\"></script>\n",
       "            <script>\n",
       "              requirejs.config({\n",
       "                paths: {\n",
       "                  base: '/static/base',\n",
       "                  plotly: 'https://cdn.plot.ly/plotly-latest.min.js?noext',\n",
       "                },\n",
       "              });\n",
       "            </script>\n",
       "            "
      ],
      "text/plain": [
       "<IPython.core.display.HTML object>"
      ]
     },
     "metadata": {},
     "output_type": "display_data"
    }
   ],
   "source": [
    "# Assign Label with data\n",
    "anom_df_ift = assign_model(anom_model_ift)"
   ]
  },
  {
   "cell_type": "code",
   "execution_count": 14,
   "metadata": {},
   "outputs": [
    {
     "data": {
      "text/html": [
       "\n",
       "            <script src=\"/static/components/requirejs/require.js\"></script>\n",
       "            <script>\n",
       "              requirejs.config({\n",
       "                paths: {\n",
       "                  base: '/static/base',\n",
       "                  plotly: 'https://cdn.plot.ly/plotly-latest.min.js?noext',\n",
       "                },\n",
       "              });\n",
       "            </script>\n",
       "            "
      ],
      "text/plain": [
       "<IPython.core.display.HTML object>"
      ]
     },
     "metadata": {},
     "output_type": "display_data"
    },
    {
     "data": {
      "text/plain": [
       "0    216453\n",
       "1     11393\n",
       "Name: Anomaly, dtype: int64"
      ]
     },
     "execution_count": 14,
     "metadata": {},
     "output_type": "execute_result"
    }
   ],
   "source": [
    "# Check volumes\n",
    "anom_df_ift['Anomaly'].value_counts()"
   ]
  },
  {
   "cell_type": "code",
   "execution_count": 15,
   "metadata": {},
   "outputs": [
    {
     "data": {
      "text/html": [
       "\n",
       "            <script src=\"/static/components/requirejs/require.js\"></script>\n",
       "            <script>\n",
       "              requirejs.config({\n",
       "                paths: {\n",
       "                  base: '/static/base',\n",
       "                  plotly: 'https://cdn.plot.ly/plotly-latest.min.js?noext',\n",
       "                },\n",
       "              });\n",
       "            </script>\n",
       "            "
      ],
      "text/plain": [
       "<IPython.core.display.HTML object>"
      ]
     },
     "metadata": {},
     "output_type": "display_data"
    },
    {
     "data": {
      "text/html": [
       "<div>\n",
       "<style scoped>\n",
       "    .dataframe tbody tr th:only-of-type {\n",
       "        vertical-align: middle;\n",
       "    }\n",
       "\n",
       "    .dataframe tbody tr th {\n",
       "        vertical-align: top;\n",
       "    }\n",
       "\n",
       "    .dataframe thead th {\n",
       "        text-align: right;\n",
       "    }\n",
       "</style>\n",
       "<table border=\"1\" class=\"dataframe\">\n",
       "  <thead>\n",
       "    <tr style=\"text-align: right;\">\n",
       "      <th></th>\n",
       "      <th>Class</th>\n",
       "      <th>Anomaly</th>\n",
       "      <th>Freq</th>\n",
       "    </tr>\n",
       "  </thead>\n",
       "  <tbody>\n",
       "    <tr>\n",
       "      <th>0</th>\n",
       "      <td>0</td>\n",
       "      <td>0</td>\n",
       "      <td>216400</td>\n",
       "    </tr>\n",
       "    <tr>\n",
       "      <th>1</th>\n",
       "      <td>0</td>\n",
       "      <td>1</td>\n",
       "      <td>11052</td>\n",
       "    </tr>\n",
       "    <tr>\n",
       "      <th>2</th>\n",
       "      <td>1</td>\n",
       "      <td>0</td>\n",
       "      <td>53</td>\n",
       "    </tr>\n",
       "    <tr>\n",
       "      <th>3</th>\n",
       "      <td>1</td>\n",
       "      <td>1</td>\n",
       "      <td>341</td>\n",
       "    </tr>\n",
       "  </tbody>\n",
       "</table>\n",
       "</div>"
      ],
      "text/plain": [
       "   Class  Anomaly    Freq\n",
       "0      0        0  216400\n",
       "1      0        1   11052\n",
       "2      1        0      53\n",
       "3      1        1     341"
      ]
     },
     "execution_count": 15,
     "metadata": {},
     "output_type": "execute_result"
    }
   ],
   "source": [
    "# Crosstab wit target\n",
    "pd.crosstab(anom_df_ift['Class'], anom_df_ift['Anomaly']).stack().reset_index(name='Freq')"
   ]
  },
  {
   "cell_type": "code",
   "execution_count": 16,
   "metadata": {},
   "outputs": [
    {
     "data": {
      "text/html": [
       "\n",
       "            <script src=\"/static/components/requirejs/require.js\"></script>\n",
       "            <script>\n",
       "              requirejs.config({\n",
       "                paths: {\n",
       "                  base: '/static/base',\n",
       "                  plotly: 'https://cdn.plot.ly/plotly-latest.min.js?noext',\n",
       "                },\n",
       "              });\n",
       "            </script>\n",
       "            "
      ],
      "text/plain": [
       "<IPython.core.display.HTML object>"
      ]
     },
     "metadata": {},
     "output_type": "display_data"
    },
    {
     "data": {
      "text/plain": [
       "(Pipeline(memory=None,\n",
       "          steps=[('dtypes',\n",
       "                  DataTypes_Auto_infer(categorical_features=[],\n",
       "                                       display_types=True,\n",
       "                                       features_todrop=['Class'], id_columns=[],\n",
       "                                       ml_usecase='regression',\n",
       "                                       numerical_features=[],\n",
       "                                       target='UNSUPERVISED_DUMMY_TARGET',\n",
       "                                       time_features=[])),\n",
       "                 ('imputer',\n",
       "                  Iterative_Imputer(add_indicator=False,\n",
       "                                    classifier=LGBMClassifier(boosting_type='gbdt',\n",
       "                                                              class_weight...\n",
       " 227865  0.488747 -0.063826 -0.610194  0.007487 -0.013918      0        0   \n",
       " 227866  0.468036  0.571794 -0.403076  0.259078  0.077267      0        0   \n",
       " 227867  0.700880 -0.769575 -0.193723  0.143983  0.134559      0        0   \n",
       " 227868  0.609969 -0.695184  0.463574  0.119990  0.134411      0        0   \n",
       " \n",
       "         Anomaly_Score  \n",
       " 0           -0.096091  \n",
       " 1           -0.108611  \n",
       " 2           -0.033654  \n",
       " 3           -0.063376  \n",
       " 4           -0.093594  \n",
       " ...               ...  \n",
       " 227864      -0.006987  \n",
       " 227865      -0.099860  \n",
       " 227866      -0.058475  \n",
       " 227867      -0.022128  \n",
       " 227868      -0.064628  \n",
       " \n",
       " [227846 rows x 33 columns]]],\n",
       "          verbose=False),\n",
       " 'ANOM_IFT.pkl')"
      ]
     },
     "execution_count": 16,
     "metadata": {},
     "output_type": "execute_result"
    }
   ],
   "source": [
    "# Saving model\n",
    "save_model(anom_df_ift, 'ANOM_IFT', verbose=False)"
   ]
  },
  {
   "cell_type": "markdown",
   "metadata": {},
   "source": [
    "**Clustering-Based Local Outlier**"
   ]
  },
  {
   "cell_type": "code",
   "execution_count": 17,
   "metadata": {},
   "outputs": [
    {
     "name": "stdout",
     "output_type": "stream",
     "text": [
      "Fitting clt took :20.332393646240234 sec\n"
     ]
    }
   ],
   "source": [
    "# Creating model\n",
    "t0 = time.time()\n",
    "anom_model_clt = create_model('cluster')\n",
    "t1 = time.time()\n",
    "print(\"Fitting clt took :{} sec\".format(t1 - t0))"
   ]
  },
  {
   "cell_type": "code",
   "execution_count": 18,
   "metadata": {},
   "outputs": [
    {
     "data": {
      "text/html": [
       "\n",
       "            <script src=\"/static/components/requirejs/require.js\"></script>\n",
       "            <script>\n",
       "              requirejs.config({\n",
       "                paths: {\n",
       "                  base: '/static/base',\n",
       "                  plotly: 'https://cdn.plot.ly/plotly-latest.min.js?noext',\n",
       "                },\n",
       "              });\n",
       "            </script>\n",
       "            "
      ],
      "text/plain": [
       "<IPython.core.display.HTML object>"
      ]
     },
     "metadata": {},
     "output_type": "display_data"
    }
   ],
   "source": [
    "# Assign Label with data\n",
    "anom_df_clt = assign_model(anom_model_clt)"
   ]
  },
  {
   "cell_type": "code",
   "execution_count": 19,
   "metadata": {},
   "outputs": [
    {
     "data": {
      "text/html": [
       "\n",
       "            <script src=\"/static/components/requirejs/require.js\"></script>\n",
       "            <script>\n",
       "              requirejs.config({\n",
       "                paths: {\n",
       "                  base: '/static/base',\n",
       "                  plotly: 'https://cdn.plot.ly/plotly-latest.min.js?noext',\n",
       "                },\n",
       "              });\n",
       "            </script>\n",
       "            "
      ],
      "text/plain": [
       "<IPython.core.display.HTML object>"
      ]
     },
     "metadata": {},
     "output_type": "display_data"
    },
    {
     "data": {
      "text/plain": [
       "0    216453\n",
       "1     11393\n",
       "Name: Anomaly, dtype: int64"
      ]
     },
     "execution_count": 19,
     "metadata": {},
     "output_type": "execute_result"
    }
   ],
   "source": [
    "# Check volumes\n",
    "anom_df_clt['Anomaly'].value_counts()"
   ]
  },
  {
   "cell_type": "code",
   "execution_count": 20,
   "metadata": {},
   "outputs": [
    {
     "data": {
      "text/html": [
       "\n",
       "            <script src=\"/static/components/requirejs/require.js\"></script>\n",
       "            <script>\n",
       "              requirejs.config({\n",
       "                paths: {\n",
       "                  base: '/static/base',\n",
       "                  plotly: 'https://cdn.plot.ly/plotly-latest.min.js?noext',\n",
       "                },\n",
       "              });\n",
       "            </script>\n",
       "            "
      ],
      "text/plain": [
       "<IPython.core.display.HTML object>"
      ]
     },
     "metadata": {},
     "output_type": "display_data"
    },
    {
     "data": {
      "text/html": [
       "<div>\n",
       "<style scoped>\n",
       "    .dataframe tbody tr th:only-of-type {\n",
       "        vertical-align: middle;\n",
       "    }\n",
       "\n",
       "    .dataframe tbody tr th {\n",
       "        vertical-align: top;\n",
       "    }\n",
       "\n",
       "    .dataframe thead th {\n",
       "        text-align: right;\n",
       "    }\n",
       "</style>\n",
       "<table border=\"1\" class=\"dataframe\">\n",
       "  <thead>\n",
       "    <tr style=\"text-align: right;\">\n",
       "      <th></th>\n",
       "      <th>Class</th>\n",
       "      <th>Anomaly</th>\n",
       "      <th>Freq</th>\n",
       "    </tr>\n",
       "  </thead>\n",
       "  <tbody>\n",
       "    <tr>\n",
       "      <th>0</th>\n",
       "      <td>0</td>\n",
       "      <td>0</td>\n",
       "      <td>216407</td>\n",
       "    </tr>\n",
       "    <tr>\n",
       "      <th>1</th>\n",
       "      <td>0</td>\n",
       "      <td>1</td>\n",
       "      <td>11045</td>\n",
       "    </tr>\n",
       "    <tr>\n",
       "      <th>2</th>\n",
       "      <td>1</td>\n",
       "      <td>0</td>\n",
       "      <td>46</td>\n",
       "    </tr>\n",
       "    <tr>\n",
       "      <th>3</th>\n",
       "      <td>1</td>\n",
       "      <td>1</td>\n",
       "      <td>348</td>\n",
       "    </tr>\n",
       "  </tbody>\n",
       "</table>\n",
       "</div>"
      ],
      "text/plain": [
       "   Class  Anomaly    Freq\n",
       "0      0        0  216407\n",
       "1      0        1   11045\n",
       "2      1        0      46\n",
       "3      1        1     348"
      ]
     },
     "execution_count": 20,
     "metadata": {},
     "output_type": "execute_result"
    }
   ],
   "source": [
    "# Crosstab wit target\n",
    "pd.crosstab(anom_df_clt['Class'], anom_df_clt['Anomaly']).stack().reset_index(name='Freq')"
   ]
  },
  {
   "cell_type": "code",
   "execution_count": 21,
   "metadata": {},
   "outputs": [
    {
     "data": {
      "text/html": [
       "\n",
       "            <script src=\"/static/components/requirejs/require.js\"></script>\n",
       "            <script>\n",
       "              requirejs.config({\n",
       "                paths: {\n",
       "                  base: '/static/base',\n",
       "                  plotly: 'https://cdn.plot.ly/plotly-latest.min.js?noext',\n",
       "                },\n",
       "              });\n",
       "            </script>\n",
       "            "
      ],
      "text/plain": [
       "<IPython.core.display.HTML object>"
      ]
     },
     "metadata": {},
     "output_type": "display_data"
    },
    {
     "data": {
      "text/plain": [
       "(Pipeline(memory=None,\n",
       "          steps=[('dtypes',\n",
       "                  DataTypes_Auto_infer(categorical_features=[],\n",
       "                                       display_types=True,\n",
       "                                       features_todrop=['Class'], id_columns=[],\n",
       "                                       ml_usecase='regression',\n",
       "                                       numerical_features=[],\n",
       "                                       target='UNSUPERVISED_DUMMY_TARGET',\n",
       "                                       time_features=[])),\n",
       "                 ('imputer',\n",
       "                  Iterative_Imputer(add_indicator=False,\n",
       "                                    classifier=LGBMClassifier(boosting_type='gbdt',\n",
       "                                                              class_weight...\n",
       " 227865  0.488747 -0.063826 -0.610194  0.007487 -0.013918      0        0   \n",
       " 227866  0.468036  0.571794 -0.403076  0.259078  0.077267      0        0   \n",
       " 227867  0.700880 -0.769575 -0.193723  0.143983  0.134559      0        0   \n",
       " 227868  0.609969 -0.695184  0.463574  0.119990  0.134411      0        0   \n",
       " \n",
       "         Anomaly_Score  \n",
       " 0            3.802538  \n",
       " 1            2.585942  \n",
       " 2            5.757281  \n",
       " 3            4.202669  \n",
       " 4            3.252548  \n",
       " ...               ...  \n",
       " 227864       6.945799  \n",
       " 227865       3.370518  \n",
       " 227866       4.965433  \n",
       " 227867       4.245115  \n",
       " 227868       6.144709  \n",
       " \n",
       " [227846 rows x 33 columns]]],\n",
       "          verbose=False),\n",
       " 'ANOM_CLT.pkl')"
      ]
     },
     "execution_count": 21,
     "metadata": {},
     "output_type": "execute_result"
    }
   ],
   "source": [
    "# Saving model\n",
    "save_model(anom_df_clt, 'ANOM_CLT', verbose=False)"
   ]
  },
  {
   "cell_type": "markdown",
   "metadata": {},
   "source": [
    "**Histogram-based Outlier Detection**"
   ]
  },
  {
   "cell_type": "code",
   "execution_count": 22,
   "metadata": {},
   "outputs": [
    {
     "name": "stdout",
     "output_type": "stream",
     "text": [
      "Fitting his took :2.0970592498779297 sec\n"
     ]
    }
   ],
   "source": [
    "# Creating model\n",
    "t0 = time.time()\n",
    "anom_model_his = create_model('histogram')\n",
    "t1 = time.time()\n",
    "print(\"Fitting his took :{} sec\".format(t1 - t0))"
   ]
  },
  {
   "cell_type": "code",
   "execution_count": 23,
   "metadata": {},
   "outputs": [
    {
     "data": {
      "text/html": [
       "\n",
       "            <script src=\"/static/components/requirejs/require.js\"></script>\n",
       "            <script>\n",
       "              requirejs.config({\n",
       "                paths: {\n",
       "                  base: '/static/base',\n",
       "                  plotly: 'https://cdn.plot.ly/plotly-latest.min.js?noext',\n",
       "                },\n",
       "              });\n",
       "            </script>\n",
       "            "
      ],
      "text/plain": [
       "<IPython.core.display.HTML object>"
      ]
     },
     "metadata": {},
     "output_type": "display_data"
    }
   ],
   "source": [
    "# Assign Label with data\n",
    "anom_df_his = assign_model(anom_model_his)"
   ]
  },
  {
   "cell_type": "code",
   "execution_count": 24,
   "metadata": {},
   "outputs": [
    {
     "data": {
      "text/html": [
       "\n",
       "            <script src=\"/static/components/requirejs/require.js\"></script>\n",
       "            <script>\n",
       "              requirejs.config({\n",
       "                paths: {\n",
       "                  base: '/static/base',\n",
       "                  plotly: 'https://cdn.plot.ly/plotly-latest.min.js?noext',\n",
       "                },\n",
       "              });\n",
       "            </script>\n",
       "            "
      ],
      "text/plain": [
       "<IPython.core.display.HTML object>"
      ]
     },
     "metadata": {},
     "output_type": "display_data"
    },
    {
     "data": {
      "text/plain": [
       "0    216453\n",
       "1     11393\n",
       "Name: Anomaly, dtype: int64"
      ]
     },
     "execution_count": 24,
     "metadata": {},
     "output_type": "execute_result"
    }
   ],
   "source": [
    "# Check volumes\n",
    "anom_df_his['Anomaly'].value_counts()"
   ]
  },
  {
   "cell_type": "code",
   "execution_count": 25,
   "metadata": {},
   "outputs": [
    {
     "data": {
      "text/html": [
       "\n",
       "            <script src=\"/static/components/requirejs/require.js\"></script>\n",
       "            <script>\n",
       "              requirejs.config({\n",
       "                paths: {\n",
       "                  base: '/static/base',\n",
       "                  plotly: 'https://cdn.plot.ly/plotly-latest.min.js?noext',\n",
       "                },\n",
       "              });\n",
       "            </script>\n",
       "            "
      ],
      "text/plain": [
       "<IPython.core.display.HTML object>"
      ]
     },
     "metadata": {},
     "output_type": "display_data"
    },
    {
     "data": {
      "text/html": [
       "<div>\n",
       "<style scoped>\n",
       "    .dataframe tbody tr th:only-of-type {\n",
       "        vertical-align: middle;\n",
       "    }\n",
       "\n",
       "    .dataframe tbody tr th {\n",
       "        vertical-align: top;\n",
       "    }\n",
       "\n",
       "    .dataframe thead th {\n",
       "        text-align: right;\n",
       "    }\n",
       "</style>\n",
       "<table border=\"1\" class=\"dataframe\">\n",
       "  <thead>\n",
       "    <tr style=\"text-align: right;\">\n",
       "      <th></th>\n",
       "      <th>Class</th>\n",
       "      <th>Anomaly</th>\n",
       "      <th>Freq</th>\n",
       "    </tr>\n",
       "  </thead>\n",
       "  <tbody>\n",
       "    <tr>\n",
       "      <th>0</th>\n",
       "      <td>0</td>\n",
       "      <td>0</td>\n",
       "      <td>216398</td>\n",
       "    </tr>\n",
       "    <tr>\n",
       "      <th>1</th>\n",
       "      <td>0</td>\n",
       "      <td>1</td>\n",
       "      <td>11054</td>\n",
       "    </tr>\n",
       "    <tr>\n",
       "      <th>2</th>\n",
       "      <td>1</td>\n",
       "      <td>0</td>\n",
       "      <td>55</td>\n",
       "    </tr>\n",
       "    <tr>\n",
       "      <th>3</th>\n",
       "      <td>1</td>\n",
       "      <td>1</td>\n",
       "      <td>339</td>\n",
       "    </tr>\n",
       "  </tbody>\n",
       "</table>\n",
       "</div>"
      ],
      "text/plain": [
       "   Class  Anomaly    Freq\n",
       "0      0        0  216398\n",
       "1      0        1   11054\n",
       "2      1        0      55\n",
       "3      1        1     339"
      ]
     },
     "execution_count": 25,
     "metadata": {},
     "output_type": "execute_result"
    }
   ],
   "source": [
    "# Crosstab wit target\n",
    "pd.crosstab(anom_df_his['Class'], anom_df_his['Anomaly']).stack().reset_index(name='Freq')"
   ]
  },
  {
   "cell_type": "code",
   "execution_count": 26,
   "metadata": {},
   "outputs": [
    {
     "data": {
      "text/html": [
       "\n",
       "            <script src=\"/static/components/requirejs/require.js\"></script>\n",
       "            <script>\n",
       "              requirejs.config({\n",
       "                paths: {\n",
       "                  base: '/static/base',\n",
       "                  plotly: 'https://cdn.plot.ly/plotly-latest.min.js?noext',\n",
       "                },\n",
       "              });\n",
       "            </script>\n",
       "            "
      ],
      "text/plain": [
       "<IPython.core.display.HTML object>"
      ]
     },
     "metadata": {},
     "output_type": "display_data"
    },
    {
     "data": {
      "text/plain": [
       "(Pipeline(memory=None,\n",
       "          steps=[('dtypes',\n",
       "                  DataTypes_Auto_infer(categorical_features=[],\n",
       "                                       display_types=True,\n",
       "                                       features_todrop=['Class'], id_columns=[],\n",
       "                                       ml_usecase='regression',\n",
       "                                       numerical_features=[],\n",
       "                                       target='UNSUPERVISED_DUMMY_TARGET',\n",
       "                                       time_features=[])),\n",
       "                 ('imputer',\n",
       "                  Iterative_Imputer(add_indicator=False,\n",
       "                                    classifier=LGBMClassifier(boosting_type='gbdt',\n",
       "                                                              class_weight...\n",
       " 227865  0.488747 -0.063826 -0.610194  0.007487 -0.013918      0        0   \n",
       " 227866  0.468036  0.571794 -0.403076  0.259078  0.077267      0        0   \n",
       " 227867  0.700880 -0.769575 -0.193723  0.143983  0.134559      0        0   \n",
       " 227868  0.609969 -0.695184  0.463574  0.119990  0.134411      0        0   \n",
       " \n",
       "         Anomaly_Score  \n",
       " 0           49.820639  \n",
       " 1           48.483055  \n",
       " 2           54.262055  \n",
       " 3           55.701699  \n",
       " 4           49.609469  \n",
       " ...               ...  \n",
       " 227864      53.114194  \n",
       " 227865      46.658967  \n",
       " 227866      55.866608  \n",
       " 227867      53.992354  \n",
       " 227868      54.743467  \n",
       " \n",
       " [227846 rows x 33 columns]]],\n",
       "          verbose=False),\n",
       " 'ANOM_HIS.pkl')"
      ]
     },
     "execution_count": 26,
     "metadata": {},
     "output_type": "execute_result"
    }
   ],
   "source": [
    "# Saving model\n",
    "save_model(anom_df_his, 'ANOM_HIS', verbose=False)"
   ]
  },
  {
   "cell_type": "markdown",
   "metadata": {},
   "source": [
    "**Principal Component Analysis**"
   ]
  },
  {
   "cell_type": "code",
   "execution_count": 27,
   "metadata": {},
   "outputs": [
    {
     "name": "stdout",
     "output_type": "stream",
     "text": [
      "Fitting pca took :3.8145229816436768 sec\n"
     ]
    }
   ],
   "source": [
    "# Creating model\n",
    "t0 = time.time()\n",
    "anom_model_pca = create_model('pca')\n",
    "t1 = time.time()\n",
    "print(\"Fitting pca took :{} sec\".format(t1 - t0))"
   ]
  },
  {
   "cell_type": "code",
   "execution_count": 28,
   "metadata": {},
   "outputs": [
    {
     "data": {
      "text/html": [
       "\n",
       "            <script src=\"/static/components/requirejs/require.js\"></script>\n",
       "            <script>\n",
       "              requirejs.config({\n",
       "                paths: {\n",
       "                  base: '/static/base',\n",
       "                  plotly: 'https://cdn.plot.ly/plotly-latest.min.js?noext',\n",
       "                },\n",
       "              });\n",
       "            </script>\n",
       "            "
      ],
      "text/plain": [
       "<IPython.core.display.HTML object>"
      ]
     },
     "metadata": {},
     "output_type": "display_data"
    }
   ],
   "source": [
    "# Assign Label with data\n",
    "anom_df_pca = assign_model(anom_model_pca)"
   ]
  },
  {
   "cell_type": "code",
   "execution_count": 29,
   "metadata": {},
   "outputs": [
    {
     "data": {
      "text/html": [
       "\n",
       "            <script src=\"/static/components/requirejs/require.js\"></script>\n",
       "            <script>\n",
       "              requirejs.config({\n",
       "                paths: {\n",
       "                  base: '/static/base',\n",
       "                  plotly: 'https://cdn.plot.ly/plotly-latest.min.js?noext',\n",
       "                },\n",
       "              });\n",
       "            </script>\n",
       "            "
      ],
      "text/plain": [
       "<IPython.core.display.HTML object>"
      ]
     },
     "metadata": {},
     "output_type": "display_data"
    },
    {
     "data": {
      "text/plain": [
       "0    216453\n",
       "1     11393\n",
       "Name: Anomaly, dtype: int64"
      ]
     },
     "execution_count": 29,
     "metadata": {},
     "output_type": "execute_result"
    }
   ],
   "source": [
    "# Check volumes\n",
    "anom_df_pca['Anomaly'].value_counts()"
   ]
  },
  {
   "cell_type": "code",
   "execution_count": 30,
   "metadata": {},
   "outputs": [
    {
     "data": {
      "text/html": [
       "\n",
       "            <script src=\"/static/components/requirejs/require.js\"></script>\n",
       "            <script>\n",
       "              requirejs.config({\n",
       "                paths: {\n",
       "                  base: '/static/base',\n",
       "                  plotly: 'https://cdn.plot.ly/plotly-latest.min.js?noext',\n",
       "                },\n",
       "              });\n",
       "            </script>\n",
       "            "
      ],
      "text/plain": [
       "<IPython.core.display.HTML object>"
      ]
     },
     "metadata": {},
     "output_type": "display_data"
    },
    {
     "data": {
      "text/html": [
       "<div>\n",
       "<style scoped>\n",
       "    .dataframe tbody tr th:only-of-type {\n",
       "        vertical-align: middle;\n",
       "    }\n",
       "\n",
       "    .dataframe tbody tr th {\n",
       "        vertical-align: top;\n",
       "    }\n",
       "\n",
       "    .dataframe thead th {\n",
       "        text-align: right;\n",
       "    }\n",
       "</style>\n",
       "<table border=\"1\" class=\"dataframe\">\n",
       "  <thead>\n",
       "    <tr style=\"text-align: right;\">\n",
       "      <th></th>\n",
       "      <th>Class</th>\n",
       "      <th>Anomaly</th>\n",
       "      <th>Freq</th>\n",
       "    </tr>\n",
       "  </thead>\n",
       "  <tbody>\n",
       "    <tr>\n",
       "      <th>0</th>\n",
       "      <td>0</td>\n",
       "      <td>0</td>\n",
       "      <td>216407</td>\n",
       "    </tr>\n",
       "    <tr>\n",
       "      <th>1</th>\n",
       "      <td>0</td>\n",
       "      <td>1</td>\n",
       "      <td>11045</td>\n",
       "    </tr>\n",
       "    <tr>\n",
       "      <th>2</th>\n",
       "      <td>1</td>\n",
       "      <td>0</td>\n",
       "      <td>46</td>\n",
       "    </tr>\n",
       "    <tr>\n",
       "      <th>3</th>\n",
       "      <td>1</td>\n",
       "      <td>1</td>\n",
       "      <td>348</td>\n",
       "    </tr>\n",
       "  </tbody>\n",
       "</table>\n",
       "</div>"
      ],
      "text/plain": [
       "   Class  Anomaly    Freq\n",
       "0      0        0  216407\n",
       "1      0        1   11045\n",
       "2      1        0      46\n",
       "3      1        1     348"
      ]
     },
     "execution_count": 30,
     "metadata": {},
     "output_type": "execute_result"
    }
   ],
   "source": [
    "# Crosstab wit target\n",
    "pd.crosstab(anom_df_pca['Class'], anom_df_pca['Anomaly']).stack().reset_index(name='Freq')"
   ]
  },
  {
   "cell_type": "code",
   "execution_count": 31,
   "metadata": {
    "scrolled": false
   },
   "outputs": [
    {
     "data": {
      "text/html": [
       "\n",
       "            <script src=\"/static/components/requirejs/require.js\"></script>\n",
       "            <script>\n",
       "              requirejs.config({\n",
       "                paths: {\n",
       "                  base: '/static/base',\n",
       "                  plotly: 'https://cdn.plot.ly/plotly-latest.min.js?noext',\n",
       "                },\n",
       "              });\n",
       "            </script>\n",
       "            "
      ],
      "text/plain": [
       "<IPython.core.display.HTML object>"
      ]
     },
     "metadata": {},
     "output_type": "display_data"
    },
    {
     "data": {
      "text/plain": [
       "(Pipeline(memory=None,\n",
       "          steps=[('dtypes',\n",
       "                  DataTypes_Auto_infer(categorical_features=[],\n",
       "                                       display_types=True,\n",
       "                                       features_todrop=['Class'], id_columns=[],\n",
       "                                       ml_usecase='regression',\n",
       "                                       numerical_features=[],\n",
       "                                       target='UNSUPERVISED_DUMMY_TARGET',\n",
       "                                       time_features=[])),\n",
       "                 ('imputer',\n",
       "                  Iterative_Imputer(add_indicator=False,\n",
       "                                    classifier=LGBMClassifier(boosting_type='gbdt',\n",
       "                                                              class_weight...\n",
       " 227866  0.468036  0.571794 -0.403076  0.259078  0.077267      0        0   \n",
       " 227867  0.700880 -0.769575 -0.193723  0.143983  0.134559      0        0   \n",
       " 227868  0.609969 -0.695184  0.463574  0.119990  0.134411      0        0   \n",
       " \n",
       "         Anomaly_Score  \n",
       " 0         6191.736288  \n",
       " 1         5487.197142  \n",
       " 2        10978.804240  \n",
       " 3         8259.160986  \n",
       " 4         6668.237090  \n",
       " ...               ...  \n",
       " 227864   11803.761272  \n",
       " 227865    6443.536981  \n",
       " 227866    9706.444952  \n",
       " 227867   10653.463355  \n",
       " 227868    9367.867973  \n",
       " \n",
       " [227846 rows x 33 columns]]],\n",
       "          verbose=False),\n",
       " 'ANOM_PCA.pkl')"
      ]
     },
     "execution_count": 31,
     "metadata": {},
     "output_type": "execute_result"
    }
   ],
   "source": [
    "# Saving model\n",
    "save_model(anom_df_pca, 'ANOM_PCA', verbose=False)"
   ]
  },
  {
   "cell_type": "markdown",
   "metadata": {},
   "source": [
    "**Minimum Covariance Determinant**"
   ]
  },
  {
   "cell_type": "code",
   "execution_count": 32,
   "metadata": {},
   "outputs": [
    {
     "name": "stdout",
     "output_type": "stream",
     "text": [
      "Fitting mcd took :142.09781455993652 sec\n"
     ]
    }
   ],
   "source": [
    "# Creating model\n",
    "t0 = time.time()\n",
    "anom_model_mcd = create_model('mcd')\n",
    "t1 = time.time()\n",
    "print(\"Fitting mcd took :{} sec\".format(t1 - t0))"
   ]
  },
  {
   "cell_type": "code",
   "execution_count": 33,
   "metadata": {},
   "outputs": [
    {
     "data": {
      "text/html": [
       "\n",
       "            <script src=\"/static/components/requirejs/require.js\"></script>\n",
       "            <script>\n",
       "              requirejs.config({\n",
       "                paths: {\n",
       "                  base: '/static/base',\n",
       "                  plotly: 'https://cdn.plot.ly/plotly-latest.min.js?noext',\n",
       "                },\n",
       "              });\n",
       "            </script>\n",
       "            "
      ],
      "text/plain": [
       "<IPython.core.display.HTML object>"
      ]
     },
     "metadata": {},
     "output_type": "display_data"
    }
   ],
   "source": [
    "# Assign Label with data\n",
    "anom_df_mcd = assign_model(anom_model_mcd)"
   ]
  },
  {
   "cell_type": "code",
   "execution_count": 34,
   "metadata": {},
   "outputs": [
    {
     "data": {
      "text/html": [
       "\n",
       "            <script src=\"/static/components/requirejs/require.js\"></script>\n",
       "            <script>\n",
       "              requirejs.config({\n",
       "                paths: {\n",
       "                  base: '/static/base',\n",
       "                  plotly: 'https://cdn.plot.ly/plotly-latest.min.js?noext',\n",
       "                },\n",
       "              });\n",
       "            </script>\n",
       "            "
      ],
      "text/plain": [
       "<IPython.core.display.HTML object>"
      ]
     },
     "metadata": {},
     "output_type": "display_data"
    },
    {
     "data": {
      "text/plain": [
       "0    216453\n",
       "1     11393\n",
       "Name: Anomaly, dtype: int64"
      ]
     },
     "execution_count": 34,
     "metadata": {},
     "output_type": "execute_result"
    }
   ],
   "source": [
    "# Check volumes\n",
    "anom_df_mcd['Anomaly'].value_counts()"
   ]
  },
  {
   "cell_type": "code",
   "execution_count": 35,
   "metadata": {},
   "outputs": [
    {
     "data": {
      "text/html": [
       "\n",
       "            <script src=\"/static/components/requirejs/require.js\"></script>\n",
       "            <script>\n",
       "              requirejs.config({\n",
       "                paths: {\n",
       "                  base: '/static/base',\n",
       "                  plotly: 'https://cdn.plot.ly/plotly-latest.min.js?noext',\n",
       "                },\n",
       "              });\n",
       "            </script>\n",
       "            "
      ],
      "text/plain": [
       "<IPython.core.display.HTML object>"
      ]
     },
     "metadata": {},
     "output_type": "display_data"
    },
    {
     "data": {
      "text/html": [
       "<div>\n",
       "<style scoped>\n",
       "    .dataframe tbody tr th:only-of-type {\n",
       "        vertical-align: middle;\n",
       "    }\n",
       "\n",
       "    .dataframe tbody tr th {\n",
       "        vertical-align: top;\n",
       "    }\n",
       "\n",
       "    .dataframe thead th {\n",
       "        text-align: right;\n",
       "    }\n",
       "</style>\n",
       "<table border=\"1\" class=\"dataframe\">\n",
       "  <thead>\n",
       "    <tr style=\"text-align: right;\">\n",
       "      <th></th>\n",
       "      <th>Class</th>\n",
       "      <th>Anomaly</th>\n",
       "      <th>Freq</th>\n",
       "    </tr>\n",
       "  </thead>\n",
       "  <tbody>\n",
       "    <tr>\n",
       "      <th>0</th>\n",
       "      <td>0</td>\n",
       "      <td>0</td>\n",
       "      <td>216218</td>\n",
       "    </tr>\n",
       "    <tr>\n",
       "      <th>1</th>\n",
       "      <td>0</td>\n",
       "      <td>1</td>\n",
       "      <td>11234</td>\n",
       "    </tr>\n",
       "    <tr>\n",
       "      <th>2</th>\n",
       "      <td>1</td>\n",
       "      <td>0</td>\n",
       "      <td>235</td>\n",
       "    </tr>\n",
       "    <tr>\n",
       "      <th>3</th>\n",
       "      <td>1</td>\n",
       "      <td>1</td>\n",
       "      <td>159</td>\n",
       "    </tr>\n",
       "  </tbody>\n",
       "</table>\n",
       "</div>"
      ],
      "text/plain": [
       "   Class  Anomaly    Freq\n",
       "0      0        0  216218\n",
       "1      0        1   11234\n",
       "2      1        0     235\n",
       "3      1        1     159"
      ]
     },
     "execution_count": 35,
     "metadata": {},
     "output_type": "execute_result"
    }
   ],
   "source": [
    "# Crosstab wit target\n",
    "pd.crosstab(anom_df_mcd['Class'], anom_df_mcd['Anomaly']).stack().reset_index(name='Freq')"
   ]
  },
  {
   "cell_type": "code",
   "execution_count": 36,
   "metadata": {
    "scrolled": false
   },
   "outputs": [
    {
     "data": {
      "text/html": [
       "\n",
       "            <script src=\"/static/components/requirejs/require.js\"></script>\n",
       "            <script>\n",
       "              requirejs.config({\n",
       "                paths: {\n",
       "                  base: '/static/base',\n",
       "                  plotly: 'https://cdn.plot.ly/plotly-latest.min.js?noext',\n",
       "                },\n",
       "              });\n",
       "            </script>\n",
       "            "
      ],
      "text/plain": [
       "<IPython.core.display.HTML object>"
      ]
     },
     "metadata": {},
     "output_type": "display_data"
    },
    {
     "data": {
      "text/plain": [
       "(Pipeline(memory=None,\n",
       "          steps=[('dtypes',\n",
       "                  DataTypes_Auto_infer(categorical_features=[],\n",
       "                                       display_types=True,\n",
       "                                       features_todrop=['Class'], id_columns=[],\n",
       "                                       ml_usecase='regression',\n",
       "                                       numerical_features=[],\n",
       "                                       target='UNSUPERVISED_DUMMY_TARGET',\n",
       "                                       time_features=[])),\n",
       "                 ('imputer',\n",
       "                  Iterative_Imputer(add_indicator=False,\n",
       "                                    classifier=LGBMClassifier(boosting_type='gbdt',\n",
       "                                                              class_weight...\n",
       " 227865  0.488747 -0.063826 -0.610194  0.007487 -0.013918      0        0   \n",
       " 227866  0.468036  0.571794 -0.403076  0.259078  0.077267      0        0   \n",
       " 227867  0.700880 -0.769575 -0.193723  0.143983  0.134559      0        0   \n",
       " 227868  0.609969 -0.695184  0.463574  0.119990  0.134411      0        0   \n",
       " \n",
       "         Anomaly_Score  \n",
       " 0         5657.766140  \n",
       " 1           16.152076  \n",
       " 2        71542.468683  \n",
       " 3         7348.447465  \n",
       " 4         2264.473518  \n",
       " ...               ...  \n",
       " 227864    1195.730918  \n",
       " 227865      12.976124  \n",
       " 227866    2978.723918  \n",
       " 227867     645.241759  \n",
       " 227868     798.000279  \n",
       " \n",
       " [227846 rows x 33 columns]]],\n",
       "          verbose=False),\n",
       " 'ANOM_MCD.pkl')"
      ]
     },
     "execution_count": 36,
     "metadata": {},
     "output_type": "execute_result"
    }
   ],
   "source": [
    "# Saving model\n",
    "save_model(anom_df_mcd, 'ANOM_MCD', verbose=False)"
   ]
  },
  {
   "cell_type": "code",
   "execution_count": 37,
   "metadata": {},
   "outputs": [
    {
     "data": {
      "text/html": [
       "\n",
       "            <script src=\"/static/components/requirejs/require.js\"></script>\n",
       "            <script>\n",
       "              requirejs.config({\n",
       "                paths: {\n",
       "                  base: '/static/base',\n",
       "                  plotly: 'https://cdn.plot.ly/plotly-latest.min.js?noext',\n",
       "                },\n",
       "              });\n",
       "            </script>\n",
       "            "
      ],
      "text/plain": [
       "<IPython.core.display.HTML object>"
      ]
     },
     "metadata": {},
     "output_type": "display_data"
    }
   ],
   "source": [
    "# Sintetic information\n",
    "KNN = pd.crosstab(anom_df_knn['Class'], anom_df_knn['Anomaly']).stack().reset_index(name='Freq')\n",
    "KNN = KNN.rename(columns={'Freq': 'KNN'})\n",
    "\n",
    "IFT = pd.crosstab(anom_df_ift['Class'], anom_df_ift['Anomaly']).stack().reset_index(name='Freq')\n",
    "IFT = IFT.rename(columns={'Freq': 'IFT'})\n",
    "\n",
    "CLT = pd.crosstab(anom_df_clt['Class'], anom_df_clt['Anomaly']).stack().reset_index(name='Freq')\n",
    "CLT = CLT.rename(columns={'Freq': 'CLT'})\n",
    "\n",
    "HIS = pd.crosstab(anom_df_his['Class'], anom_df_his['Anomaly']).stack().reset_index(name='Freq')\n",
    "HIS = HIS.rename(columns={'Freq': 'HIS'})\n",
    "\n",
    "PCA = pd.crosstab(anom_df_pca['Class'], anom_df_pca['Anomaly']).stack().reset_index(name='Freq')\n",
    "PCA = PCA.rename(columns={'Freq': 'PCA'})\n",
    "\n",
    "MCD = pd.crosstab(anom_df_mcd['Class'], anom_df_mcd['Anomaly']).stack().reset_index(name='Freq')\n",
    "MCD = MCD.rename(columns={'Freq': 'MCD'})"
   ]
  },
  {
   "cell_type": "code",
   "execution_count": 38,
   "metadata": {},
   "outputs": [
    {
     "data": {
      "text/html": [
       "\n",
       "            <script src=\"/static/components/requirejs/require.js\"></script>\n",
       "            <script>\n",
       "              requirejs.config({\n",
       "                paths: {\n",
       "                  base: '/static/base',\n",
       "                  plotly: 'https://cdn.plot.ly/plotly-latest.min.js?noext',\n",
       "                },\n",
       "              });\n",
       "            </script>\n",
       "            "
      ],
      "text/plain": [
       "<IPython.core.display.HTML object>"
      ]
     },
     "metadata": {},
     "output_type": "display_data"
    },
    {
     "data": {
      "text/html": [
       "<div>\n",
       "<style scoped>\n",
       "    .dataframe tbody tr th:only-of-type {\n",
       "        vertical-align: middle;\n",
       "    }\n",
       "\n",
       "    .dataframe tbody tr th {\n",
       "        vertical-align: top;\n",
       "    }\n",
       "\n",
       "    .dataframe thead th {\n",
       "        text-align: right;\n",
       "    }\n",
       "</style>\n",
       "<table border=\"1\" class=\"dataframe\">\n",
       "  <thead>\n",
       "    <tr style=\"text-align: right;\">\n",
       "      <th></th>\n",
       "      <th>Class</th>\n",
       "      <th>Anomaly</th>\n",
       "      <th>KNN</th>\n",
       "      <th>IFT</th>\n",
       "      <th>CLT</th>\n",
       "      <th>HIS</th>\n",
       "      <th>PCA</th>\n",
       "      <th>MCD</th>\n",
       "    </tr>\n",
       "  </thead>\n",
       "  <tbody>\n",
       "    <tr>\n",
       "      <th>0</th>\n",
       "      <td>0</td>\n",
       "      <td>0</td>\n",
       "      <td>216376</td>\n",
       "      <td>216400</td>\n",
       "      <td>216407</td>\n",
       "      <td>216398</td>\n",
       "      <td>216407</td>\n",
       "      <td>216218</td>\n",
       "    </tr>\n",
       "    <tr>\n",
       "      <th>1</th>\n",
       "      <td>0</td>\n",
       "      <td>1</td>\n",
       "      <td>11076</td>\n",
       "      <td>11052</td>\n",
       "      <td>11045</td>\n",
       "      <td>11054</td>\n",
       "      <td>11045</td>\n",
       "      <td>11234</td>\n",
       "    </tr>\n",
       "    <tr>\n",
       "      <th>2</th>\n",
       "      <td>1</td>\n",
       "      <td>0</td>\n",
       "      <td>78</td>\n",
       "      <td>53</td>\n",
       "      <td>46</td>\n",
       "      <td>55</td>\n",
       "      <td>46</td>\n",
       "      <td>235</td>\n",
       "    </tr>\n",
       "    <tr>\n",
       "      <th>3</th>\n",
       "      <td>1</td>\n",
       "      <td>1</td>\n",
       "      <td>316</td>\n",
       "      <td>341</td>\n",
       "      <td>348</td>\n",
       "      <td>339</td>\n",
       "      <td>348</td>\n",
       "      <td>159</td>\n",
       "    </tr>\n",
       "  </tbody>\n",
       "</table>\n",
       "</div>"
      ],
      "text/plain": [
       "   Class  Anomaly     KNN     IFT     CLT     HIS     PCA     MCD\n",
       "0      0        0  216376  216400  216407  216398  216407  216218\n",
       "1      0        1   11076   11052   11045   11054   11045   11234\n",
       "2      1        0      78      53      46      55      46     235\n",
       "3      1        1     316     341     348     339     348     159"
      ]
     },
     "execution_count": 38,
     "metadata": {},
     "output_type": "execute_result"
    }
   ],
   "source": [
    "# Merge train results\n",
    "models_list = [KNN, IFT, CLT, HIS, PCA, MCD]\n",
    "results = reduce(lambda  left,right: pd.merge(left,right, how='left'), models_list)\n",
    "results.head()"
   ]
  },
  {
   "cell_type": "markdown",
   "metadata": {},
   "source": [
    "#### Now we'll predict our anomalies in the test set"
   ]
  },
  {
   "cell_type": "code",
   "execution_count": 39,
   "metadata": {},
   "outputs": [
    {
     "data": {
      "text/html": [
       "\n",
       "            <script src=\"/static/components/requirejs/require.js\"></script>\n",
       "            <script>\n",
       "              requirejs.config({\n",
       "                paths: {\n",
       "                  base: '/static/base',\n",
       "                  plotly: 'https://cdn.plot.ly/plotly-latest.min.js?noext',\n",
       "                },\n",
       "              });\n",
       "            </script>\n",
       "            "
      ],
      "text/plain": [
       "<IPython.core.display.HTML object>"
      ]
     },
     "metadata": {},
     "output_type": "display_data"
    }
   ],
   "source": [
    "# Test dataframes\n",
    "KNN_TEST = predict_model(model=anom_model_knn, data=original_df_test)\n",
    "IFT_TEST = predict_model(model=anom_model_ift, data=original_df_test)\n",
    "CLT_TEST = predict_model(model=anom_model_clt, data=original_df_test)\n",
    "HIS_TEST = predict_model(model=anom_model_his, data=original_df_test)\n",
    "PCA_TEST = predict_model(model=anom_model_pca, data=original_df_test)\n",
    "MCD_TEST = predict_model(model=anom_model_mcd, data=original_df_test)"
   ]
  },
  {
   "cell_type": "code",
   "execution_count": 40,
   "metadata": {},
   "outputs": [
    {
     "data": {
      "text/html": [
       "\n",
       "            <script src=\"/static/components/requirejs/require.js\"></script>\n",
       "            <script>\n",
       "              requirejs.config({\n",
       "                paths: {\n",
       "                  base: '/static/base',\n",
       "                  plotly: 'https://cdn.plot.ly/plotly-latest.min.js?noext',\n",
       "                },\n",
       "              });\n",
       "            </script>\n",
       "            "
      ],
      "text/plain": [
       "<IPython.core.display.HTML object>"
      ]
     },
     "metadata": {},
     "output_type": "display_data"
    }
   ],
   "source": [
    "# Sintetic information of test dataframe\n",
    "KNN = pd.crosstab(KNN_TEST['Class'], KNN_TEST['Anomaly']).stack().reset_index(name='Freq')\n",
    "KNN = KNN.rename(columns={'Freq': 'KNN'})\n",
    "\n",
    "IFT = pd.crosstab(IFT_TEST['Class'], IFT_TEST['Anomaly']).stack().reset_index(name='Freq')\n",
    "IFT = IFT.rename(columns={'Freq': 'IFT'})\n",
    "\n",
    "CLT = pd.crosstab(CLT_TEST['Class'], CLT_TEST['Anomaly']).stack().reset_index(name='Freq')\n",
    "CLT = CLT.rename(columns={'Freq': 'CLT'})\n",
    "\n",
    "HIS = pd.crosstab(HIS_TEST['Class'], HIS_TEST['Anomaly']).stack().reset_index(name='Freq')\n",
    "HIS = HIS.rename(columns={'Freq': 'HIS'})\n",
    "\n",
    "PCA = pd.crosstab(PCA_TEST['Class'], PCA_TEST['Anomaly']).stack().reset_index(name='Freq')\n",
    "PCA = PCA.rename(columns={'Freq': 'PCA'})\n",
    "\n",
    "MCD = pd.crosstab(MCD_TEST['Class'], MCD_TEST['Anomaly']).stack().reset_index(name='Freq')\n",
    "MCD = MCD.rename(columns={'Freq': 'MCD'})"
   ]
  },
  {
   "cell_type": "code",
   "execution_count": 41,
   "metadata": {},
   "outputs": [
    {
     "data": {
      "text/html": [
       "\n",
       "            <script src=\"/static/components/requirejs/require.js\"></script>\n",
       "            <script>\n",
       "              requirejs.config({\n",
       "                paths: {\n",
       "                  base: '/static/base',\n",
       "                  plotly: 'https://cdn.plot.ly/plotly-latest.min.js?noext',\n",
       "                },\n",
       "              });\n",
       "            </script>\n",
       "            "
      ],
      "text/plain": [
       "<IPython.core.display.HTML object>"
      ]
     },
     "metadata": {},
     "output_type": "display_data"
    },
    {
     "data": {
      "text/html": [
       "<div>\n",
       "<style scoped>\n",
       "    .dataframe tbody tr th:only-of-type {\n",
       "        vertical-align: middle;\n",
       "    }\n",
       "\n",
       "    .dataframe tbody tr th {\n",
       "        vertical-align: top;\n",
       "    }\n",
       "\n",
       "    .dataframe thead th {\n",
       "        text-align: right;\n",
       "    }\n",
       "</style>\n",
       "<table border=\"1\" class=\"dataframe\">\n",
       "  <thead>\n",
       "    <tr style=\"text-align: right;\">\n",
       "      <th></th>\n",
       "      <th>Class</th>\n",
       "      <th>Anomaly</th>\n",
       "      <th>KNN</th>\n",
       "      <th>IFT</th>\n",
       "      <th>CLT</th>\n",
       "      <th>HIS</th>\n",
       "      <th>PCA</th>\n",
       "      <th>MCD</th>\n",
       "    </tr>\n",
       "  </thead>\n",
       "  <tbody>\n",
       "    <tr>\n",
       "      <th>0</th>\n",
       "      <td>0</td>\n",
       "      <td>0</td>\n",
       "      <td>53755</td>\n",
       "      <td>53998</td>\n",
       "      <td>54206</td>\n",
       "      <td>53974</td>\n",
       "      <td>54041</td>\n",
       "      <td>54436</td>\n",
       "    </tr>\n",
       "    <tr>\n",
       "      <th>1</th>\n",
       "      <td>0</td>\n",
       "      <td>1</td>\n",
       "      <td>3108</td>\n",
       "      <td>2865</td>\n",
       "      <td>2657</td>\n",
       "      <td>2889</td>\n",
       "      <td>2822</td>\n",
       "      <td>2427</td>\n",
       "    </tr>\n",
       "    <tr>\n",
       "      <th>2</th>\n",
       "      <td>1</td>\n",
       "      <td>0</td>\n",
       "      <td>17</td>\n",
       "      <td>16</td>\n",
       "      <td>14</td>\n",
       "      <td>17</td>\n",
       "      <td>15</td>\n",
       "      <td>72</td>\n",
       "    </tr>\n",
       "    <tr>\n",
       "      <th>3</th>\n",
       "      <td>1</td>\n",
       "      <td>1</td>\n",
       "      <td>81</td>\n",
       "      <td>82</td>\n",
       "      <td>84</td>\n",
       "      <td>81</td>\n",
       "      <td>83</td>\n",
       "      <td>26</td>\n",
       "    </tr>\n",
       "  </tbody>\n",
       "</table>\n",
       "</div>"
      ],
      "text/plain": [
       "   Class  Anomaly    KNN    IFT    CLT    HIS    PCA    MCD\n",
       "0      0        0  53755  53998  54206  53974  54041  54436\n",
       "1      0        1   3108   2865   2657   2889   2822   2427\n",
       "2      1        0     17     16     14     17     15     72\n",
       "3      1        1     81     82     84     81     83     26"
      ]
     },
     "execution_count": 41,
     "metadata": {},
     "output_type": "execute_result"
    }
   ],
   "source": [
    "# Merge test results\n",
    "models_list = [KNN, IFT, CLT, HIS, PCA, MCD]\n",
    "results = reduce(lambda  left,right: pd.merge(left,right, how='left'), models_list)\n",
    "results.head()"
   ]
  },
  {
   "cell_type": "markdown",
   "metadata": {},
   "source": [
    "#### We can see that Clustering-Based Local Outlier \"CLT\" model had the best performance when alocating 5% of our training data as anomaly, and predicting in test set.\n",
    "\n",
    "#### Note: Its development time was 95% less than knn, for example. (It took 20 sec. Knn took 402 sec.)\n"
   ]
  },
  {
   "cell_type": "markdown",
   "metadata": {},
   "source": [
    "#### Let's see the best anomaly model metrics"
   ]
  },
  {
   "cell_type": "code",
   "execution_count": 42,
   "metadata": {},
   "outputs": [
    {
     "data": {
      "text/html": [
       "\n",
       "            <script src=\"/static/components/requirejs/require.js\"></script>\n",
       "            <script>\n",
       "              requirejs.config({\n",
       "                paths: {\n",
       "                  base: '/static/base',\n",
       "                  plotly: 'https://cdn.plot.ly/plotly-latest.min.js?noext',\n",
       "                },\n",
       "              });\n",
       "            </script>\n",
       "            "
      ],
      "text/plain": [
       "<IPython.core.display.HTML object>"
      ]
     },
     "metadata": {},
     "output_type": "display_data"
    }
   ],
   "source": [
    "# Fix formats\n",
    "CLT_TEST['Anomaly'] = CLT_TEST['Anomaly'].astype(float)\n",
    "CLT_TEST['Class'] = CLT_TEST['Class'].astype(float)"
   ]
  },
  {
   "cell_type": "code",
   "execution_count": 43,
   "metadata": {},
   "outputs": [
    {
     "data": {
      "text/html": [
       "\n",
       "            <script src=\"/static/components/requirejs/require.js\"></script>\n",
       "            <script>\n",
       "              requirejs.config({\n",
       "                paths: {\n",
       "                  base: '/static/base',\n",
       "                  plotly: 'https://cdn.plot.ly/plotly-latest.min.js?noext',\n",
       "                },\n",
       "              });\n",
       "            </script>\n",
       "            "
      ],
      "text/plain": [
       "<IPython.core.display.HTML object>"
      ]
     },
     "metadata": {},
     "output_type": "display_data"
    }
   ],
   "source": [
    "# Metrics\n",
    "acc = accuracy_score(CLT_TEST['Class'], CLT_TEST['Anomaly'])\n",
    "auc = roc_auc_score(CLT_TEST['Class'], CLT_TEST['Anomaly_Score'])\n",
    "recall = recall_score(CLT_TEST['Class'], CLT_TEST['Anomaly'])\n",
    "precision = precision_score(CLT_TEST['Class'], CLT_TEST['Anomaly'])\n",
    "f1 = f1_score(CLT_TEST['Class'], CLT_TEST['Anomaly'])"
   ]
  },
  {
   "cell_type": "code",
   "execution_count": 44,
   "metadata": {
    "scrolled": false
   },
   "outputs": [
    {
     "data": {
      "text/html": [
       "\n",
       "            <script src=\"/static/components/requirejs/require.js\"></script>\n",
       "            <script>\n",
       "              requirejs.config({\n",
       "                paths: {\n",
       "                  base: '/static/base',\n",
       "                  plotly: 'https://cdn.plot.ly/plotly-latest.min.js?noext',\n",
       "                },\n",
       "              });\n",
       "            </script>\n",
       "            "
      ],
      "text/plain": [
       "<IPython.core.display.HTML object>"
      ]
     },
     "metadata": {},
     "output_type": "display_data"
    },
    {
     "data": {
      "text/html": [
       "<div>\n",
       "<style scoped>\n",
       "    .dataframe tbody tr th:only-of-type {\n",
       "        vertical-align: middle;\n",
       "    }\n",
       "\n",
       "    .dataframe tbody tr th {\n",
       "        vertical-align: top;\n",
       "    }\n",
       "\n",
       "    .dataframe thead th {\n",
       "        text-align: right;\n",
       "    }\n",
       "</style>\n",
       "<table border=\"1\" class=\"dataframe\">\n",
       "  <thead>\n",
       "    <tr style=\"text-align: right;\">\n",
       "      <th></th>\n",
       "      <th>Model</th>\n",
       "      <th>Accurary</th>\n",
       "      <th>AUC</th>\n",
       "      <th>Recall</th>\n",
       "      <th>Prec.</th>\n",
       "      <th>F1</th>\n",
       "    </tr>\n",
       "  </thead>\n",
       "  <tbody>\n",
       "    <tr>\n",
       "      <th>0</th>\n",
       "      <td>CLT</td>\n",
       "      <td>0.953108</td>\n",
       "      <td>0.960965</td>\n",
       "      <td>0.857143</td>\n",
       "      <td>0.030646</td>\n",
       "      <td>0.059176</td>\n",
       "    </tr>\n",
       "  </tbody>\n",
       "</table>\n",
       "</div>"
      ],
      "text/plain": [
       "  Model  Accurary       AUC    Recall     Prec.        F1\n",
       "0   CLT  0.953108  0.960965  0.857143  0.030646  0.059176"
      ]
     },
     "execution_count": 44,
     "metadata": {},
     "output_type": "execute_result"
    }
   ],
   "source": [
    "# Visualize metrics\n",
    "cols = ['Model','Accurary','AUC','Recall','Prec.','F1']\n",
    "values = ['CLT',acc,auc,recall,precision,f1]\n",
    "metrics_df = pd.DataFrame({tup[0]: [tup[1]] for tup in zip(cols, values)})\n",
    "metrics_df"
   ]
  },
  {
   "cell_type": "code",
   "execution_count": 45,
   "metadata": {},
   "outputs": [
    {
     "data": {
      "text/html": [
       "\n",
       "            <script src=\"/static/components/requirejs/require.js\"></script>\n",
       "            <script>\n",
       "              requirejs.config({\n",
       "                paths: {\n",
       "                  base: '/static/base',\n",
       "                  plotly: 'https://cdn.plot.ly/plotly-latest.min.js?noext',\n",
       "                },\n",
       "              });\n",
       "            </script>\n",
       "            "
      ],
      "text/plain": [
       "<IPython.core.display.HTML object>"
      ]
     },
     "metadata": {},
     "output_type": "display_data"
    },
    {
     "data": {
      "text/html": [
       "<div>\n",
       "<style scoped>\n",
       "    .dataframe tbody tr th:only-of-type {\n",
       "        vertical-align: middle;\n",
       "    }\n",
       "\n",
       "    .dataframe tbody tr th {\n",
       "        vertical-align: top;\n",
       "    }\n",
       "\n",
       "    .dataframe thead th {\n",
       "        text-align: right;\n",
       "    }\n",
       "</style>\n",
       "<table border=\"1\" class=\"dataframe\">\n",
       "  <thead>\n",
       "    <tr style=\"text-align: right;\">\n",
       "      <th></th>\n",
       "      <th>Class</th>\n",
       "      <th>Anomaly</th>\n",
       "      <th>Freq</th>\n",
       "    </tr>\n",
       "  </thead>\n",
       "  <tbody>\n",
       "    <tr>\n",
       "      <th>0</th>\n",
       "      <td>0.0</td>\n",
       "      <td>0.0</td>\n",
       "      <td>54206</td>\n",
       "    </tr>\n",
       "    <tr>\n",
       "      <th>1</th>\n",
       "      <td>0.0</td>\n",
       "      <td>1.0</td>\n",
       "      <td>2657</td>\n",
       "    </tr>\n",
       "    <tr>\n",
       "      <th>2</th>\n",
       "      <td>1.0</td>\n",
       "      <td>0.0</td>\n",
       "      <td>14</td>\n",
       "    </tr>\n",
       "    <tr>\n",
       "      <th>3</th>\n",
       "      <td>1.0</td>\n",
       "      <td>1.0</td>\n",
       "      <td>84</td>\n",
       "    </tr>\n",
       "  </tbody>\n",
       "</table>\n",
       "</div>"
      ],
      "text/plain": [
       "   Class  Anomaly   Freq\n",
       "0    0.0      0.0  54206\n",
       "1    0.0      1.0   2657\n",
       "2    1.0      0.0     14\n",
       "3    1.0      1.0     84"
      ]
     },
     "execution_count": 45,
     "metadata": {},
     "output_type": "execute_result"
    }
   ],
   "source": [
    "# See real target and predicted label\n",
    "pd.crosstab(CLT_TEST['Class'], CLT_TEST['Anomaly']).stack().reset_index(name='Freq')"
   ]
  },
  {
   "cell_type": "code",
   "execution_count": 46,
   "metadata": {},
   "outputs": [
    {
     "data": {
      "text/html": [
       "\n",
       "            <script src=\"/static/components/requirejs/require.js\"></script>\n",
       "            <script>\n",
       "              requirejs.config({\n",
       "                paths: {\n",
       "                  base: '/static/base',\n",
       "                  plotly: 'https://cdn.plot.ly/plotly-latest.min.js?noext',\n",
       "                },\n",
       "              });\n",
       "            </script>\n",
       "            "
      ],
      "text/plain": [
       "<IPython.core.display.HTML object>"
      ]
     },
     "metadata": {},
     "output_type": "display_data"
    },
    {
     "data": {
      "image/png": "[encoded data removed]",
      "text/plain": [
       "<Figure size 432x288 with 2 Axes>"
      ]
     },
     "metadata": {
      "needs_background": "light"
     },
     "output_type": "display_data"
    }
   ],
   "source": [
    "# Plot confusion matrix\n",
    "conf_matx_anom = confusion_matrix(original_ytest, CLT_TEST['Anomaly'])\n",
    "ax = plt.axes()\n",
    "sns.heatmap(conf_matx_anom, annot=True, cmap='Greens', fmt='.0f')\n",
    "ax.set_title('Clustering-Based Local Outlier \"CLT\" Pycaret \\n Confusion Matrix - Original Test set')\n",
    "plt.show()"
   ]
  },
  {
   "cell_type": "markdown",
   "metadata": {},
   "source": [
    "# 2º APPROACH - CLASSIFIER WITH PYCARET"
   ]
  },
  {
   "cell_type": "code",
   "execution_count": 47,
   "metadata": {},
   "outputs": [
    {
     "data": {
      "text/html": [
       "<style  type=\"text/css\" >\n",
       "#T_1cd95c8c_5f16_11eb_b089_80ce62a0b43frow29_col1,#T_1cd95c8c_5f16_11eb_b089_80ce62a0b43frow36_col1,#T_1cd95c8c_5f16_11eb_b089_80ce62a0b43frow40_col1,#T_1cd95c8c_5f16_11eb_b089_80ce62a0b43frow42_col1,#T_1cd95c8c_5f16_11eb_b089_80ce62a0b43frow51_col1,#T_1cd95c8c_5f16_11eb_b089_80ce62a0b43frow56_col1{\n",
       "            background-color:  lightgreen;\n",
       "        }</style><table id=\"T_1cd95c8c_5f16_11eb_b089_80ce62a0b43f\" ><thead>    <tr>        <th class=\"blank level0\" ></th>        <th class=\"col_heading level0 col0\" >Description</th>        <th class=\"col_heading level0 col1\" >Value</th>    </tr></thead><tbody>\n",
       "                <tr>\n",
       "                        <th id=\"T_1cd95c8c_5f16_11eb_b089_80ce62a0b43flevel0_row0\" class=\"row_heading level0 row0\" >0</th>\n",
       "                        <td id=\"T_1cd95c8c_5f16_11eb_b089_80ce62a0b43frow0_col0\" class=\"data row0 col0\" >session_id</td>\n",
       "                        <td id=\"T_1cd95c8c_5f16_11eb_b089_80ce62a0b43frow0_col1\" class=\"data row0 col1\" >1313</td>\n",
       "            </tr>\n",
       "            <tr>\n",
       "                        <th id=\"T_1cd95c8c_5f16_11eb_b089_80ce62a0b43flevel0_row1\" class=\"row_heading level0 row1\" >1</th>\n",
       "                        <td id=\"T_1cd95c8c_5f16_11eb_b089_80ce62a0b43frow1_col0\" class=\"data row1 col0\" >Target</td>\n",
       "                        <td id=\"T_1cd95c8c_5f16_11eb_b089_80ce62a0b43frow1_col1\" class=\"data row1 col1\" >Class</td>\n",
       "            </tr>\n",
       "            <tr>\n",
       "                        <th id=\"T_1cd95c8c_5f16_11eb_b089_80ce62a0b43flevel0_row2\" class=\"row_heading level0 row2\" >2</th>\n",
       "                        <td id=\"T_1cd95c8c_5f16_11eb_b089_80ce62a0b43frow2_col0\" class=\"data row2 col0\" >Target Type</td>\n",
       "                        <td id=\"T_1cd95c8c_5f16_11eb_b089_80ce62a0b43frow2_col1\" class=\"data row2 col1\" >Binary</td>\n",
       "            </tr>\n",
       "            <tr>\n",
       "                        <th id=\"T_1cd95c8c_5f16_11eb_b089_80ce62a0b43flevel0_row3\" class=\"row_heading level0 row3\" >3</th>\n",
       "                        <td id=\"T_1cd95c8c_5f16_11eb_b089_80ce62a0b43frow3_col0\" class=\"data row3 col0\" >Label Encoded</td>\n",
       "                        <td id=\"T_1cd95c8c_5f16_11eb_b089_80ce62a0b43frow3_col1\" class=\"data row3 col1\" >0: 0, 1: 1</td>\n",
       "            </tr>\n",
       "            <tr>\n",
       "                        <th id=\"T_1cd95c8c_5f16_11eb_b089_80ce62a0b43flevel0_row4\" class=\"row_heading level0 row4\" >4</th>\n",
       "                        <td id=\"T_1cd95c8c_5f16_11eb_b089_80ce62a0b43frow4_col0\" class=\"data row4 col0\" >Original Data</td>\n",
       "                        <td id=\"T_1cd95c8c_5f16_11eb_b089_80ce62a0b43frow4_col1\" class=\"data row4 col1\" >(284807, 31)</td>\n",
       "            </tr>\n",
       "            <tr>\n",
       "                        <th id=\"T_1cd95c8c_5f16_11eb_b089_80ce62a0b43flevel0_row5\" class=\"row_heading level0 row5\" >5</th>\n",
       "                        <td id=\"T_1cd95c8c_5f16_11eb_b089_80ce62a0b43frow5_col0\" class=\"data row5 col0\" >Missing Values</td>\n",
       "                        <td id=\"T_1cd95c8c_5f16_11eb_b089_80ce62a0b43frow5_col1\" class=\"data row5 col1\" >False</td>\n",
       "            </tr>\n",
       "            <tr>\n",
       "                        <th id=\"T_1cd95c8c_5f16_11eb_b089_80ce62a0b43flevel0_row6\" class=\"row_heading level0 row6\" >6</th>\n",
       "                        <td id=\"T_1cd95c8c_5f16_11eb_b089_80ce62a0b43frow6_col0\" class=\"data row6 col0\" >Numeric Features</td>\n",
       "                        <td id=\"T_1cd95c8c_5f16_11eb_b089_80ce62a0b43frow6_col1\" class=\"data row6 col1\" >30</td>\n",
       "            </tr>\n",
       "            <tr>\n",
       "                        <th id=\"T_1cd95c8c_5f16_11eb_b089_80ce62a0b43flevel0_row7\" class=\"row_heading level0 row7\" >7</th>\n",
       "                        <td id=\"T_1cd95c8c_5f16_11eb_b089_80ce62a0b43frow7_col0\" class=\"data row7 col0\" >Categorical Features</td>\n",
       "                        <td id=\"T_1cd95c8c_5f16_11eb_b089_80ce62a0b43frow7_col1\" class=\"data row7 col1\" >0</td>\n",
       "            </tr>\n",
       "            <tr>\n",
       "                        <th id=\"T_1cd95c8c_5f16_11eb_b089_80ce62a0b43flevel0_row8\" class=\"row_heading level0 row8\" >8</th>\n",
       "                        <td id=\"T_1cd95c8c_5f16_11eb_b089_80ce62a0b43frow8_col0\" class=\"data row8 col0\" >Ordinal Features</td>\n",
       "                        <td id=\"T_1cd95c8c_5f16_11eb_b089_80ce62a0b43frow8_col1\" class=\"data row8 col1\" >False</td>\n",
       "            </tr>\n",
       "            <tr>\n",
       "                        <th id=\"T_1cd95c8c_5f16_11eb_b089_80ce62a0b43flevel0_row9\" class=\"row_heading level0 row9\" >9</th>\n",
       "                        <td id=\"T_1cd95c8c_5f16_11eb_b089_80ce62a0b43frow9_col0\" class=\"data row9 col0\" >High Cardinality Features</td>\n",
       "                        <td id=\"T_1cd95c8c_5f16_11eb_b089_80ce62a0b43frow9_col1\" class=\"data row9 col1\" >False</td>\n",
       "            </tr>\n",
       "            <tr>\n",
       "                        <th id=\"T_1cd95c8c_5f16_11eb_b089_80ce62a0b43flevel0_row10\" class=\"row_heading level0 row10\" >10</th>\n",
       "                        <td id=\"T_1cd95c8c_5f16_11eb_b089_80ce62a0b43frow10_col0\" class=\"data row10 col0\" >High Cardinality Method</td>\n",
       "                        <td id=\"T_1cd95c8c_5f16_11eb_b089_80ce62a0b43frow10_col1\" class=\"data row10 col1\" >None</td>\n",
       "            </tr>\n",
       "            <tr>\n",
       "                        <th id=\"T_1cd95c8c_5f16_11eb_b089_80ce62a0b43flevel0_row11\" class=\"row_heading level0 row11\" >11</th>\n",
       "                        <td id=\"T_1cd95c8c_5f16_11eb_b089_80ce62a0b43frow11_col0\" class=\"data row11 col0\" >Transformed Train Set</td>\n",
       "                        <td id=\"T_1cd95c8c_5f16_11eb_b089_80ce62a0b43frow11_col1\" class=\"data row11 col1\" >(216453, 23)</td>\n",
       "            </tr>\n",
       "            <tr>\n",
       "                        <th id=\"T_1cd95c8c_5f16_11eb_b089_80ce62a0b43flevel0_row12\" class=\"row_heading level0 row12\" >12</th>\n",
       "                        <td id=\"T_1cd95c8c_5f16_11eb_b089_80ce62a0b43frow12_col0\" class=\"data row12 col0\" >Transformed Test Set</td>\n",
       "                        <td id=\"T_1cd95c8c_5f16_11eb_b089_80ce62a0b43frow12_col1\" class=\"data row12 col1\" >(56962, 23)</td>\n",
       "            </tr>\n",
       "            <tr>\n",
       "                        <th id=\"T_1cd95c8c_5f16_11eb_b089_80ce62a0b43flevel0_row13\" class=\"row_heading level0 row13\" >13</th>\n",
       "                        <td id=\"T_1cd95c8c_5f16_11eb_b089_80ce62a0b43frow13_col0\" class=\"data row13 col0\" >Shuffle Train-Test</td>\n",
       "                        <td id=\"T_1cd95c8c_5f16_11eb_b089_80ce62a0b43frow13_col1\" class=\"data row13 col1\" >True</td>\n",
       "            </tr>\n",
       "            <tr>\n",
       "                        <th id=\"T_1cd95c8c_5f16_11eb_b089_80ce62a0b43flevel0_row14\" class=\"row_heading level0 row14\" >14</th>\n",
       "                        <td id=\"T_1cd95c8c_5f16_11eb_b089_80ce62a0b43frow14_col0\" class=\"data row14 col0\" >Stratify Train-Test</td>\n",
       "                        <td id=\"T_1cd95c8c_5f16_11eb_b089_80ce62a0b43frow14_col1\" class=\"data row14 col1\" >False</td>\n",
       "            </tr>\n",
       "            <tr>\n",
       "                        <th id=\"T_1cd95c8c_5f16_11eb_b089_80ce62a0b43flevel0_row15\" class=\"row_heading level0 row15\" >15</th>\n",
       "                        <td id=\"T_1cd95c8c_5f16_11eb_b089_80ce62a0b43frow15_col0\" class=\"data row15 col0\" >Fold Generator</td>\n",
       "                        <td id=\"T_1cd95c8c_5f16_11eb_b089_80ce62a0b43frow15_col1\" class=\"data row15 col1\" >StratifiedKFold</td>\n",
       "            </tr>\n",
       "            <tr>\n",
       "                        <th id=\"T_1cd95c8c_5f16_11eb_b089_80ce62a0b43flevel0_row16\" class=\"row_heading level0 row16\" >16</th>\n",
       "                        <td id=\"T_1cd95c8c_5f16_11eb_b089_80ce62a0b43frow16_col0\" class=\"data row16 col0\" >Fold Number</td>\n",
       "                        <td id=\"T_1cd95c8c_5f16_11eb_b089_80ce62a0b43frow16_col1\" class=\"data row16 col1\" >10</td>\n",
       "            </tr>\n",
       "            <tr>\n",
       "                        <th id=\"T_1cd95c8c_5f16_11eb_b089_80ce62a0b43flevel0_row17\" class=\"row_heading level0 row17\" >17</th>\n",
       "                        <td id=\"T_1cd95c8c_5f16_11eb_b089_80ce62a0b43frow17_col0\" class=\"data row17 col0\" >CPU Jobs</td>\n",
       "                        <td id=\"T_1cd95c8c_5f16_11eb_b089_80ce62a0b43frow17_col1\" class=\"data row17 col1\" >-1</td>\n",
       "            </tr>\n",
       "            <tr>\n",
       "                        <th id=\"T_1cd95c8c_5f16_11eb_b089_80ce62a0b43flevel0_row18\" class=\"row_heading level0 row18\" >18</th>\n",
       "                        <td id=\"T_1cd95c8c_5f16_11eb_b089_80ce62a0b43frow18_col0\" class=\"data row18 col0\" >Use GPU</td>\n",
       "                        <td id=\"T_1cd95c8c_5f16_11eb_b089_80ce62a0b43frow18_col1\" class=\"data row18 col1\" >False</td>\n",
       "            </tr>\n",
       "            <tr>\n",
       "                        <th id=\"T_1cd95c8c_5f16_11eb_b089_80ce62a0b43flevel0_row19\" class=\"row_heading level0 row19\" >19</th>\n",
       "                        <td id=\"T_1cd95c8c_5f16_11eb_b089_80ce62a0b43frow19_col0\" class=\"data row19 col0\" >Log Experiment</td>\n",
       "                        <td id=\"T_1cd95c8c_5f16_11eb_b089_80ce62a0b43frow19_col1\" class=\"data row19 col1\" >False</td>\n",
       "            </tr>\n",
       "            <tr>\n",
       "                        <th id=\"T_1cd95c8c_5f16_11eb_b089_80ce62a0b43flevel0_row20\" class=\"row_heading level0 row20\" >20</th>\n",
       "                        <td id=\"T_1cd95c8c_5f16_11eb_b089_80ce62a0b43frow20_col0\" class=\"data row20 col0\" >Experiment Name</td>\n",
       "                        <td id=\"T_1cd95c8c_5f16_11eb_b089_80ce62a0b43frow20_col1\" class=\"data row20 col1\" >clf-default-name</td>\n",
       "            </tr>\n",
       "            <tr>\n",
       "                        <th id=\"T_1cd95c8c_5f16_11eb_b089_80ce62a0b43flevel0_row21\" class=\"row_heading level0 row21\" >21</th>\n",
       "                        <td id=\"T_1cd95c8c_5f16_11eb_b089_80ce62a0b43frow21_col0\" class=\"data row21 col0\" >USI</td>\n",
       "                        <td id=\"T_1cd95c8c_5f16_11eb_b089_80ce62a0b43frow21_col1\" class=\"data row21 col1\" >0f5c</td>\n",
       "            </tr>\n",
       "            <tr>\n",
       "                        <th id=\"T_1cd95c8c_5f16_11eb_b089_80ce62a0b43flevel0_row22\" class=\"row_heading level0 row22\" >22</th>\n",
       "                        <td id=\"T_1cd95c8c_5f16_11eb_b089_80ce62a0b43frow22_col0\" class=\"data row22 col0\" >Imputation Type</td>\n",
       "                        <td id=\"T_1cd95c8c_5f16_11eb_b089_80ce62a0b43frow22_col1\" class=\"data row22 col1\" >simple</td>\n",
       "            </tr>\n",
       "            <tr>\n",
       "                        <th id=\"T_1cd95c8c_5f16_11eb_b089_80ce62a0b43flevel0_row23\" class=\"row_heading level0 row23\" >23</th>\n",
       "                        <td id=\"T_1cd95c8c_5f16_11eb_b089_80ce62a0b43frow23_col0\" class=\"data row23 col0\" >Iterative Imputation Iteration</td>\n",
       "                        <td id=\"T_1cd95c8c_5f16_11eb_b089_80ce62a0b43frow23_col1\" class=\"data row23 col1\" >None</td>\n",
       "            </tr>\n",
       "            <tr>\n",
       "                        <th id=\"T_1cd95c8c_5f16_11eb_b089_80ce62a0b43flevel0_row24\" class=\"row_heading level0 row24\" >24</th>\n",
       "                        <td id=\"T_1cd95c8c_5f16_11eb_b089_80ce62a0b43frow24_col0\" class=\"data row24 col0\" >Numeric Imputer</td>\n",
       "                        <td id=\"T_1cd95c8c_5f16_11eb_b089_80ce62a0b43frow24_col1\" class=\"data row24 col1\" >mean</td>\n",
       "            </tr>\n",
       "            <tr>\n",
       "                        <th id=\"T_1cd95c8c_5f16_11eb_b089_80ce62a0b43flevel0_row25\" class=\"row_heading level0 row25\" >25</th>\n",
       "                        <td id=\"T_1cd95c8c_5f16_11eb_b089_80ce62a0b43frow25_col0\" class=\"data row25 col0\" >Iterative Imputation Numeric Model</td>\n",
       "                        <td id=\"T_1cd95c8c_5f16_11eb_b089_80ce62a0b43frow25_col1\" class=\"data row25 col1\" >None</td>\n",
       "            </tr>\n",
       "            <tr>\n",
       "                        <th id=\"T_1cd95c8c_5f16_11eb_b089_80ce62a0b43flevel0_row26\" class=\"row_heading level0 row26\" >26</th>\n",
       "                        <td id=\"T_1cd95c8c_5f16_11eb_b089_80ce62a0b43frow26_col0\" class=\"data row26 col0\" >Categorical Imputer</td>\n",
       "                        <td id=\"T_1cd95c8c_5f16_11eb_b089_80ce62a0b43frow26_col1\" class=\"data row26 col1\" >constant</td>\n",
       "            </tr>\n",
       "            <tr>\n",
       "                        <th id=\"T_1cd95c8c_5f16_11eb_b089_80ce62a0b43flevel0_row27\" class=\"row_heading level0 row27\" >27</th>\n",
       "                        <td id=\"T_1cd95c8c_5f16_11eb_b089_80ce62a0b43frow27_col0\" class=\"data row27 col0\" >Iterative Imputation Categorical Model</td>\n",
       "                        <td id=\"T_1cd95c8c_5f16_11eb_b089_80ce62a0b43frow27_col1\" class=\"data row27 col1\" >None</td>\n",
       "            </tr>\n",
       "            <tr>\n",
       "                        <th id=\"T_1cd95c8c_5f16_11eb_b089_80ce62a0b43flevel0_row28\" class=\"row_heading level0 row28\" >28</th>\n",
       "                        <td id=\"T_1cd95c8c_5f16_11eb_b089_80ce62a0b43frow28_col0\" class=\"data row28 col0\" >Unknown Categoricals Handling</td>\n",
       "                        <td id=\"T_1cd95c8c_5f16_11eb_b089_80ce62a0b43frow28_col1\" class=\"data row28 col1\" >least_frequent</td>\n",
       "            </tr>\n",
       "            <tr>\n",
       "                        <th id=\"T_1cd95c8c_5f16_11eb_b089_80ce62a0b43flevel0_row29\" class=\"row_heading level0 row29\" >29</th>\n",
       "                        <td id=\"T_1cd95c8c_5f16_11eb_b089_80ce62a0b43frow29_col0\" class=\"data row29 col0\" >Normalize</td>\n",
       "                        <td id=\"T_1cd95c8c_5f16_11eb_b089_80ce62a0b43frow29_col1\" class=\"data row29 col1\" >True</td>\n",
       "            </tr>\n",
       "            <tr>\n",
       "                        <th id=\"T_1cd95c8c_5f16_11eb_b089_80ce62a0b43flevel0_row30\" class=\"row_heading level0 row30\" >30</th>\n",
       "                        <td id=\"T_1cd95c8c_5f16_11eb_b089_80ce62a0b43frow30_col0\" class=\"data row30 col0\" >Normalize Method</td>\n",
       "                        <td id=\"T_1cd95c8c_5f16_11eb_b089_80ce62a0b43frow30_col1\" class=\"data row30 col1\" >robust</td>\n",
       "            </tr>\n",
       "            <tr>\n",
       "                        <th id=\"T_1cd95c8c_5f16_11eb_b089_80ce62a0b43flevel0_row31\" class=\"row_heading level0 row31\" >31</th>\n",
       "                        <td id=\"T_1cd95c8c_5f16_11eb_b089_80ce62a0b43frow31_col0\" class=\"data row31 col0\" >Transformation</td>\n",
       "                        <td id=\"T_1cd95c8c_5f16_11eb_b089_80ce62a0b43frow31_col1\" class=\"data row31 col1\" >False</td>\n",
       "            </tr>\n",
       "            <tr>\n",
       "                        <th id=\"T_1cd95c8c_5f16_11eb_b089_80ce62a0b43flevel0_row32\" class=\"row_heading level0 row32\" >32</th>\n",
       "                        <td id=\"T_1cd95c8c_5f16_11eb_b089_80ce62a0b43frow32_col0\" class=\"data row32 col0\" >Transformation Method</td>\n",
       "                        <td id=\"T_1cd95c8c_5f16_11eb_b089_80ce62a0b43frow32_col1\" class=\"data row32 col1\" >None</td>\n",
       "            </tr>\n",
       "            <tr>\n",
       "                        <th id=\"T_1cd95c8c_5f16_11eb_b089_80ce62a0b43flevel0_row33\" class=\"row_heading level0 row33\" >33</th>\n",
       "                        <td id=\"T_1cd95c8c_5f16_11eb_b089_80ce62a0b43frow33_col0\" class=\"data row33 col0\" >PCA</td>\n",
       "                        <td id=\"T_1cd95c8c_5f16_11eb_b089_80ce62a0b43frow33_col1\" class=\"data row33 col1\" >False</td>\n",
       "            </tr>\n",
       "            <tr>\n",
       "                        <th id=\"T_1cd95c8c_5f16_11eb_b089_80ce62a0b43flevel0_row34\" class=\"row_heading level0 row34\" >34</th>\n",
       "                        <td id=\"T_1cd95c8c_5f16_11eb_b089_80ce62a0b43frow34_col0\" class=\"data row34 col0\" >PCA Method</td>\n",
       "                        <td id=\"T_1cd95c8c_5f16_11eb_b089_80ce62a0b43frow34_col1\" class=\"data row34 col1\" >None</td>\n",
       "            </tr>\n",
       "            <tr>\n",
       "                        <th id=\"T_1cd95c8c_5f16_11eb_b089_80ce62a0b43flevel0_row35\" class=\"row_heading level0 row35\" >35</th>\n",
       "                        <td id=\"T_1cd95c8c_5f16_11eb_b089_80ce62a0b43frow35_col0\" class=\"data row35 col0\" >PCA Components</td>\n",
       "                        <td id=\"T_1cd95c8c_5f16_11eb_b089_80ce62a0b43frow35_col1\" class=\"data row35 col1\" >None</td>\n",
       "            </tr>\n",
       "            <tr>\n",
       "                        <th id=\"T_1cd95c8c_5f16_11eb_b089_80ce62a0b43flevel0_row36\" class=\"row_heading level0 row36\" >36</th>\n",
       "                        <td id=\"T_1cd95c8c_5f16_11eb_b089_80ce62a0b43frow36_col0\" class=\"data row36 col0\" >Ignore Low Variance</td>\n",
       "                        <td id=\"T_1cd95c8c_5f16_11eb_b089_80ce62a0b43frow36_col1\" class=\"data row36 col1\" >True</td>\n",
       "            </tr>\n",
       "            <tr>\n",
       "                        <th id=\"T_1cd95c8c_5f16_11eb_b089_80ce62a0b43flevel0_row37\" class=\"row_heading level0 row37\" >37</th>\n",
       "                        <td id=\"T_1cd95c8c_5f16_11eb_b089_80ce62a0b43frow37_col0\" class=\"data row37 col0\" >Combine Rare Levels</td>\n",
       "                        <td id=\"T_1cd95c8c_5f16_11eb_b089_80ce62a0b43frow37_col1\" class=\"data row37 col1\" >False</td>\n",
       "            </tr>\n",
       "            <tr>\n",
       "                        <th id=\"T_1cd95c8c_5f16_11eb_b089_80ce62a0b43flevel0_row38\" class=\"row_heading level0 row38\" >38</th>\n",
       "                        <td id=\"T_1cd95c8c_5f16_11eb_b089_80ce62a0b43frow38_col0\" class=\"data row38 col0\" >Rare Level Threshold</td>\n",
       "                        <td id=\"T_1cd95c8c_5f16_11eb_b089_80ce62a0b43frow38_col1\" class=\"data row38 col1\" >None</td>\n",
       "            </tr>\n",
       "            <tr>\n",
       "                        <th id=\"T_1cd95c8c_5f16_11eb_b089_80ce62a0b43flevel0_row39\" class=\"row_heading level0 row39\" >39</th>\n",
       "                        <td id=\"T_1cd95c8c_5f16_11eb_b089_80ce62a0b43frow39_col0\" class=\"data row39 col0\" >Numeric Binning</td>\n",
       "                        <td id=\"T_1cd95c8c_5f16_11eb_b089_80ce62a0b43frow39_col1\" class=\"data row39 col1\" >False</td>\n",
       "            </tr>\n",
       "            <tr>\n",
       "                        <th id=\"T_1cd95c8c_5f16_11eb_b089_80ce62a0b43flevel0_row40\" class=\"row_heading level0 row40\" >40</th>\n",
       "                        <td id=\"T_1cd95c8c_5f16_11eb_b089_80ce62a0b43frow40_col0\" class=\"data row40 col0\" >Remove Outliers</td>\n",
       "                        <td id=\"T_1cd95c8c_5f16_11eb_b089_80ce62a0b43frow40_col1\" class=\"data row40 col1\" >True</td>\n",
       "            </tr>\n",
       "            <tr>\n",
       "                        <th id=\"T_1cd95c8c_5f16_11eb_b089_80ce62a0b43flevel0_row41\" class=\"row_heading level0 row41\" >41</th>\n",
       "                        <td id=\"T_1cd95c8c_5f16_11eb_b089_80ce62a0b43frow41_col0\" class=\"data row41 col0\" >Outliers Threshold</td>\n",
       "                        <td id=\"T_1cd95c8c_5f16_11eb_b089_80ce62a0b43frow41_col1\" class=\"data row41 col1\" >0.050000</td>\n",
       "            </tr>\n",
       "            <tr>\n",
       "                        <th id=\"T_1cd95c8c_5f16_11eb_b089_80ce62a0b43flevel0_row42\" class=\"row_heading level0 row42\" >42</th>\n",
       "                        <td id=\"T_1cd95c8c_5f16_11eb_b089_80ce62a0b43frow42_col0\" class=\"data row42 col0\" >Remove Multicollinearity</td>\n",
       "                        <td id=\"T_1cd95c8c_5f16_11eb_b089_80ce62a0b43frow42_col1\" class=\"data row42 col1\" >True</td>\n",
       "            </tr>\n",
       "            <tr>\n",
       "                        <th id=\"T_1cd95c8c_5f16_11eb_b089_80ce62a0b43flevel0_row43\" class=\"row_heading level0 row43\" >43</th>\n",
       "                        <td id=\"T_1cd95c8c_5f16_11eb_b089_80ce62a0b43frow43_col0\" class=\"data row43 col0\" >Multicollinearity Threshold</td>\n",
       "                        <td id=\"T_1cd95c8c_5f16_11eb_b089_80ce62a0b43frow43_col1\" class=\"data row43 col1\" >0.400000</td>\n",
       "            </tr>\n",
       "            <tr>\n",
       "                        <th id=\"T_1cd95c8c_5f16_11eb_b089_80ce62a0b43flevel0_row44\" class=\"row_heading level0 row44\" >44</th>\n",
       "                        <td id=\"T_1cd95c8c_5f16_11eb_b089_80ce62a0b43frow44_col0\" class=\"data row44 col0\" >Clustering</td>\n",
       "                        <td id=\"T_1cd95c8c_5f16_11eb_b089_80ce62a0b43frow44_col1\" class=\"data row44 col1\" >False</td>\n",
       "            </tr>\n",
       "            <tr>\n",
       "                        <th id=\"T_1cd95c8c_5f16_11eb_b089_80ce62a0b43flevel0_row45\" class=\"row_heading level0 row45\" >45</th>\n",
       "                        <td id=\"T_1cd95c8c_5f16_11eb_b089_80ce62a0b43frow45_col0\" class=\"data row45 col0\" >Clustering Iteration</td>\n",
       "                        <td id=\"T_1cd95c8c_5f16_11eb_b089_80ce62a0b43frow45_col1\" class=\"data row45 col1\" >None</td>\n",
       "            </tr>\n",
       "            <tr>\n",
       "                        <th id=\"T_1cd95c8c_5f16_11eb_b089_80ce62a0b43flevel0_row46\" class=\"row_heading level0 row46\" >46</th>\n",
       "                        <td id=\"T_1cd95c8c_5f16_11eb_b089_80ce62a0b43frow46_col0\" class=\"data row46 col0\" >Polynomial Features</td>\n",
       "                        <td id=\"T_1cd95c8c_5f16_11eb_b089_80ce62a0b43frow46_col1\" class=\"data row46 col1\" >False</td>\n",
       "            </tr>\n",
       "            <tr>\n",
       "                        <th id=\"T_1cd95c8c_5f16_11eb_b089_80ce62a0b43flevel0_row47\" class=\"row_heading level0 row47\" >47</th>\n",
       "                        <td id=\"T_1cd95c8c_5f16_11eb_b089_80ce62a0b43frow47_col0\" class=\"data row47 col0\" >Polynomial Degree</td>\n",
       "                        <td id=\"T_1cd95c8c_5f16_11eb_b089_80ce62a0b43frow47_col1\" class=\"data row47 col1\" >None</td>\n",
       "            </tr>\n",
       "            <tr>\n",
       "                        <th id=\"T_1cd95c8c_5f16_11eb_b089_80ce62a0b43flevel0_row48\" class=\"row_heading level0 row48\" >48</th>\n",
       "                        <td id=\"T_1cd95c8c_5f16_11eb_b089_80ce62a0b43frow48_col0\" class=\"data row48 col0\" >Trignometry Features</td>\n",
       "                        <td id=\"T_1cd95c8c_5f16_11eb_b089_80ce62a0b43frow48_col1\" class=\"data row48 col1\" >False</td>\n",
       "            </tr>\n",
       "            <tr>\n",
       "                        <th id=\"T_1cd95c8c_5f16_11eb_b089_80ce62a0b43flevel0_row49\" class=\"row_heading level0 row49\" >49</th>\n",
       "                        <td id=\"T_1cd95c8c_5f16_11eb_b089_80ce62a0b43frow49_col0\" class=\"data row49 col0\" >Polynomial Threshold</td>\n",
       "                        <td id=\"T_1cd95c8c_5f16_11eb_b089_80ce62a0b43frow49_col1\" class=\"data row49 col1\" >None</td>\n",
       "            </tr>\n",
       "            <tr>\n",
       "                        <th id=\"T_1cd95c8c_5f16_11eb_b089_80ce62a0b43flevel0_row50\" class=\"row_heading level0 row50\" >50</th>\n",
       "                        <td id=\"T_1cd95c8c_5f16_11eb_b089_80ce62a0b43frow50_col0\" class=\"data row50 col0\" >Group Features</td>\n",
       "                        <td id=\"T_1cd95c8c_5f16_11eb_b089_80ce62a0b43frow50_col1\" class=\"data row50 col1\" >False</td>\n",
       "            </tr>\n",
       "            <tr>\n",
       "                        <th id=\"T_1cd95c8c_5f16_11eb_b089_80ce62a0b43flevel0_row51\" class=\"row_heading level0 row51\" >51</th>\n",
       "                        <td id=\"T_1cd95c8c_5f16_11eb_b089_80ce62a0b43frow51_col0\" class=\"data row51 col0\" >Feature Selection</td>\n",
       "                        <td id=\"T_1cd95c8c_5f16_11eb_b089_80ce62a0b43frow51_col1\" class=\"data row51 col1\" >True</td>\n",
       "            </tr>\n",
       "            <tr>\n",
       "                        <th id=\"T_1cd95c8c_5f16_11eb_b089_80ce62a0b43flevel0_row52\" class=\"row_heading level0 row52\" >52</th>\n",
       "                        <td id=\"T_1cd95c8c_5f16_11eb_b089_80ce62a0b43frow52_col0\" class=\"data row52 col0\" >Features Selection Threshold</td>\n",
       "                        <td id=\"T_1cd95c8c_5f16_11eb_b089_80ce62a0b43frow52_col1\" class=\"data row52 col1\" >0.700000</td>\n",
       "            </tr>\n",
       "            <tr>\n",
       "                        <th id=\"T_1cd95c8c_5f16_11eb_b089_80ce62a0b43flevel0_row53\" class=\"row_heading level0 row53\" >53</th>\n",
       "                        <td id=\"T_1cd95c8c_5f16_11eb_b089_80ce62a0b43frow53_col0\" class=\"data row53 col0\" >Feature Interaction</td>\n",
       "                        <td id=\"T_1cd95c8c_5f16_11eb_b089_80ce62a0b43frow53_col1\" class=\"data row53 col1\" >False</td>\n",
       "            </tr>\n",
       "            <tr>\n",
       "                        <th id=\"T_1cd95c8c_5f16_11eb_b089_80ce62a0b43flevel0_row54\" class=\"row_heading level0 row54\" >54</th>\n",
       "                        <td id=\"T_1cd95c8c_5f16_11eb_b089_80ce62a0b43frow54_col0\" class=\"data row54 col0\" >Feature Ratio</td>\n",
       "                        <td id=\"T_1cd95c8c_5f16_11eb_b089_80ce62a0b43frow54_col1\" class=\"data row54 col1\" >False</td>\n",
       "            </tr>\n",
       "            <tr>\n",
       "                        <th id=\"T_1cd95c8c_5f16_11eb_b089_80ce62a0b43flevel0_row55\" class=\"row_heading level0 row55\" >55</th>\n",
       "                        <td id=\"T_1cd95c8c_5f16_11eb_b089_80ce62a0b43frow55_col0\" class=\"data row55 col0\" >Interaction Threshold</td>\n",
       "                        <td id=\"T_1cd95c8c_5f16_11eb_b089_80ce62a0b43frow55_col1\" class=\"data row55 col1\" >None</td>\n",
       "            </tr>\n",
       "            <tr>\n",
       "                        <th id=\"T_1cd95c8c_5f16_11eb_b089_80ce62a0b43flevel0_row56\" class=\"row_heading level0 row56\" >56</th>\n",
       "                        <td id=\"T_1cd95c8c_5f16_11eb_b089_80ce62a0b43frow56_col0\" class=\"data row56 col0\" >Fix Imbalance</td>\n",
       "                        <td id=\"T_1cd95c8c_5f16_11eb_b089_80ce62a0b43frow56_col1\" class=\"data row56 col1\" >True</td>\n",
       "            </tr>\n",
       "            <tr>\n",
       "                        <th id=\"T_1cd95c8c_5f16_11eb_b089_80ce62a0b43flevel0_row57\" class=\"row_heading level0 row57\" >57</th>\n",
       "                        <td id=\"T_1cd95c8c_5f16_11eb_b089_80ce62a0b43frow57_col0\" class=\"data row57 col0\" >Fix Imbalance Method</td>\n",
       "                        <td id=\"T_1cd95c8c_5f16_11eb_b089_80ce62a0b43frow57_col1\" class=\"data row57 col1\" >SMOTE</td>\n",
       "            </tr>\n",
       "    </tbody></table>"
      ],
      "text/plain": [
       "<pandas.io.formats.style.Styler at 0x1f3367adda0>"
      ]
     },
     "metadata": {},
     "output_type": "display_data"
    }
   ],
   "source": [
    "# Pycaret Classifier Setup\n",
    "\n",
    "from pycaret.classification import *\n",
    "\n",
    "ml_setup = setup(data = df,\n",
    "                 target = 'Class',\n",
    "                 session_id=1313,\n",
    "                 feature_selection = True,\n",
    "                 feature_selection_threshold=0.7,\n",
    "                 fix_imbalance=True,\n",
    "                 remove_multicollinearity = True,\n",
    "                 multicollinearity_threshold = 0.4,\n",
    "                 normalize=True,\n",
    "                 normalize_method='robust',\n",
    "                 remove_outliers=True,\n",
    "                 train_size=0.8,\n",
    "                 ignore_low_variance=True)"
   ]
  },
  {
   "cell_type": "code",
   "execution_count": 48,
   "metadata": {},
   "outputs": [
    {
     "data": {
      "text/html": [
       "<style  type=\"text/css\" >\n",
       "    #T_a384f322_5f20_11eb_b024_80ce62a0b43f th {\n",
       "          text-align: left;\n",
       "    }#T_a384f322_5f20_11eb_b024_80ce62a0b43frow0_col0,#T_a384f322_5f20_11eb_b024_80ce62a0b43frow0_col2,#T_a384f322_5f20_11eb_b024_80ce62a0b43frow0_col3,#T_a384f322_5f20_11eb_b024_80ce62a0b43frow0_col4,#T_a384f322_5f20_11eb_b024_80ce62a0b43frow0_col5,#T_a384f322_5f20_11eb_b024_80ce62a0b43frow0_col6,#T_a384f322_5f20_11eb_b024_80ce62a0b43frow0_col7,#T_a384f322_5f20_11eb_b024_80ce62a0b43frow1_col0,#T_a384f322_5f20_11eb_b024_80ce62a0b43frow1_col2,#T_a384f322_5f20_11eb_b024_80ce62a0b43frow1_col3,#T_a384f322_5f20_11eb_b024_80ce62a0b43frow2_col0,#T_a384f322_5f20_11eb_b024_80ce62a0b43frow2_col1,#T_a384f322_5f20_11eb_b024_80ce62a0b43frow2_col2,#T_a384f322_5f20_11eb_b024_80ce62a0b43frow2_col3,#T_a384f322_5f20_11eb_b024_80ce62a0b43frow2_col4,#T_a384f322_5f20_11eb_b024_80ce62a0b43frow2_col5,#T_a384f322_5f20_11eb_b024_80ce62a0b43frow2_col6,#T_a384f322_5f20_11eb_b024_80ce62a0b43frow2_col7,#T_a384f322_5f20_11eb_b024_80ce62a0b43frow3_col0,#T_a384f322_5f20_11eb_b024_80ce62a0b43frow3_col1,#T_a384f322_5f20_11eb_b024_80ce62a0b43frow3_col2,#T_a384f322_5f20_11eb_b024_80ce62a0b43frow3_col3,#T_a384f322_5f20_11eb_b024_80ce62a0b43frow3_col4,#T_a384f322_5f20_11eb_b024_80ce62a0b43frow3_col5,#T_a384f322_5f20_11eb_b024_80ce62a0b43frow3_col6,#T_a384f322_5f20_11eb_b024_80ce62a0b43frow3_col7,#T_a384f322_5f20_11eb_b024_80ce62a0b43frow4_col0,#T_a384f322_5f20_11eb_b024_80ce62a0b43frow4_col1,#T_a384f322_5f20_11eb_b024_80ce62a0b43frow4_col2,#T_a384f322_5f20_11eb_b024_80ce62a0b43frow4_col3,#T_a384f322_5f20_11eb_b024_80ce62a0b43frow4_col4,#T_a384f322_5f20_11eb_b024_80ce62a0b43frow4_col5,#T_a384f322_5f20_11eb_b024_80ce62a0b43frow4_col6,#T_a384f322_5f20_11eb_b024_80ce62a0b43frow4_col7,#T_a384f322_5f20_11eb_b024_80ce62a0b43frow5_col0,#T_a384f322_5f20_11eb_b024_80ce62a0b43frow5_col1,#T_a384f322_5f20_11eb_b024_80ce62a0b43frow5_col2,#T_a384f322_5f20_11eb_b024_80ce62a0b43frow5_col3,#T_a384f322_5f20_11eb_b024_80ce62a0b43frow5_col4,#T_a384f322_5f20_11eb_b024_80ce62a0b43frow5_col5,#T_a384f322_5f20_11eb_b024_80ce62a0b43frow5_col6,#T_a384f322_5f20_11eb_b024_80ce62a0b43frow5_col7,#T_a384f322_5f20_11eb_b024_80ce62a0b43frow6_col0,#T_a384f322_5f20_11eb_b024_80ce62a0b43frow6_col1,#T_a384f322_5f20_11eb_b024_80ce62a0b43frow6_col2,#T_a384f322_5f20_11eb_b024_80ce62a0b43frow6_col3,#T_a384f322_5f20_11eb_b024_80ce62a0b43frow6_col4,#T_a384f322_5f20_11eb_b024_80ce62a0b43frow6_col5,#T_a384f322_5f20_11eb_b024_80ce62a0b43frow6_col6,#T_a384f322_5f20_11eb_b024_80ce62a0b43frow6_col7,#T_a384f322_5f20_11eb_b024_80ce62a0b43frow7_col0,#T_a384f322_5f20_11eb_b024_80ce62a0b43frow7_col1,#T_a384f322_5f20_11eb_b024_80ce62a0b43frow7_col2,#T_a384f322_5f20_11eb_b024_80ce62a0b43frow7_col3,#T_a384f322_5f20_11eb_b024_80ce62a0b43frow7_col4,#T_a384f322_5f20_11eb_b024_80ce62a0b43frow7_col5,#T_a384f322_5f20_11eb_b024_80ce62a0b43frow7_col6,#T_a384f322_5f20_11eb_b024_80ce62a0b43frow7_col7,#T_a384f322_5f20_11eb_b024_80ce62a0b43frow8_col0,#T_a384f322_5f20_11eb_b024_80ce62a0b43frow8_col1,#T_a384f322_5f20_11eb_b024_80ce62a0b43frow8_col2,#T_a384f322_5f20_11eb_b024_80ce62a0b43frow8_col3,#T_a384f322_5f20_11eb_b024_80ce62a0b43frow8_col4,#T_a384f322_5f20_11eb_b024_80ce62a0b43frow8_col5,#T_a384f322_5f20_11eb_b024_80ce62a0b43frow8_col6,#T_a384f322_5f20_11eb_b024_80ce62a0b43frow8_col7,#T_a384f322_5f20_11eb_b024_80ce62a0b43frow9_col0,#T_a384f322_5f20_11eb_b024_80ce62a0b43frow9_col1,#T_a384f322_5f20_11eb_b024_80ce62a0b43frow9_col2,#T_a384f322_5f20_11eb_b024_80ce62a0b43frow9_col3,#T_a384f322_5f20_11eb_b024_80ce62a0b43frow9_col4,#T_a384f322_5f20_11eb_b024_80ce62a0b43frow9_col5,#T_a384f322_5f20_11eb_b024_80ce62a0b43frow9_col6,#T_a384f322_5f20_11eb_b024_80ce62a0b43frow9_col7,#T_a384f322_5f20_11eb_b024_80ce62a0b43frow10_col0,#T_a384f322_5f20_11eb_b024_80ce62a0b43frow10_col1,#T_a384f322_5f20_11eb_b024_80ce62a0b43frow10_col2,#T_a384f322_5f20_11eb_b024_80ce62a0b43frow10_col3,#T_a384f322_5f20_11eb_b024_80ce62a0b43frow10_col4,#T_a384f322_5f20_11eb_b024_80ce62a0b43frow10_col5,#T_a384f322_5f20_11eb_b024_80ce62a0b43frow10_col6,#T_a384f322_5f20_11eb_b024_80ce62a0b43frow10_col7,#T_a384f322_5f20_11eb_b024_80ce62a0b43frow11_col0,#T_a384f322_5f20_11eb_b024_80ce62a0b43frow11_col1,#T_a384f322_5f20_11eb_b024_80ce62a0b43frow11_col2,#T_a384f322_5f20_11eb_b024_80ce62a0b43frow11_col4,#T_a384f322_5f20_11eb_b024_80ce62a0b43frow11_col5,#T_a384f322_5f20_11eb_b024_80ce62a0b43frow11_col6,#T_a384f322_5f20_11eb_b024_80ce62a0b43frow11_col7,#T_a384f322_5f20_11eb_b024_80ce62a0b43frow12_col0,#T_a384f322_5f20_11eb_b024_80ce62a0b43frow12_col1,#T_a384f322_5f20_11eb_b024_80ce62a0b43frow12_col2,#T_a384f322_5f20_11eb_b024_80ce62a0b43frow12_col3,#T_a384f322_5f20_11eb_b024_80ce62a0b43frow12_col4,#T_a384f322_5f20_11eb_b024_80ce62a0b43frow12_col5,#T_a384f322_5f20_11eb_b024_80ce62a0b43frow12_col6,#T_a384f322_5f20_11eb_b024_80ce62a0b43frow12_col7,#T_a384f322_5f20_11eb_b024_80ce62a0b43frow13_col0,#T_a384f322_5f20_11eb_b024_80ce62a0b43frow13_col1,#T_a384f322_5f20_11eb_b024_80ce62a0b43frow13_col2,#T_a384f322_5f20_11eb_b024_80ce62a0b43frow13_col3,#T_a384f322_5f20_11eb_b024_80ce62a0b43frow13_col4,#T_a384f322_5f20_11eb_b024_80ce62a0b43frow13_col5,#T_a384f322_5f20_11eb_b024_80ce62a0b43frow13_col6,#T_a384f322_5f20_11eb_b024_80ce62a0b43frow13_col7,#T_a384f322_5f20_11eb_b024_80ce62a0b43frow14_col0,#T_a384f322_5f20_11eb_b024_80ce62a0b43frow14_col1,#T_a384f322_5f20_11eb_b024_80ce62a0b43frow14_col3,#T_a384f322_5f20_11eb_b024_80ce62a0b43frow14_col4,#T_a384f322_5f20_11eb_b024_80ce62a0b43frow14_col5,#T_a384f322_5f20_11eb_b024_80ce62a0b43frow14_col6,#T_a384f322_5f20_11eb_b024_80ce62a0b43frow14_col7{\n",
       "            text-align:  left;\n",
       "            text-align:  left;\n",
       "        }#T_a384f322_5f20_11eb_b024_80ce62a0b43frow0_col1,#T_a384f322_5f20_11eb_b024_80ce62a0b43frow1_col1,#T_a384f322_5f20_11eb_b024_80ce62a0b43frow1_col4,#T_a384f322_5f20_11eb_b024_80ce62a0b43frow1_col5,#T_a384f322_5f20_11eb_b024_80ce62a0b43frow1_col6,#T_a384f322_5f20_11eb_b024_80ce62a0b43frow1_col7,#T_a384f322_5f20_11eb_b024_80ce62a0b43frow11_col3,#T_a384f322_5f20_11eb_b024_80ce62a0b43frow14_col2{\n",
       "            text-align:  left;\n",
       "            text-align:  left;\n",
       "            background-color:  yellow;\n",
       "        }#T_a384f322_5f20_11eb_b024_80ce62a0b43frow0_col8,#T_a384f322_5f20_11eb_b024_80ce62a0b43frow1_col8,#T_a384f322_5f20_11eb_b024_80ce62a0b43frow2_col8,#T_a384f322_5f20_11eb_b024_80ce62a0b43frow3_col8,#T_a384f322_5f20_11eb_b024_80ce62a0b43frow4_col8,#T_a384f322_5f20_11eb_b024_80ce62a0b43frow5_col8,#T_a384f322_5f20_11eb_b024_80ce62a0b43frow6_col8,#T_a384f322_5f20_11eb_b024_80ce62a0b43frow7_col8,#T_a384f322_5f20_11eb_b024_80ce62a0b43frow8_col8,#T_a384f322_5f20_11eb_b024_80ce62a0b43frow9_col8,#T_a384f322_5f20_11eb_b024_80ce62a0b43frow10_col8,#T_a384f322_5f20_11eb_b024_80ce62a0b43frow11_col8,#T_a384f322_5f20_11eb_b024_80ce62a0b43frow12_col8,#T_a384f322_5f20_11eb_b024_80ce62a0b43frow14_col8{\n",
       "            text-align:  left;\n",
       "            text-align:  left;\n",
       "            background-color:  lightgrey;\n",
       "        }#T_a384f322_5f20_11eb_b024_80ce62a0b43frow13_col8{\n",
       "            text-align:  left;\n",
       "            text-align:  left;\n",
       "            background-color:  yellow;\n",
       "            background-color:  lightgrey;\n",
       "        }</style><table id=\"T_a384f322_5f20_11eb_b024_80ce62a0b43f\" ><thead>    <tr>        <th class=\"blank level0\" ></th>        <th class=\"col_heading level0 col0\" >Model</th>        <th class=\"col_heading level0 col1\" >Accuracy</th>        <th class=\"col_heading level0 col2\" >AUC</th>        <th class=\"col_heading level0 col3\" >Recall</th>        <th class=\"col_heading level0 col4\" >Prec.</th>        <th class=\"col_heading level0 col5\" >F1</th>        <th class=\"col_heading level0 col6\" >Kappa</th>        <th class=\"col_heading level0 col7\" >MCC</th>        <th class=\"col_heading level0 col8\" >TT (Sec)</th>    </tr></thead><tbody>\n",
       "                <tr>\n",
       "                        <th id=\"T_a384f322_5f20_11eb_b024_80ce62a0b43flevel0_row0\" class=\"row_heading level0 row0\" >rf</th>\n",
       "                        <td id=\"T_a384f322_5f20_11eb_b024_80ce62a0b43frow0_col0\" class=\"data row0 col0\" >Random Forest Classifier</td>\n",
       "                        <td id=\"T_a384f322_5f20_11eb_b024_80ce62a0b43frow0_col1\" class=\"data row0 col1\" >0.9998</td>\n",
       "                        <td id=\"T_a384f322_5f20_11eb_b024_80ce62a0b43frow0_col2\" class=\"data row0 col2\" >0.6647</td>\n",
       "                        <td id=\"T_a384f322_5f20_11eb_b024_80ce62a0b43frow0_col3\" class=\"data row0 col3\" >0.0200</td>\n",
       "                        <td id=\"T_a384f322_5f20_11eb_b024_80ce62a0b43frow0_col4\" class=\"data row0 col4\" >0.1000</td>\n",
       "                        <td id=\"T_a384f322_5f20_11eb_b024_80ce62a0b43frow0_col5\" class=\"data row0 col5\" >0.0333</td>\n",
       "                        <td id=\"T_a384f322_5f20_11eb_b024_80ce62a0b43frow0_col6\" class=\"data row0 col6\" >0.0333</td>\n",
       "                        <td id=\"T_a384f322_5f20_11eb_b024_80ce62a0b43frow0_col7\" class=\"data row0 col7\" >0.0446</td>\n",
       "                        <td id=\"T_a384f322_5f20_11eb_b024_80ce62a0b43frow0_col8\" class=\"data row0 col8\" >149.3700</td>\n",
       "            </tr>\n",
       "            <tr>\n",
       "                        <th id=\"T_a384f322_5f20_11eb_b024_80ce62a0b43flevel0_row1\" class=\"row_heading level0 row1\" >et</th>\n",
       "                        <td id=\"T_a384f322_5f20_11eb_b024_80ce62a0b43frow1_col0\" class=\"data row1 col0\" >Extra Trees Classifier</td>\n",
       "                        <td id=\"T_a384f322_5f20_11eb_b024_80ce62a0b43frow1_col1\" class=\"data row1 col1\" >0.9998</td>\n",
       "                        <td id=\"T_a384f322_5f20_11eb_b024_80ce62a0b43frow1_col2\" class=\"data row1 col2\" >0.7653</td>\n",
       "                        <td id=\"T_a384f322_5f20_11eb_b024_80ce62a0b43frow1_col3\" class=\"data row1 col3\" >0.0644</td>\n",
       "                        <td id=\"T_a384f322_5f20_11eb_b024_80ce62a0b43frow1_col4\" class=\"data row1 col4\" >0.4000</td>\n",
       "                        <td id=\"T_a384f322_5f20_11eb_b024_80ce62a0b43frow1_col5\" class=\"data row1 col5\" >0.1097</td>\n",
       "                        <td id=\"T_a384f322_5f20_11eb_b024_80ce62a0b43frow1_col6\" class=\"data row1 col6\" >0.1096</td>\n",
       "                        <td id=\"T_a384f322_5f20_11eb_b024_80ce62a0b43frow1_col7\" class=\"data row1 col7\" >0.1585</td>\n",
       "                        <td id=\"T_a384f322_5f20_11eb_b024_80ce62a0b43frow1_col8\" class=\"data row1 col8\" >37.6760</td>\n",
       "            </tr>\n",
       "            <tr>\n",
       "                        <th id=\"T_a384f322_5f20_11eb_b024_80ce62a0b43flevel0_row2\" class=\"row_heading level0 row2\" >xgboost</th>\n",
       "                        <td id=\"T_a384f322_5f20_11eb_b024_80ce62a0b43frow2_col0\" class=\"data row2 col0\" >Extreme Gradient Boosting</td>\n",
       "                        <td id=\"T_a384f322_5f20_11eb_b024_80ce62a0b43frow2_col1\" class=\"data row2 col1\" >0.9994</td>\n",
       "                        <td id=\"T_a384f322_5f20_11eb_b024_80ce62a0b43frow2_col2\" class=\"data row2 col2\" >0.7042</td>\n",
       "                        <td id=\"T_a384f322_5f20_11eb_b024_80ce62a0b43frow2_col3\" class=\"data row2 col3\" >0.1089</td>\n",
       "                        <td id=\"T_a384f322_5f20_11eb_b024_80ce62a0b43frow2_col4\" class=\"data row2 col4\" >0.0580</td>\n",
       "                        <td id=\"T_a384f322_5f20_11eb_b024_80ce62a0b43frow2_col5\" class=\"data row2 col5\" >0.0749</td>\n",
       "                        <td id=\"T_a384f322_5f20_11eb_b024_80ce62a0b43frow2_col6\" class=\"data row2 col6\" >0.0747</td>\n",
       "                        <td id=\"T_a384f322_5f20_11eb_b024_80ce62a0b43frow2_col7\" class=\"data row2 col7\" >0.0787</td>\n",
       "                        <td id=\"T_a384f322_5f20_11eb_b024_80ce62a0b43frow2_col8\" class=\"data row2 col8\" >110.2380</td>\n",
       "            </tr>\n",
       "            <tr>\n",
       "                        <th id=\"T_a384f322_5f20_11eb_b024_80ce62a0b43flevel0_row3\" class=\"row_heading level0 row3\" >catboost</th>\n",
       "                        <td id=\"T_a384f322_5f20_11eb_b024_80ce62a0b43frow3_col0\" class=\"data row3 col0\" >CatBoost Classifier</td>\n",
       "                        <td id=\"T_a384f322_5f20_11eb_b024_80ce62a0b43frow3_col1\" class=\"data row3 col1\" >0.9990</td>\n",
       "                        <td id=\"T_a384f322_5f20_11eb_b024_80ce62a0b43frow3_col2\" class=\"data row3 col2\" >0.6903</td>\n",
       "                        <td id=\"T_a384f322_5f20_11eb_b024_80ce62a0b43frow3_col3\" class=\"data row3 col3\" >0.0867</td>\n",
       "                        <td id=\"T_a384f322_5f20_11eb_b024_80ce62a0b43frow3_col4\" class=\"data row3 col4\" >0.0278</td>\n",
       "                        <td id=\"T_a384f322_5f20_11eb_b024_80ce62a0b43frow3_col5\" class=\"data row3 col5\" >0.0415</td>\n",
       "                        <td id=\"T_a384f322_5f20_11eb_b024_80ce62a0b43frow3_col6\" class=\"data row3 col6\" >0.0412</td>\n",
       "                        <td id=\"T_a384f322_5f20_11eb_b024_80ce62a0b43frow3_col7\" class=\"data row3 col7\" >0.0482</td>\n",
       "                        <td id=\"T_a384f322_5f20_11eb_b024_80ce62a0b43frow3_col8\" class=\"data row3 col8\" >89.9040</td>\n",
       "            </tr>\n",
       "            <tr>\n",
       "                        <th id=\"T_a384f322_5f20_11eb_b024_80ce62a0b43flevel0_row4\" class=\"row_heading level0 row4\" >lightgbm</th>\n",
       "                        <td id=\"T_a384f322_5f20_11eb_b024_80ce62a0b43frow4_col0\" class=\"data row4 col0\" >Light Gradient Boosting Machine</td>\n",
       "                        <td id=\"T_a384f322_5f20_11eb_b024_80ce62a0b43frow4_col1\" class=\"data row4 col1\" >0.9987</td>\n",
       "                        <td id=\"T_a384f322_5f20_11eb_b024_80ce62a0b43frow4_col2\" class=\"data row4 col2\" >0.7534</td>\n",
       "                        <td id=\"T_a384f322_5f20_11eb_b024_80ce62a0b43frow4_col3\" class=\"data row4 col3\" >0.1533</td>\n",
       "                        <td id=\"T_a384f322_5f20_11eb_b024_80ce62a0b43frow4_col4\" class=\"data row4 col4\" >0.0303</td>\n",
       "                        <td id=\"T_a384f322_5f20_11eb_b024_80ce62a0b43frow4_col5\" class=\"data row4 col5\" >0.0505</td>\n",
       "                        <td id=\"T_a384f322_5f20_11eb_b024_80ce62a0b43frow4_col6\" class=\"data row4 col6\" >0.0502</td>\n",
       "                        <td id=\"T_a384f322_5f20_11eb_b024_80ce62a0b43frow4_col7\" class=\"data row4 col7\" >0.0676</td>\n",
       "                        <td id=\"T_a384f322_5f20_11eb_b024_80ce62a0b43frow4_col8\" class=\"data row4 col8\" >5.8600</td>\n",
       "            </tr>\n",
       "            <tr>\n",
       "                        <th id=\"T_a384f322_5f20_11eb_b024_80ce62a0b43flevel0_row5\" class=\"row_heading level0 row5\" >dt</th>\n",
       "                        <td id=\"T_a384f322_5f20_11eb_b024_80ce62a0b43frow5_col0\" class=\"data row5 col0\" >Decision Tree Classifier</td>\n",
       "                        <td id=\"T_a384f322_5f20_11eb_b024_80ce62a0b43frow5_col1\" class=\"data row5 col1\" >0.9986</td>\n",
       "                        <td id=\"T_a384f322_5f20_11eb_b024_80ce62a0b43frow5_col2\" class=\"data row5 col2\" >0.5094</td>\n",
       "                        <td id=\"T_a384f322_5f20_11eb_b024_80ce62a0b43frow5_col3\" class=\"data row5 col3\" >0.0200</td>\n",
       "                        <td id=\"T_a384f322_5f20_11eb_b024_80ce62a0b43frow5_col4\" class=\"data row5 col4\" >0.0033</td>\n",
       "                        <td id=\"T_a384f322_5f20_11eb_b024_80ce62a0b43frow5_col5\" class=\"data row5 col5\" >0.0056</td>\n",
       "                        <td id=\"T_a384f322_5f20_11eb_b024_80ce62a0b43frow5_col6\" class=\"data row5 col6\" >0.0053</td>\n",
       "                        <td id=\"T_a384f322_5f20_11eb_b024_80ce62a0b43frow5_col7\" class=\"data row5 col7\" >0.0076</td>\n",
       "                        <td id=\"T_a384f322_5f20_11eb_b024_80ce62a0b43frow5_col8\" class=\"data row5 col8\" >20.4940</td>\n",
       "            </tr>\n",
       "            <tr>\n",
       "                        <th id=\"T_a384f322_5f20_11eb_b024_80ce62a0b43flevel0_row6\" class=\"row_heading level0 row6\" >knn</th>\n",
       "                        <td id=\"T_a384f322_5f20_11eb_b024_80ce62a0b43frow6_col0\" class=\"data row6 col0\" >K Neighbors Classifier</td>\n",
       "                        <td id=\"T_a384f322_5f20_11eb_b024_80ce62a0b43frow6_col1\" class=\"data row6 col1\" >0.9981</td>\n",
       "                        <td id=\"T_a384f322_5f20_11eb_b024_80ce62a0b43frow6_col2\" class=\"data row6 col2\" >0.5966</td>\n",
       "                        <td id=\"T_a384f322_5f20_11eb_b024_80ce62a0b43frow6_col3\" class=\"data row6 col3\" >0.1511</td>\n",
       "                        <td id=\"T_a384f322_5f20_11eb_b024_80ce62a0b43frow6_col4\" class=\"data row6 col4\" >0.0174</td>\n",
       "                        <td id=\"T_a384f322_5f20_11eb_b024_80ce62a0b43frow6_col5\" class=\"data row6 col5\" >0.0312</td>\n",
       "                        <td id=\"T_a384f322_5f20_11eb_b024_80ce62a0b43frow6_col6\" class=\"data row6 col6\" >0.0308</td>\n",
       "                        <td id=\"T_a384f322_5f20_11eb_b024_80ce62a0b43frow6_col7\" class=\"data row6 col7\" >0.0506</td>\n",
       "                        <td id=\"T_a384f322_5f20_11eb_b024_80ce62a0b43frow6_col8\" class=\"data row6 col8\" >148.5900</td>\n",
       "            </tr>\n",
       "            <tr>\n",
       "                        <th id=\"T_a384f322_5f20_11eb_b024_80ce62a0b43flevel0_row7\" class=\"row_heading level0 row7\" >gbc</th>\n",
       "                        <td id=\"T_a384f322_5f20_11eb_b024_80ce62a0b43frow7_col0\" class=\"data row7 col0\" >Gradient Boosting Classifier</td>\n",
       "                        <td id=\"T_a384f322_5f20_11eb_b024_80ce62a0b43frow7_col1\" class=\"data row7 col1\" >0.9725</td>\n",
       "                        <td id=\"T_a384f322_5f20_11eb_b024_80ce62a0b43frow7_col2\" class=\"data row7 col2\" >0.7448</td>\n",
       "                        <td id=\"T_a384f322_5f20_11eb_b024_80ce62a0b43frow7_col3\" class=\"data row7 col3\" >0.3489</td>\n",
       "                        <td id=\"T_a384f322_5f20_11eb_b024_80ce62a0b43frow7_col4\" class=\"data row7 col4\" >0.0025</td>\n",
       "                        <td id=\"T_a384f322_5f20_11eb_b024_80ce62a0b43frow7_col5\" class=\"data row7 col5\" >0.0050</td>\n",
       "                        <td id=\"T_a384f322_5f20_11eb_b024_80ce62a0b43frow7_col6\" class=\"data row7 col6\" >0.0046</td>\n",
       "                        <td id=\"T_a384f322_5f20_11eb_b024_80ce62a0b43frow7_col7\" class=\"data row7 col7\" >0.0276</td>\n",
       "                        <td id=\"T_a384f322_5f20_11eb_b024_80ce62a0b43frow7_col8\" class=\"data row7 col8\" >246.3660</td>\n",
       "            </tr>\n",
       "            <tr>\n",
       "                        <th id=\"T_a384f322_5f20_11eb_b024_80ce62a0b43flevel0_row8\" class=\"row_heading level0 row8\" >qda</th>\n",
       "                        <td id=\"T_a384f322_5f20_11eb_b024_80ce62a0b43frow8_col0\" class=\"data row8 col0\" >Quadratic Discriminant Analysis</td>\n",
       "                        <td id=\"T_a384f322_5f20_11eb_b024_80ce62a0b43frow8_col1\" class=\"data row8 col1\" >0.9550</td>\n",
       "                        <td id=\"T_a384f322_5f20_11eb_b024_80ce62a0b43frow8_col2\" class=\"data row8 col2\" >0.6392</td>\n",
       "                        <td id=\"T_a384f322_5f20_11eb_b024_80ce62a0b43frow8_col3\" class=\"data row8 col3\" >0.1956</td>\n",
       "                        <td id=\"T_a384f322_5f20_11eb_b024_80ce62a0b43frow8_col4\" class=\"data row8 col4\" >0.0010</td>\n",
       "                        <td id=\"T_a384f322_5f20_11eb_b024_80ce62a0b43frow8_col5\" class=\"data row8 col5\" >0.0019</td>\n",
       "                        <td id=\"T_a384f322_5f20_11eb_b024_80ce62a0b43frow8_col6\" class=\"data row8 col6\" >0.0015</td>\n",
       "                        <td id=\"T_a384f322_5f20_11eb_b024_80ce62a0b43frow8_col7\" class=\"data row8 col7\" >0.0108</td>\n",
       "                        <td id=\"T_a384f322_5f20_11eb_b024_80ce62a0b43frow8_col8\" class=\"data row8 col8\" >1.6720</td>\n",
       "            </tr>\n",
       "            <tr>\n",
       "                        <th id=\"T_a384f322_5f20_11eb_b024_80ce62a0b43flevel0_row9\" class=\"row_heading level0 row9\" >ada</th>\n",
       "                        <td id=\"T_a384f322_5f20_11eb_b024_80ce62a0b43frow9_col0\" class=\"data row9 col0\" >Ada Boost Classifier</td>\n",
       "                        <td id=\"T_a384f322_5f20_11eb_b024_80ce62a0b43frow9_col1\" class=\"data row9 col1\" >0.9463</td>\n",
       "                        <td id=\"T_a384f322_5f20_11eb_b024_80ce62a0b43frow9_col2\" class=\"data row9 col2\" >0.7168</td>\n",
       "                        <td id=\"T_a384f322_5f20_11eb_b024_80ce62a0b43frow9_col3\" class=\"data row9 col3\" >0.4378</td>\n",
       "                        <td id=\"T_a384f322_5f20_11eb_b024_80ce62a0b43frow9_col4\" class=\"data row9 col4\" >0.0017</td>\n",
       "                        <td id=\"T_a384f322_5f20_11eb_b024_80ce62a0b43frow9_col5\" class=\"data row9 col5\" >0.0034</td>\n",
       "                        <td id=\"T_a384f322_5f20_11eb_b024_80ce62a0b43frow9_col6\" class=\"data row9 col6\" >0.0030</td>\n",
       "                        <td id=\"T_a384f322_5f20_11eb_b024_80ce62a0b43frow9_col7\" class=\"data row9 col7\" >0.0244</td>\n",
       "                        <td id=\"T_a384f322_5f20_11eb_b024_80ce62a0b43frow9_col8\" class=\"data row9 col8\" >49.2880</td>\n",
       "            </tr>\n",
       "            <tr>\n",
       "                        <th id=\"T_a384f322_5f20_11eb_b024_80ce62a0b43flevel0_row10\" class=\"row_heading level0 row10\" >nb</th>\n",
       "                        <td id=\"T_a384f322_5f20_11eb_b024_80ce62a0b43frow10_col0\" class=\"data row10 col0\" >Naive Bayes</td>\n",
       "                        <td id=\"T_a384f322_5f20_11eb_b024_80ce62a0b43frow10_col1\" class=\"data row10 col1\" >0.8928</td>\n",
       "                        <td id=\"T_a384f322_5f20_11eb_b024_80ce62a0b43frow10_col2\" class=\"data row10 col2\" >0.7909</td>\n",
       "                        <td id=\"T_a384f322_5f20_11eb_b024_80ce62a0b43frow10_col3\" class=\"data row10 col3\" >0.5933</td>\n",
       "                        <td id=\"T_a384f322_5f20_11eb_b024_80ce62a0b43frow10_col4\" class=\"data row10 col4\" >0.0012</td>\n",
       "                        <td id=\"T_a384f322_5f20_11eb_b024_80ce62a0b43frow10_col5\" class=\"data row10 col5\" >0.0023</td>\n",
       "                        <td id=\"T_a384f322_5f20_11eb_b024_80ce62a0b43frow10_col6\" class=\"data row10 col6\" >0.0019</td>\n",
       "                        <td id=\"T_a384f322_5f20_11eb_b024_80ce62a0b43frow10_col7\" class=\"data row10 col7\" >0.0226</td>\n",
       "                        <td id=\"T_a384f322_5f20_11eb_b024_80ce62a0b43frow10_col8\" class=\"data row10 col8\" >0.6180</td>\n",
       "            </tr>\n",
       "            <tr>\n",
       "                        <th id=\"T_a384f322_5f20_11eb_b024_80ce62a0b43flevel0_row11\" class=\"row_heading level0 row11\" >lr</th>\n",
       "                        <td id=\"T_a384f322_5f20_11eb_b024_80ce62a0b43frow11_col0\" class=\"data row11 col0\" >Logistic Regression</td>\n",
       "                        <td id=\"T_a384f322_5f20_11eb_b024_80ce62a0b43frow11_col1\" class=\"data row11 col1\" >0.8706</td>\n",
       "                        <td id=\"T_a384f322_5f20_11eb_b024_80ce62a0b43frow11_col2\" class=\"data row11 col2\" >0.8064</td>\n",
       "                        <td id=\"T_a384f322_5f20_11eb_b024_80ce62a0b43frow11_col3\" class=\"data row11 col3\" >0.6800</td>\n",
       "                        <td id=\"T_a384f322_5f20_11eb_b024_80ce62a0b43frow11_col4\" class=\"data row11 col4\" >0.0011</td>\n",
       "                        <td id=\"T_a384f322_5f20_11eb_b024_80ce62a0b43frow11_col5\" class=\"data row11 col5\" >0.0022</td>\n",
       "                        <td id=\"T_a384f322_5f20_11eb_b024_80ce62a0b43frow11_col6\" class=\"data row11 col6\" >0.0018</td>\n",
       "                        <td id=\"T_a384f322_5f20_11eb_b024_80ce62a0b43frow11_col7\" class=\"data row11 col7\" >0.0237</td>\n",
       "                        <td id=\"T_a384f322_5f20_11eb_b024_80ce62a0b43frow11_col8\" class=\"data row11 col8\" >5.4500</td>\n",
       "            </tr>\n",
       "            <tr>\n",
       "                        <th id=\"T_a384f322_5f20_11eb_b024_80ce62a0b43flevel0_row12\" class=\"row_heading level0 row12\" >svm</th>\n",
       "                        <td id=\"T_a384f322_5f20_11eb_b024_80ce62a0b43frow12_col0\" class=\"data row12 col0\" >SVM - Linear Kernel</td>\n",
       "                        <td id=\"T_a384f322_5f20_11eb_b024_80ce62a0b43frow12_col1\" class=\"data row12 col1\" >0.8638</td>\n",
       "                        <td id=\"T_a384f322_5f20_11eb_b024_80ce62a0b43frow12_col2\" class=\"data row12 col2\" >0.0000</td>\n",
       "                        <td id=\"T_a384f322_5f20_11eb_b024_80ce62a0b43frow12_col3\" class=\"data row12 col3\" >0.6778</td>\n",
       "                        <td id=\"T_a384f322_5f20_11eb_b024_80ce62a0b43frow12_col4\" class=\"data row12 col4\" >0.0010</td>\n",
       "                        <td id=\"T_a384f322_5f20_11eb_b024_80ce62a0b43frow12_col5\" class=\"data row12 col5\" >0.0021</td>\n",
       "                        <td id=\"T_a384f322_5f20_11eb_b024_80ce62a0b43frow12_col6\" class=\"data row12 col6\" >0.0017</td>\n",
       "                        <td id=\"T_a384f322_5f20_11eb_b024_80ce62a0b43frow12_col7\" class=\"data row12 col7\" >0.0229</td>\n",
       "                        <td id=\"T_a384f322_5f20_11eb_b024_80ce62a0b43frow12_col8\" class=\"data row12 col8\" >1.0960</td>\n",
       "            </tr>\n",
       "            <tr>\n",
       "                        <th id=\"T_a384f322_5f20_11eb_b024_80ce62a0b43flevel0_row13\" class=\"row_heading level0 row13\" >ridge</th>\n",
       "                        <td id=\"T_a384f322_5f20_11eb_b024_80ce62a0b43frow13_col0\" class=\"data row13 col0\" >Ridge Classifier</td>\n",
       "                        <td id=\"T_a384f322_5f20_11eb_b024_80ce62a0b43frow13_col1\" class=\"data row13 col1\" >0.8580</td>\n",
       "                        <td id=\"T_a384f322_5f20_11eb_b024_80ce62a0b43frow13_col2\" class=\"data row13 col2\" >0.0000</td>\n",
       "                        <td id=\"T_a384f322_5f20_11eb_b024_80ce62a0b43frow13_col3\" class=\"data row13 col3\" >0.6778</td>\n",
       "                        <td id=\"T_a384f322_5f20_11eb_b024_80ce62a0b43frow13_col4\" class=\"data row13 col4\" >0.0010</td>\n",
       "                        <td id=\"T_a384f322_5f20_11eb_b024_80ce62a0b43frow13_col5\" class=\"data row13 col5\" >0.0020</td>\n",
       "                        <td id=\"T_a384f322_5f20_11eb_b024_80ce62a0b43frow13_col6\" class=\"data row13 col6\" >0.0016</td>\n",
       "                        <td id=\"T_a384f322_5f20_11eb_b024_80ce62a0b43frow13_col7\" class=\"data row13 col7\" >0.0222</td>\n",
       "                        <td id=\"T_a384f322_5f20_11eb_b024_80ce62a0b43frow13_col8\" class=\"data row13 col8\" >0.5440</td>\n",
       "            </tr>\n",
       "            <tr>\n",
       "                        <th id=\"T_a384f322_5f20_11eb_b024_80ce62a0b43flevel0_row14\" class=\"row_heading level0 row14\" >lda</th>\n",
       "                        <td id=\"T_a384f322_5f20_11eb_b024_80ce62a0b43frow14_col0\" class=\"data row14 col0\" >Linear Discriminant Analysis</td>\n",
       "                        <td id=\"T_a384f322_5f20_11eb_b024_80ce62a0b43frow14_col1\" class=\"data row14 col1\" >0.8580</td>\n",
       "                        <td id=\"T_a384f322_5f20_11eb_b024_80ce62a0b43frow14_col2\" class=\"data row14 col2\" >0.8107</td>\n",
       "                        <td id=\"T_a384f322_5f20_11eb_b024_80ce62a0b43frow14_col3\" class=\"data row14 col3\" >0.6778</td>\n",
       "                        <td id=\"T_a384f322_5f20_11eb_b024_80ce62a0b43frow14_col4\" class=\"data row14 col4\" >0.0010</td>\n",
       "                        <td id=\"T_a384f322_5f20_11eb_b024_80ce62a0b43frow14_col5\" class=\"data row14 col5\" >0.0020</td>\n",
       "                        <td id=\"T_a384f322_5f20_11eb_b024_80ce62a0b43frow14_col6\" class=\"data row14 col6\" >0.0016</td>\n",
       "                        <td id=\"T_a384f322_5f20_11eb_b024_80ce62a0b43frow14_col7\" class=\"data row14 col7\" >0.0222</td>\n",
       "                        <td id=\"T_a384f322_5f20_11eb_b024_80ce62a0b43frow14_col8\" class=\"data row14 col8\" >2.7160</td>\n",
       "            </tr>\n",
       "    </tbody></table>"
      ],
      "text/plain": [
       "<pandas.io.formats.style.Styler at 0x1f33653ff60>"
      ]
     },
     "metadata": {},
     "output_type": "display_data"
    },
    {
     "data": {
      "text/plain": [
       "RandomForestClassifier(bootstrap=True, ccp_alpha=0.0, class_weight=None,\n",
       "                       criterion='gini', max_depth=None, max_features='auto',\n",
       "                       max_leaf_nodes=None, max_samples=None,\n",
       "                       min_impurity_decrease=0.0, min_impurity_split=None,\n",
       "                       min_samples_leaf=1, min_samples_split=2,\n",
       "                       min_weight_fraction_leaf=0.0, n_estimators=100,\n",
       "                       n_jobs=-1, oob_score=False, random_state=1313, verbose=0,\n",
       "                       warm_start=False)"
      ]
     },
     "execution_count": 48,
     "metadata": {},
     "output_type": "execute_result"
    }
   ],
   "source": [
    "# Compare models\n",
    "compare_models(fold=5)"
   ]
  },
  {
   "cell_type": "markdown",
   "metadata": {},
   "source": [
    "#### We'll create a Logistic Regression since it has the best Recall and its Accuracy and AUC was acceptable"
   ]
  },
  {
   "cell_type": "code",
   "execution_count": 49,
   "metadata": {
    "scrolled": false
   },
   "outputs": [
    {
     "data": {
      "text/html": [
       "<style  type=\"text/css\" >\n",
       "#T_ad049d34_5f20_11eb_9831_80ce62a0b43frow5_col0,#T_ad049d34_5f20_11eb_9831_80ce62a0b43frow5_col1,#T_ad049d34_5f20_11eb_9831_80ce62a0b43frow5_col2,#T_ad049d34_5f20_11eb_9831_80ce62a0b43frow5_col3,#T_ad049d34_5f20_11eb_9831_80ce62a0b43frow5_col4,#T_ad049d34_5f20_11eb_9831_80ce62a0b43frow5_col5,#T_ad049d34_5f20_11eb_9831_80ce62a0b43frow5_col6{\n",
       "            background:  yellow;\n",
       "        }</style><table id=\"T_ad049d34_5f20_11eb_9831_80ce62a0b43f\" ><thead>    <tr>        <th class=\"blank level0\" ></th>        <th class=\"col_heading level0 col0\" >Accuracy</th>        <th class=\"col_heading level0 col1\" >AUC</th>        <th class=\"col_heading level0 col2\" >Recall</th>        <th class=\"col_heading level0 col3\" >Prec.</th>        <th class=\"col_heading level0 col4\" >F1</th>        <th class=\"col_heading level0 col5\" >Kappa</th>        <th class=\"col_heading level0 col6\" >MCC</th>    </tr></thead><tbody>\n",
       "                <tr>\n",
       "                        <th id=\"T_ad049d34_5f20_11eb_9831_80ce62a0b43flevel0_row0\" class=\"row_heading level0 row0\" >0</th>\n",
       "                        <td id=\"T_ad049d34_5f20_11eb_9831_80ce62a0b43frow0_col0\" class=\"data row0 col0\" >0.8435</td>\n",
       "                        <td id=\"T_ad049d34_5f20_11eb_9831_80ce62a0b43frow0_col1\" class=\"data row0 col1\" >0.9437</td>\n",
       "                        <td id=\"T_ad049d34_5f20_11eb_9831_80ce62a0b43frow0_col2\" class=\"data row0 col2\" >0.8889</td>\n",
       "                        <td id=\"T_ad049d34_5f20_11eb_9831_80ce62a0b43frow0_col3\" class=\"data row0 col3\" >0.0012</td>\n",
       "                        <td id=\"T_ad049d34_5f20_11eb_9831_80ce62a0b43frow0_col4\" class=\"data row0 col4\" >0.0024</td>\n",
       "                        <td id=\"T_ad049d34_5f20_11eb_9831_80ce62a0b43frow0_col5\" class=\"data row0 col5\" >0.0019</td>\n",
       "                        <td id=\"T_ad049d34_5f20_11eb_9831_80ce62a0b43frow0_col6\" class=\"data row0 col6\" >0.0290</td>\n",
       "            </tr>\n",
       "            <tr>\n",
       "                        <th id=\"T_ad049d34_5f20_11eb_9831_80ce62a0b43flevel0_row1\" class=\"row_heading level0 row1\" >1</th>\n",
       "                        <td id=\"T_ad049d34_5f20_11eb_9831_80ce62a0b43frow1_col0\" class=\"data row1 col0\" >0.8715</td>\n",
       "                        <td id=\"T_ad049d34_5f20_11eb_9831_80ce62a0b43frow1_col1\" class=\"data row1 col1\" >0.7158</td>\n",
       "                        <td id=\"T_ad049d34_5f20_11eb_9831_80ce62a0b43frow1_col2\" class=\"data row1 col2\" >0.5556</td>\n",
       "                        <td id=\"T_ad049d34_5f20_11eb_9831_80ce62a0b43frow1_col3\" class=\"data row1 col3\" >0.0009</td>\n",
       "                        <td id=\"T_ad049d34_5f20_11eb_9831_80ce62a0b43frow1_col4\" class=\"data row1 col4\" >0.0018</td>\n",
       "                        <td id=\"T_ad049d34_5f20_11eb_9831_80ce62a0b43frow1_col5\" class=\"data row1 col5\" >0.0014</td>\n",
       "                        <td id=\"T_ad049d34_5f20_11eb_9831_80ce62a0b43frow1_col6\" class=\"data row1 col6\" >0.0184</td>\n",
       "            </tr>\n",
       "            <tr>\n",
       "                        <th id=\"T_ad049d34_5f20_11eb_9831_80ce62a0b43flevel0_row2\" class=\"row_heading level0 row2\" >2</th>\n",
       "                        <td id=\"T_ad049d34_5f20_11eb_9831_80ce62a0b43frow2_col0\" class=\"data row2 col0\" >0.8817</td>\n",
       "                        <td id=\"T_ad049d34_5f20_11eb_9831_80ce62a0b43frow2_col1\" class=\"data row2 col1\" >0.7319</td>\n",
       "                        <td id=\"T_ad049d34_5f20_11eb_9831_80ce62a0b43frow2_col2\" class=\"data row2 col2\" >0.4000</td>\n",
       "                        <td id=\"T_ad049d34_5f20_11eb_9831_80ce62a0b43frow2_col3\" class=\"data row2 col3\" >0.0008</td>\n",
       "                        <td id=\"T_ad049d34_5f20_11eb_9831_80ce62a0b43frow2_col4\" class=\"data row2 col4\" >0.0016</td>\n",
       "                        <td id=\"T_ad049d34_5f20_11eb_9831_80ce62a0b43frow2_col5\" class=\"data row2 col5\" >0.0011</td>\n",
       "                        <td id=\"T_ad049d34_5f20_11eb_9831_80ce62a0b43frow2_col6\" class=\"data row2 col6\" >0.0133</td>\n",
       "            </tr>\n",
       "            <tr>\n",
       "                        <th id=\"T_ad049d34_5f20_11eb_9831_80ce62a0b43flevel0_row3\" class=\"row_heading level0 row3\" >3</th>\n",
       "                        <td id=\"T_ad049d34_5f20_11eb_9831_80ce62a0b43frow3_col0\" class=\"data row3 col0\" >0.8886</td>\n",
       "                        <td id=\"T_ad049d34_5f20_11eb_9831_80ce62a0b43frow3_col1\" class=\"data row3 col1\" >0.7514</td>\n",
       "                        <td id=\"T_ad049d34_5f20_11eb_9831_80ce62a0b43frow3_col2\" class=\"data row3 col2\" >0.6667</td>\n",
       "                        <td id=\"T_ad049d34_5f20_11eb_9831_80ce62a0b43frow3_col3\" class=\"data row3 col3\" >0.0012</td>\n",
       "                        <td id=\"T_ad049d34_5f20_11eb_9831_80ce62a0b43frow3_col4\" class=\"data row3 col4\" >0.0025</td>\n",
       "                        <td id=\"T_ad049d34_5f20_11eb_9831_80ce62a0b43frow3_col5\" class=\"data row3 col5\" >0.0021</td>\n",
       "                        <td id=\"T_ad049d34_5f20_11eb_9831_80ce62a0b43frow3_col6\" class=\"data row3 col6\" >0.0254</td>\n",
       "            </tr>\n",
       "            <tr>\n",
       "                        <th id=\"T_ad049d34_5f20_11eb_9831_80ce62a0b43flevel0_row4\" class=\"row_heading level0 row4\" >4</th>\n",
       "                        <td id=\"T_ad049d34_5f20_11eb_9831_80ce62a0b43frow4_col0\" class=\"data row4 col0\" >0.8675</td>\n",
       "                        <td id=\"T_ad049d34_5f20_11eb_9831_80ce62a0b43frow4_col1\" class=\"data row4 col1\" >0.8893</td>\n",
       "                        <td id=\"T_ad049d34_5f20_11eb_9831_80ce62a0b43frow4_col2\" class=\"data row4 col2\" >0.8889</td>\n",
       "                        <td id=\"T_ad049d34_5f20_11eb_9831_80ce62a0b43frow4_col3\" class=\"data row4 col3\" >0.0014</td>\n",
       "                        <td id=\"T_ad049d34_5f20_11eb_9831_80ce62a0b43frow4_col4\" class=\"data row4 col4\" >0.0028</td>\n",
       "                        <td id=\"T_ad049d34_5f20_11eb_9831_80ce62a0b43frow4_col5\" class=\"data row4 col5\" >0.0024</td>\n",
       "                        <td id=\"T_ad049d34_5f20_11eb_9831_80ce62a0b43frow4_col6\" class=\"data row4 col6\" >0.0322</td>\n",
       "            </tr>\n",
       "            <tr>\n",
       "                        <th id=\"T_ad049d34_5f20_11eb_9831_80ce62a0b43flevel0_row5\" class=\"row_heading level0 row5\" >Mean</th>\n",
       "                        <td id=\"T_ad049d34_5f20_11eb_9831_80ce62a0b43frow5_col0\" class=\"data row5 col0\" >0.8706</td>\n",
       "                        <td id=\"T_ad049d34_5f20_11eb_9831_80ce62a0b43frow5_col1\" class=\"data row5 col1\" >0.8064</td>\n",
       "                        <td id=\"T_ad049d34_5f20_11eb_9831_80ce62a0b43frow5_col2\" class=\"data row5 col2\" >0.6800</td>\n",
       "                        <td id=\"T_ad049d34_5f20_11eb_9831_80ce62a0b43frow5_col3\" class=\"data row5 col3\" >0.0011</td>\n",
       "                        <td id=\"T_ad049d34_5f20_11eb_9831_80ce62a0b43frow5_col4\" class=\"data row5 col4\" >0.0022</td>\n",
       "                        <td id=\"T_ad049d34_5f20_11eb_9831_80ce62a0b43frow5_col5\" class=\"data row5 col5\" >0.0018</td>\n",
       "                        <td id=\"T_ad049d34_5f20_11eb_9831_80ce62a0b43frow5_col6\" class=\"data row5 col6\" >0.0237</td>\n",
       "            </tr>\n",
       "            <tr>\n",
       "                        <th id=\"T_ad049d34_5f20_11eb_9831_80ce62a0b43flevel0_row6\" class=\"row_heading level0 row6\" >SD</th>\n",
       "                        <td id=\"T_ad049d34_5f20_11eb_9831_80ce62a0b43frow6_col0\" class=\"data row6 col0\" >0.0154</td>\n",
       "                        <td id=\"T_ad049d34_5f20_11eb_9831_80ce62a0b43frow6_col1\" class=\"data row6 col1\" >0.0922</td>\n",
       "                        <td id=\"T_ad049d34_5f20_11eb_9831_80ce62a0b43frow6_col2\" class=\"data row6 col2\" >0.1904</td>\n",
       "                        <td id=\"T_ad049d34_5f20_11eb_9831_80ce62a0b43frow6_col3\" class=\"data row6 col3\" >0.0002</td>\n",
       "                        <td id=\"T_ad049d34_5f20_11eb_9831_80ce62a0b43frow6_col4\" class=\"data row6 col4\" >0.0005</td>\n",
       "                        <td id=\"T_ad049d34_5f20_11eb_9831_80ce62a0b43frow6_col5\" class=\"data row6 col5\" >0.0005</td>\n",
       "                        <td id=\"T_ad049d34_5f20_11eb_9831_80ce62a0b43frow6_col6\" class=\"data row6 col6\" >0.0069</td>\n",
       "            </tr>\n",
       "    </tbody></table>"
      ],
      "text/plain": [
       "<pandas.io.formats.style.Styler at 0x1f3362c9e10>"
      ]
     },
     "metadata": {},
     "output_type": "display_data"
    }
   ],
   "source": [
    "# Creating model\n",
    "ml_model = create_model(estimator='lr',fold=5)"
   ]
  },
  {
   "cell_type": "code",
   "execution_count": 50,
   "metadata": {},
   "outputs": [
    {
     "data": {
      "text/html": [
       "\n",
       "            <script src=\"/static/components/requirejs/require.js\"></script>\n",
       "            <script>\n",
       "              requirejs.config({\n",
       "                paths: {\n",
       "                  base: '/static/base',\n",
       "                  plotly: 'https://cdn.plot.ly/plotly-latest.min.js?noext',\n",
       "                },\n",
       "              });\n",
       "            </script>\n",
       "            "
      ],
      "text/plain": [
       "<IPython.core.display.HTML object>"
      ]
     },
     "metadata": {},
     "output_type": "display_data"
    },
    {
     "data": {
      "text/html": [
       "<style  type=\"text/css\" >\n",
       "</style><table id=\"T_ad38aab6_5f20_11eb_a5b2_80ce62a0b43f\" ><thead>    <tr>        <th class=\"blank level0\" ></th>        <th class=\"col_heading level0 col0\" >Model</th>        <th class=\"col_heading level0 col1\" >Accuracy</th>        <th class=\"col_heading level0 col2\" >AUC</th>        <th class=\"col_heading level0 col3\" >Recall</th>        <th class=\"col_heading level0 col4\" >Prec.</th>        <th class=\"col_heading level0 col5\" >F1</th>        <th class=\"col_heading level0 col6\" >Kappa</th>        <th class=\"col_heading level0 col7\" >MCC</th>    </tr></thead><tbody>\n",
       "                <tr>\n",
       "                        <th id=\"T_ad38aab6_5f20_11eb_a5b2_80ce62a0b43flevel0_row0\" class=\"row_heading level0 row0\" >0</th>\n",
       "                        <td id=\"T_ad38aab6_5f20_11eb_a5b2_80ce62a0b43frow0_col0\" class=\"data row0 col0\" >Logistic Regression</td>\n",
       "                        <td id=\"T_ad38aab6_5f20_11eb_a5b2_80ce62a0b43frow0_col1\" class=\"data row0 col1\" >0.8518</td>\n",
       "                        <td id=\"T_ad38aab6_5f20_11eb_a5b2_80ce62a0b43frow0_col2\" class=\"data row0 col2\" >0.9754</td>\n",
       "                        <td id=\"T_ad38aab6_5f20_11eb_a5b2_80ce62a0b43frow0_col3\" class=\"data row0 col3\" >0.9500</td>\n",
       "                        <td id=\"T_ad38aab6_5f20_11eb_a5b2_80ce62a0b43frow0_col4\" class=\"data row0 col4\" >0.0111</td>\n",
       "                        <td id=\"T_ad38aab6_5f20_11eb_a5b2_80ce62a0b43frow0_col5\" class=\"data row0 col5\" >0.0220</td>\n",
       "                        <td id=\"T_ad38aab6_5f20_11eb_a5b2_80ce62a0b43frow0_col6\" class=\"data row0 col6\" >0.0186</td>\n",
       "                        <td id=\"T_ad38aab6_5f20_11eb_a5b2_80ce62a0b43frow0_col7\" class=\"data row0 col7\" >0.0940</td>\n",
       "            </tr>\n",
       "    </tbody></table>"
      ],
      "text/plain": [
       "<pandas.io.formats.style.Styler at 0x1f33643f438>"
      ]
     },
     "metadata": {},
     "output_type": "display_data"
    },
    {
     "data": {
      "text/html": [
       "<div>\n",
       "<style scoped>\n",
       "    .dataframe tbody tr th:only-of-type {\n",
       "        vertical-align: middle;\n",
       "    }\n",
       "\n",
       "    .dataframe tbody tr th {\n",
       "        vertical-align: top;\n",
       "    }\n",
       "\n",
       "    .dataframe thead th {\n",
       "        text-align: right;\n",
       "    }\n",
       "</style>\n",
       "<table border=\"1\" class=\"dataframe\">\n",
       "  <thead>\n",
       "    <tr style=\"text-align: right;\">\n",
       "      <th></th>\n",
       "      <th>V3</th>\n",
       "      <th>V8</th>\n",
       "      <th>V18</th>\n",
       "      <th>V27</th>\n",
       "      <th>V13</th>\n",
       "      <th>V7</th>\n",
       "      <th>V10</th>\n",
       "      <th>V5</th>\n",
       "      <th>scaled_amount</th>\n",
       "      <th>V22</th>\n",
       "      <th>...</th>\n",
       "      <th>V6</th>\n",
       "      <th>V4</th>\n",
       "      <th>V17</th>\n",
       "      <th>V12</th>\n",
       "      <th>V26</th>\n",
       "      <th>V24</th>\n",
       "      <th>V19</th>\n",
       "      <th>Class</th>\n",
       "      <th>Label</th>\n",
       "      <th>Score</th>\n",
       "    </tr>\n",
       "  </thead>\n",
       "  <tbody>\n",
       "    <tr>\n",
       "      <th>0</th>\n",
       "      <td>0.556695</td>\n",
       "      <td>0.170458</td>\n",
       "      <td>0.372034</td>\n",
       "      <td>1.618953</td>\n",
       "      <td>0.356857</td>\n",
       "      <td>0.507318</td>\n",
       "      <td>-0.061292</td>\n",
       "      <td>0.363580</td>\n",
       "      <td>-0.270562</td>\n",
       "      <td>-0.570364</td>\n",
       "      <td>...</td>\n",
       "      <td>0.156699</td>\n",
       "      <td>-0.204154</td>\n",
       "      <td>-1.019310</td>\n",
       "      <td>0.408214</td>\n",
       "      <td>0.274932</td>\n",
       "      <td>-0.689930</td>\n",
       "      <td>0.664290</td>\n",
       "      <td>0</td>\n",
       "      <td>0</td>\n",
       "      <td>0.7776</td>\n",
       "    </tr>\n",
       "    <tr>\n",
       "      <th>1</th>\n",
       "      <td>0.377311</td>\n",
       "      <td>-0.081743</td>\n",
       "      <td>0.128819</td>\n",
       "      <td>0.520264</td>\n",
       "      <td>1.711790</td>\n",
       "      <td>-1.321332</td>\n",
       "      <td>1.302402</td>\n",
       "      <td>-1.190163</td>\n",
       "      <td>0.137313</td>\n",
       "      <td>-0.150241</td>\n",
       "      <td>...</td>\n",
       "      <td>0.369186</td>\n",
       "      <td>-0.805232</td>\n",
       "      <td>0.448631</td>\n",
       "      <td>-0.192312</td>\n",
       "      <td>-0.173484</td>\n",
       "      <td>-0.582664</td>\n",
       "      <td>0.232232</td>\n",
       "      <td>0</td>\n",
       "      <td>0</td>\n",
       "      <td>0.9412</td>\n",
       "    </tr>\n",
       "    <tr>\n",
       "      <th>2</th>\n",
       "      <td>-0.287048</td>\n",
       "      <td>-0.381197</td>\n",
       "      <td>0.167499</td>\n",
       "      <td>0.741556</td>\n",
       "      <td>-0.381046</td>\n",
       "      <td>0.864501</td>\n",
       "      <td>0.085946</td>\n",
       "      <td>0.877828</td>\n",
       "      <td>-0.283312</td>\n",
       "      <td>-0.534554</td>\n",
       "      <td>...</td>\n",
       "      <td>-0.231940</td>\n",
       "      <td>-0.455943</td>\n",
       "      <td>0.193363</td>\n",
       "      <td>0.202244</td>\n",
       "      <td>0.090866</td>\n",
       "      <td>0.692765</td>\n",
       "      <td>-0.073429</td>\n",
       "      <td>0</td>\n",
       "      <td>0</td>\n",
       "      <td>0.8046</td>\n",
       "    </tr>\n",
       "    <tr>\n",
       "      <th>3</th>\n",
       "      <td>0.419974</td>\n",
       "      <td>0.006018</td>\n",
       "      <td>0.492145</td>\n",
       "      <td>0.060495</td>\n",
       "      <td>1.141342</td>\n",
       "      <td>0.338917</td>\n",
       "      <td>-0.410922</td>\n",
       "      <td>0.829842</td>\n",
       "      <td>-0.028023</td>\n",
       "      <td>-0.090471</td>\n",
       "      <td>...</td>\n",
       "      <td>0.120044</td>\n",
       "      <td>-0.642437</td>\n",
       "      <td>-1.167792</td>\n",
       "      <td>0.676362</td>\n",
       "      <td>1.777833</td>\n",
       "      <td>-1.238375</td>\n",
       "      <td>1.144789</td>\n",
       "      <td>0</td>\n",
       "      <td>0</td>\n",
       "      <td>0.9482</td>\n",
       "    </tr>\n",
       "    <tr>\n",
       "      <th>4</th>\n",
       "      <td>-0.660386</td>\n",
       "      <td>-0.044080</td>\n",
       "      <td>0.121514</td>\n",
       "      <td>2.358651</td>\n",
       "      <td>0.634921</td>\n",
       "      <td>1.493415</td>\n",
       "      <td>-0.532053</td>\n",
       "      <td>-0.206764</td>\n",
       "      <td>3.320583</td>\n",
       "      <td>1.271759</td>\n",
       "      <td>...</td>\n",
       "      <td>0.066060</td>\n",
       "      <td>-0.210570</td>\n",
       "      <td>-0.363069</td>\n",
       "      <td>0.199861</td>\n",
       "      <td>-0.344192</td>\n",
       "      <td>0.869039</td>\n",
       "      <td>-0.022032</td>\n",
       "      <td>0</td>\n",
       "      <td>0</td>\n",
       "      <td>0.9739</td>\n",
       "    </tr>\n",
       "    <tr>\n",
       "      <th>...</th>\n",
       "      <td>...</td>\n",
       "      <td>...</td>\n",
       "      <td>...</td>\n",
       "      <td>...</td>\n",
       "      <td>...</td>\n",
       "      <td>...</td>\n",
       "      <td>...</td>\n",
       "      <td>...</td>\n",
       "      <td>...</td>\n",
       "      <td>...</td>\n",
       "      <td>...</td>\n",
       "      <td>...</td>\n",
       "      <td>...</td>\n",
       "      <td>...</td>\n",
       "      <td>...</td>\n",
       "      <td>...</td>\n",
       "      <td>...</td>\n",
       "      <td>...</td>\n",
       "      <td>...</td>\n",
       "      <td>...</td>\n",
       "      <td>...</td>\n",
       "    </tr>\n",
       "    <tr>\n",
       "      <th>56957</th>\n",
       "      <td>0.048762</td>\n",
       "      <td>1.510391</td>\n",
       "      <td>0.572402</td>\n",
       "      <td>-2.422383</td>\n",
       "      <td>-1.261917</td>\n",
       "      <td>-0.011089</td>\n",
       "      <td>-0.599377</td>\n",
       "      <td>-0.443520</td>\n",
       "      <td>0.741908</td>\n",
       "      <td>0.088100</td>\n",
       "      <td>...</td>\n",
       "      <td>-0.236730</td>\n",
       "      <td>-0.028853</td>\n",
       "      <td>-0.035232</td>\n",
       "      <td>-0.117854</td>\n",
       "      <td>0.581853</td>\n",
       "      <td>0.040530</td>\n",
       "      <td>0.622476</td>\n",
       "      <td>0</td>\n",
       "      <td>0</td>\n",
       "      <td>0.9999</td>\n",
       "    </tr>\n",
       "    <tr>\n",
       "      <th>56958</th>\n",
       "      <td>0.960143</td>\n",
       "      <td>1.793332</td>\n",
       "      <td>-0.354809</td>\n",
       "      <td>-0.455405</td>\n",
       "      <td>-0.148154</td>\n",
       "      <td>-0.351384</td>\n",
       "      <td>-0.863984</td>\n",
       "      <td>-0.158361</td>\n",
       "      <td>-0.238335</td>\n",
       "      <td>0.520486</td>\n",
       "      <td>...</td>\n",
       "      <td>1.090847</td>\n",
       "      <td>-0.003319</td>\n",
       "      <td>-0.017127</td>\n",
       "      <td>1.036218</td>\n",
       "      <td>-0.932526</td>\n",
       "      <td>-0.419910</td>\n",
       "      <td>-1.456023</td>\n",
       "      <td>0</td>\n",
       "      <td>0</td>\n",
       "      <td>0.9958</td>\n",
       "    </tr>\n",
       "    <tr>\n",
       "      <th>56959</th>\n",
       "      <td>-0.525572</td>\n",
       "      <td>0.335239</td>\n",
       "      <td>1.287645</td>\n",
       "      <td>0.163196</td>\n",
       "      <td>-0.142998</td>\n",
       "      <td>-0.493511</td>\n",
       "      <td>0.366743</td>\n",
       "      <td>-0.073525</td>\n",
       "      <td>1.933586</td>\n",
       "      <td>0.526179</td>\n",
       "      <td>...</td>\n",
       "      <td>0.874597</td>\n",
       "      <td>0.718788</td>\n",
       "      <td>-1.434715</td>\n",
       "      <td>0.212951</td>\n",
       "      <td>-0.754495</td>\n",
       "      <td>-1.810133</td>\n",
       "      <td>0.151892</td>\n",
       "      <td>0</td>\n",
       "      <td>0</td>\n",
       "      <td>0.7404</td>\n",
       "    </tr>\n",
       "    <tr>\n",
       "      <th>56960</th>\n",
       "      <td>0.944113</td>\n",
       "      <td>1.549350</td>\n",
       "      <td>0.477104</td>\n",
       "      <td>1.429708</td>\n",
       "      <td>-0.489745</td>\n",
       "      <td>-0.217013</td>\n",
       "      <td>-0.223748</td>\n",
       "      <td>-0.347772</td>\n",
       "      <td>-0.170660</td>\n",
       "      <td>0.110361</td>\n",
       "      <td>...</td>\n",
       "      <td>0.569636</td>\n",
       "      <td>0.428761</td>\n",
       "      <td>-0.013211</td>\n",
       "      <td>0.256718</td>\n",
       "      <td>-0.514763</td>\n",
       "      <td>-0.076103</td>\n",
       "      <td>0.319650</td>\n",
       "      <td>0</td>\n",
       "      <td>0</td>\n",
       "      <td>0.9660</td>\n",
       "    </tr>\n",
       "    <tr>\n",
       "      <th>56961</th>\n",
       "      <td>0.347771</td>\n",
       "      <td>-0.543829</td>\n",
       "      <td>-0.285312</td>\n",
       "      <td>0.090078</td>\n",
       "      <td>-0.218384</td>\n",
       "      <td>1.071489</td>\n",
       "      <td>-0.500105</td>\n",
       "      <td>0.537405</td>\n",
       "      <td>-0.294381</td>\n",
       "      <td>0.196097</td>\n",
       "      <td>...</td>\n",
       "      <td>-0.874769</td>\n",
       "      <td>0.023603</td>\n",
       "      <td>-0.639889</td>\n",
       "      <td>-0.246644</td>\n",
       "      <td>-0.803187</td>\n",
       "      <td>0.432474</td>\n",
       "      <td>-1.100721</td>\n",
       "      <td>0</td>\n",
       "      <td>0</td>\n",
       "      <td>0.5960</td>\n",
       "    </tr>\n",
       "  </tbody>\n",
       "</table>\n",
       "<p>56962 rows × 26 columns</p>\n",
       "</div>"
      ],
      "text/plain": [
       "             V3        V8       V18       V27       V13        V7       V10  \\\n",
       "0      0.556695  0.170458  0.372034  1.618953  0.356857  0.507318 -0.061292   \n",
       "1      0.377311 -0.081743  0.128819  0.520264  1.711790 -1.321332  1.302402   \n",
       "2     -0.287048 -0.381197  0.167499  0.741556 -0.381046  0.864501  0.085946   \n",
       "3      0.419974  0.006018  0.492145  0.060495  1.141342  0.338917 -0.410922   \n",
       "4     -0.660386 -0.044080  0.121514  2.358651  0.634921  1.493415 -0.532053   \n",
       "...         ...       ...       ...       ...       ...       ...       ...   \n",
       "56957  0.048762  1.510391  0.572402 -2.422383 -1.261917 -0.011089 -0.599377   \n",
       "56958  0.960143  1.793332 -0.354809 -0.455405 -0.148154 -0.351384 -0.863984   \n",
       "56959 -0.525572  0.335239  1.287645  0.163196 -0.142998 -0.493511  0.366743   \n",
       "56960  0.944113  1.549350  0.477104  1.429708 -0.489745 -0.217013 -0.223748   \n",
       "56961  0.347771 -0.543829 -0.285312  0.090078 -0.218384  1.071489 -0.500105   \n",
       "\n",
       "             V5  scaled_amount       V22  ...        V6        V4       V17  \\\n",
       "0      0.363580      -0.270562 -0.570364  ...  0.156699 -0.204154 -1.019310   \n",
       "1     -1.190163       0.137313 -0.150241  ...  0.369186 -0.805232  0.448631   \n",
       "2      0.877828      -0.283312 -0.534554  ... -0.231940 -0.455943  0.193363   \n",
       "3      0.829842      -0.028023 -0.090471  ...  0.120044 -0.642437 -1.167792   \n",
       "4     -0.206764       3.320583  1.271759  ...  0.066060 -0.210570 -0.363069   \n",
       "...         ...            ...       ...  ...       ...       ...       ...   \n",
       "56957 -0.443520       0.741908  0.088100  ... -0.236730 -0.028853 -0.035232   \n",
       "56958 -0.158361      -0.238335  0.520486  ...  1.090847 -0.003319 -0.017127   \n",
       "56959 -0.073525       1.933586  0.526179  ...  0.874597  0.718788 -1.434715   \n",
       "56960 -0.347772      -0.170660  0.110361  ...  0.569636  0.428761 -0.013211   \n",
       "56961  0.537405      -0.294381  0.196097  ... -0.874769  0.023603 -0.639889   \n",
       "\n",
       "            V12       V26       V24       V19  Class  Label   Score  \n",
       "0      0.408214  0.274932 -0.689930  0.664290      0      0  0.7776  \n",
       "1     -0.192312 -0.173484 -0.582664  0.232232      0      0  0.9412  \n",
       "2      0.202244  0.090866  0.692765 -0.073429      0      0  0.8046  \n",
       "3      0.676362  1.777833 -1.238375  1.144789      0      0  0.9482  \n",
       "4      0.199861 -0.344192  0.869039 -0.022032      0      0  0.9739  \n",
       "...         ...       ...       ...       ...    ...    ...     ...  \n",
       "56957 -0.117854  0.581853  0.040530  0.622476      0      0  0.9999  \n",
       "56958  1.036218 -0.932526 -0.419910 -1.456023      0      0  0.9958  \n",
       "56959  0.212951 -0.754495 -1.810133  0.151892      0      0  0.7404  \n",
       "56960  0.256718 -0.514763 -0.076103  0.319650      0      0  0.9660  \n",
       "56961 -0.246644 -0.803187  0.432474 -1.100721      0      0  0.5960  \n",
       "\n",
       "[56962 rows x 26 columns]"
      ]
     },
     "execution_count": 50,
     "metadata": {},
     "output_type": "execute_result"
    }
   ],
   "source": [
    "# Predict\n",
    "predict_model(ml_model)"
   ]
  },
  {
   "cell_type": "markdown",
   "metadata": {},
   "source": [
    "#### The tune model will try to optimize the recall using hyperparameters"
   ]
  },
  {
   "cell_type": "code",
   "execution_count": 51,
   "metadata": {},
   "outputs": [
    {
     "data": {
      "text/html": [
       "<style  type=\"text/css\" >\n",
       "#T_70c1b97a_5f21_11eb_a7b9_80ce62a0b43frow5_col0,#T_70c1b97a_5f21_11eb_a7b9_80ce62a0b43frow5_col1,#T_70c1b97a_5f21_11eb_a7b9_80ce62a0b43frow5_col2,#T_70c1b97a_5f21_11eb_a7b9_80ce62a0b43frow5_col3,#T_70c1b97a_5f21_11eb_a7b9_80ce62a0b43frow5_col4,#T_70c1b97a_5f21_11eb_a7b9_80ce62a0b43frow5_col5,#T_70c1b97a_5f21_11eb_a7b9_80ce62a0b43frow5_col6{\n",
       "            background:  yellow;\n",
       "        }</style><table id=\"T_70c1b97a_5f21_11eb_a7b9_80ce62a0b43f\" ><thead>    <tr>        <th class=\"blank level0\" ></th>        <th class=\"col_heading level0 col0\" >Accuracy</th>        <th class=\"col_heading level0 col1\" >AUC</th>        <th class=\"col_heading level0 col2\" >Recall</th>        <th class=\"col_heading level0 col3\" >Prec.</th>        <th class=\"col_heading level0 col4\" >F1</th>        <th class=\"col_heading level0 col5\" >Kappa</th>        <th class=\"col_heading level0 col6\" >MCC</th>    </tr></thead><tbody>\n",
       "                <tr>\n",
       "                        <th id=\"T_70c1b97a_5f21_11eb_a7b9_80ce62a0b43flevel0_row0\" class=\"row_heading level0 row0\" >0</th>\n",
       "                        <td id=\"T_70c1b97a_5f21_11eb_a7b9_80ce62a0b43frow0_col0\" class=\"data row0 col0\" >0.8435</td>\n",
       "                        <td id=\"T_70c1b97a_5f21_11eb_a7b9_80ce62a0b43frow0_col1\" class=\"data row0 col1\" >0.9437</td>\n",
       "                        <td id=\"T_70c1b97a_5f21_11eb_a7b9_80ce62a0b43frow0_col2\" class=\"data row0 col2\" >0.8889</td>\n",
       "                        <td id=\"T_70c1b97a_5f21_11eb_a7b9_80ce62a0b43frow0_col3\" class=\"data row0 col3\" >0.0012</td>\n",
       "                        <td id=\"T_70c1b97a_5f21_11eb_a7b9_80ce62a0b43frow0_col4\" class=\"data row0 col4\" >0.0024</td>\n",
       "                        <td id=\"T_70c1b97a_5f21_11eb_a7b9_80ce62a0b43frow0_col5\" class=\"data row0 col5\" >0.0019</td>\n",
       "                        <td id=\"T_70c1b97a_5f21_11eb_a7b9_80ce62a0b43frow0_col6\" class=\"data row0 col6\" >0.0290</td>\n",
       "            </tr>\n",
       "            <tr>\n",
       "                        <th id=\"T_70c1b97a_5f21_11eb_a7b9_80ce62a0b43flevel0_row1\" class=\"row_heading level0 row1\" >1</th>\n",
       "                        <td id=\"T_70c1b97a_5f21_11eb_a7b9_80ce62a0b43frow1_col0\" class=\"data row1 col0\" >0.8715</td>\n",
       "                        <td id=\"T_70c1b97a_5f21_11eb_a7b9_80ce62a0b43frow1_col1\" class=\"data row1 col1\" >0.7168</td>\n",
       "                        <td id=\"T_70c1b97a_5f21_11eb_a7b9_80ce62a0b43frow1_col2\" class=\"data row1 col2\" >0.5556</td>\n",
       "                        <td id=\"T_70c1b97a_5f21_11eb_a7b9_80ce62a0b43frow1_col3\" class=\"data row1 col3\" >0.0009</td>\n",
       "                        <td id=\"T_70c1b97a_5f21_11eb_a7b9_80ce62a0b43frow1_col4\" class=\"data row1 col4\" >0.0018</td>\n",
       "                        <td id=\"T_70c1b97a_5f21_11eb_a7b9_80ce62a0b43frow1_col5\" class=\"data row1 col5\" >0.0014</td>\n",
       "                        <td id=\"T_70c1b97a_5f21_11eb_a7b9_80ce62a0b43frow1_col6\" class=\"data row1 col6\" >0.0184</td>\n",
       "            </tr>\n",
       "            <tr>\n",
       "                        <th id=\"T_70c1b97a_5f21_11eb_a7b9_80ce62a0b43flevel0_row2\" class=\"row_heading level0 row2\" >2</th>\n",
       "                        <td id=\"T_70c1b97a_5f21_11eb_a7b9_80ce62a0b43frow2_col0\" class=\"data row2 col0\" >0.8816</td>\n",
       "                        <td id=\"T_70c1b97a_5f21_11eb_a7b9_80ce62a0b43frow2_col1\" class=\"data row2 col1\" >0.7298</td>\n",
       "                        <td id=\"T_70c1b97a_5f21_11eb_a7b9_80ce62a0b43frow2_col2\" class=\"data row2 col2\" >0.4000</td>\n",
       "                        <td id=\"T_70c1b97a_5f21_11eb_a7b9_80ce62a0b43frow2_col3\" class=\"data row2 col3\" >0.0008</td>\n",
       "                        <td id=\"T_70c1b97a_5f21_11eb_a7b9_80ce62a0b43frow2_col4\" class=\"data row2 col4\" >0.0016</td>\n",
       "                        <td id=\"T_70c1b97a_5f21_11eb_a7b9_80ce62a0b43frow2_col5\" class=\"data row2 col5\" >0.0011</td>\n",
       "                        <td id=\"T_70c1b97a_5f21_11eb_a7b9_80ce62a0b43frow2_col6\" class=\"data row2 col6\" >0.0133</td>\n",
       "            </tr>\n",
       "            <tr>\n",
       "                        <th id=\"T_70c1b97a_5f21_11eb_a7b9_80ce62a0b43flevel0_row3\" class=\"row_heading level0 row3\" >3</th>\n",
       "                        <td id=\"T_70c1b97a_5f21_11eb_a7b9_80ce62a0b43frow3_col0\" class=\"data row3 col0\" >0.8886</td>\n",
       "                        <td id=\"T_70c1b97a_5f21_11eb_a7b9_80ce62a0b43frow3_col1\" class=\"data row3 col1\" >0.7520</td>\n",
       "                        <td id=\"T_70c1b97a_5f21_11eb_a7b9_80ce62a0b43frow3_col2\" class=\"data row3 col2\" >0.6667</td>\n",
       "                        <td id=\"T_70c1b97a_5f21_11eb_a7b9_80ce62a0b43frow3_col3\" class=\"data row3 col3\" >0.0012</td>\n",
       "                        <td id=\"T_70c1b97a_5f21_11eb_a7b9_80ce62a0b43frow3_col4\" class=\"data row3 col4\" >0.0025</td>\n",
       "                        <td id=\"T_70c1b97a_5f21_11eb_a7b9_80ce62a0b43frow3_col5\" class=\"data row3 col5\" >0.0021</td>\n",
       "                        <td id=\"T_70c1b97a_5f21_11eb_a7b9_80ce62a0b43frow3_col6\" class=\"data row3 col6\" >0.0254</td>\n",
       "            </tr>\n",
       "            <tr>\n",
       "                        <th id=\"T_70c1b97a_5f21_11eb_a7b9_80ce62a0b43flevel0_row4\" class=\"row_heading level0 row4\" >4</th>\n",
       "                        <td id=\"T_70c1b97a_5f21_11eb_a7b9_80ce62a0b43frow4_col0\" class=\"data row4 col0\" >0.8675</td>\n",
       "                        <td id=\"T_70c1b97a_5f21_11eb_a7b9_80ce62a0b43frow4_col1\" class=\"data row4 col1\" >0.8891</td>\n",
       "                        <td id=\"T_70c1b97a_5f21_11eb_a7b9_80ce62a0b43frow4_col2\" class=\"data row4 col2\" >0.8889</td>\n",
       "                        <td id=\"T_70c1b97a_5f21_11eb_a7b9_80ce62a0b43frow4_col3\" class=\"data row4 col3\" >0.0014</td>\n",
       "                        <td id=\"T_70c1b97a_5f21_11eb_a7b9_80ce62a0b43frow4_col4\" class=\"data row4 col4\" >0.0028</td>\n",
       "                        <td id=\"T_70c1b97a_5f21_11eb_a7b9_80ce62a0b43frow4_col5\" class=\"data row4 col5\" >0.0024</td>\n",
       "                        <td id=\"T_70c1b97a_5f21_11eb_a7b9_80ce62a0b43frow4_col6\" class=\"data row4 col6\" >0.0321</td>\n",
       "            </tr>\n",
       "            <tr>\n",
       "                        <th id=\"T_70c1b97a_5f21_11eb_a7b9_80ce62a0b43flevel0_row5\" class=\"row_heading level0 row5\" >Mean</th>\n",
       "                        <td id=\"T_70c1b97a_5f21_11eb_a7b9_80ce62a0b43frow5_col0\" class=\"data row5 col0\" >0.8705</td>\n",
       "                        <td id=\"T_70c1b97a_5f21_11eb_a7b9_80ce62a0b43frow5_col1\" class=\"data row5 col1\" >0.8063</td>\n",
       "                        <td id=\"T_70c1b97a_5f21_11eb_a7b9_80ce62a0b43frow5_col2\" class=\"data row5 col2\" >0.6800</td>\n",
       "                        <td id=\"T_70c1b97a_5f21_11eb_a7b9_80ce62a0b43frow5_col3\" class=\"data row5 col3\" >0.0011</td>\n",
       "                        <td id=\"T_70c1b97a_5f21_11eb_a7b9_80ce62a0b43frow5_col4\" class=\"data row5 col4\" >0.0022</td>\n",
       "                        <td id=\"T_70c1b97a_5f21_11eb_a7b9_80ce62a0b43frow5_col5\" class=\"data row5 col5\" >0.0018</td>\n",
       "                        <td id=\"T_70c1b97a_5f21_11eb_a7b9_80ce62a0b43frow5_col6\" class=\"data row5 col6\" >0.0237</td>\n",
       "            </tr>\n",
       "            <tr>\n",
       "                        <th id=\"T_70c1b97a_5f21_11eb_a7b9_80ce62a0b43flevel0_row6\" class=\"row_heading level0 row6\" >SD</th>\n",
       "                        <td id=\"T_70c1b97a_5f21_11eb_a7b9_80ce62a0b43frow6_col0\" class=\"data row6 col0\" >0.0154</td>\n",
       "                        <td id=\"T_70c1b97a_5f21_11eb_a7b9_80ce62a0b43frow6_col1\" class=\"data row6 col1\" >0.0923</td>\n",
       "                        <td id=\"T_70c1b97a_5f21_11eb_a7b9_80ce62a0b43frow6_col2\" class=\"data row6 col2\" >0.1904</td>\n",
       "                        <td id=\"T_70c1b97a_5f21_11eb_a7b9_80ce62a0b43frow6_col3\" class=\"data row6 col3\" >0.0002</td>\n",
       "                        <td id=\"T_70c1b97a_5f21_11eb_a7b9_80ce62a0b43frow6_col4\" class=\"data row6 col4\" >0.0005</td>\n",
       "                        <td id=\"T_70c1b97a_5f21_11eb_a7b9_80ce62a0b43frow6_col5\" class=\"data row6 col5\" >0.0005</td>\n",
       "                        <td id=\"T_70c1b97a_5f21_11eb_a7b9_80ce62a0b43frow6_col6\" class=\"data row6 col6\" >0.0069</td>\n",
       "            </tr>\n",
       "    </tbody></table>"
      ],
      "text/plain": [
       "<pandas.io.formats.style.Styler at 0x1f31b474eb8>"
      ]
     },
     "metadata": {},
     "output_type": "display_data"
    }
   ],
   "source": [
    "# Tune model\n",
    "ml_model_tuned = tune_model(ml_model, fold=5,\n",
    "                            optimize='Recall',\n",
    "                            n_iter=30)"
   ]
  },
  {
   "cell_type": "code",
   "execution_count": 52,
   "metadata": {
    "scrolled": false
   },
   "outputs": [
    {
     "data": {
      "text/html": [
       "\n",
       "            <script src=\"/static/components/requirejs/require.js\"></script>\n",
       "            <script>\n",
       "              requirejs.config({\n",
       "                paths: {\n",
       "                  base: '/static/base',\n",
       "                  plotly: 'https://cdn.plot.ly/plotly-latest.min.js?noext',\n",
       "                },\n",
       "              });\n",
       "            </script>\n",
       "            "
      ],
      "text/plain": [
       "<IPython.core.display.HTML object>"
      ]
     },
     "metadata": {},
     "output_type": "display_data"
    },
    {
     "data": {
      "text/html": [
       "<style  type=\"text/css\" >\n",
       "</style><table id=\"T_70f6af1a_5f21_11eb_a269_80ce62a0b43f\" ><thead>    <tr>        <th class=\"blank level0\" ></th>        <th class=\"col_heading level0 col0\" >Model</th>        <th class=\"col_heading level0 col1\" >Accuracy</th>        <th class=\"col_heading level0 col2\" >AUC</th>        <th class=\"col_heading level0 col3\" >Recall</th>        <th class=\"col_heading level0 col4\" >Prec.</th>        <th class=\"col_heading level0 col5\" >F1</th>        <th class=\"col_heading level0 col6\" >Kappa</th>        <th class=\"col_heading level0 col7\" >MCC</th>    </tr></thead><tbody>\n",
       "                <tr>\n",
       "                        <th id=\"T_70f6af1a_5f21_11eb_a269_80ce62a0b43flevel0_row0\" class=\"row_heading level0 row0\" >0</th>\n",
       "                        <td id=\"T_70f6af1a_5f21_11eb_a269_80ce62a0b43frow0_col0\" class=\"data row0 col0\" >Logistic Regression</td>\n",
       "                        <td id=\"T_70f6af1a_5f21_11eb_a269_80ce62a0b43frow0_col1\" class=\"data row0 col1\" >0.8519</td>\n",
       "                        <td id=\"T_70f6af1a_5f21_11eb_a269_80ce62a0b43frow0_col2\" class=\"data row0 col2\" >0.9754</td>\n",
       "                        <td id=\"T_70f6af1a_5f21_11eb_a269_80ce62a0b43frow0_col3\" class=\"data row0 col3\" >0.9500</td>\n",
       "                        <td id=\"T_70f6af1a_5f21_11eb_a269_80ce62a0b43frow0_col4\" class=\"data row0 col4\" >0.0111</td>\n",
       "                        <td id=\"T_70f6af1a_5f21_11eb_a269_80ce62a0b43frow0_col5\" class=\"data row0 col5\" >0.0220</td>\n",
       "                        <td id=\"T_70f6af1a_5f21_11eb_a269_80ce62a0b43frow0_col6\" class=\"data row0 col6\" >0.0186</td>\n",
       "                        <td id=\"T_70f6af1a_5f21_11eb_a269_80ce62a0b43frow0_col7\" class=\"data row0 col7\" >0.0941</td>\n",
       "            </tr>\n",
       "    </tbody></table>"
      ],
      "text/plain": [
       "<pandas.io.formats.style.Styler at 0x1f33631edd8>"
      ]
     },
     "metadata": {},
     "output_type": "display_data"
    }
   ],
   "source": [
    "# Tune Predict\n",
    "predictions = predict_model(ml_model_tuned)"
   ]
  },
  {
   "cell_type": "markdown",
   "metadata": {},
   "source": [
    "#### Even though the training had 68% Recall, when applied to the test set, not only the model was able to maintain the accuracy and AUC, but it improved the Recall significantly."
   ]
  },
  {
   "cell_type": "markdown",
   "metadata": {},
   "source": [
    "## Test set metrics:"
   ]
  },
  {
   "cell_type": "code",
   "execution_count": 53,
   "metadata": {
    "scrolled": false
   },
   "outputs": [
    {
     "data": {
      "text/html": [
       "<div>\n",
       "<style scoped>\n",
       "    .dataframe tbody tr th:only-of-type {\n",
       "        vertical-align: middle;\n",
       "    }\n",
       "\n",
       "    .dataframe tbody tr th {\n",
       "        vertical-align: top;\n",
       "    }\n",
       "\n",
       "    .dataframe thead th {\n",
       "        text-align: right;\n",
       "    }\n",
       "</style>\n",
       "<table border=\"1\" class=\"dataframe\">\n",
       "  <thead>\n",
       "    <tr style=\"text-align: right;\">\n",
       "      <th></th>\n",
       "      <th>Parameters</th>\n",
       "    </tr>\n",
       "  </thead>\n",
       "  <tbody>\n",
       "    <tr>\n",
       "      <th>C</th>\n",
       "      <td>3.872</td>\n",
       "    </tr>\n",
       "    <tr>\n",
       "      <th>class_weight</th>\n",
       "      <td>balanced</td>\n",
       "    </tr>\n",
       "    <tr>\n",
       "      <th>dual</th>\n",
       "      <td>False</td>\n",
       "    </tr>\n",
       "    <tr>\n",
       "      <th>fit_intercept</th>\n",
       "      <td>True</td>\n",
       "    </tr>\n",
       "    <tr>\n",
       "      <th>intercept_scaling</th>\n",
       "      <td>1</td>\n",
       "    </tr>\n",
       "    <tr>\n",
       "      <th>l1_ratio</th>\n",
       "      <td>None</td>\n",
       "    </tr>\n",
       "    <tr>\n",
       "      <th>max_iter</th>\n",
       "      <td>1000</td>\n",
       "    </tr>\n",
       "    <tr>\n",
       "      <th>multi_class</th>\n",
       "      <td>auto</td>\n",
       "    </tr>\n",
       "    <tr>\n",
       "      <th>n_jobs</th>\n",
       "      <td>None</td>\n",
       "    </tr>\n",
       "    <tr>\n",
       "      <th>penalty</th>\n",
       "      <td>l2</td>\n",
       "    </tr>\n",
       "    <tr>\n",
       "      <th>random_state</th>\n",
       "      <td>1313</td>\n",
       "    </tr>\n",
       "    <tr>\n",
       "      <th>solver</th>\n",
       "      <td>lbfgs</td>\n",
       "    </tr>\n",
       "    <tr>\n",
       "      <th>tol</th>\n",
       "      <td>0.0001</td>\n",
       "    </tr>\n",
       "    <tr>\n",
       "      <th>verbose</th>\n",
       "      <td>0</td>\n",
       "    </tr>\n",
       "    <tr>\n",
       "      <th>warm_start</th>\n",
       "      <td>False</td>\n",
       "    </tr>\n",
       "  </tbody>\n",
       "</table>\n",
       "</div>"
      ],
      "text/plain": [
       "                  Parameters\n",
       "C                      3.872\n",
       "class_weight        balanced\n",
       "dual                   False\n",
       "fit_intercept           True\n",
       "intercept_scaling          1\n",
       "l1_ratio                None\n",
       "max_iter                1000\n",
       "multi_class             auto\n",
       "n_jobs                  None\n",
       "penalty                   l2\n",
       "random_state            1313\n",
       "solver                 lbfgs\n",
       "tol                   0.0001\n",
       "verbose                    0\n",
       "warm_start             False"
      ]
     },
     "metadata": {},
     "output_type": "display_data"
    }
   ],
   "source": [
    "# Evaluating\n",
    "evaluate_model(ml_model_tuned)"
   ]
  },
  {
   "cell_type": "code",
   "execution_count": 54,
   "metadata": {},
   "outputs": [
    {
     "data": {
      "image/png": "[encoded data removed]",
      "text/plain": [
       "<Figure size 576x396 with 1 Axes>"
      ]
     },
     "metadata": {},
     "output_type": "display_data"
    }
   ],
   "source": [
    "# AUC\n",
    "plot_model(ml_model_tuned)"
   ]
  },
  {
   "cell_type": "code",
   "execution_count": 55,
   "metadata": {
    "scrolled": false
   },
   "outputs": [
    {
     "data": {
      "image/png": "[encoded data removed]",
      "text/plain": [
       "<Figure size 576x396 with 1 Axes>"
      ]
     },
     "metadata": {},
     "output_type": "display_data"
    }
   ],
   "source": [
    "# Confusion matrix\n",
    "plot_model(ml_model_tuned, plot='confusion_matrix')"
   ]
  },
  {
   "cell_type": "code",
   "execution_count": 56,
   "metadata": {},
   "outputs": [
    {
     "data": {
      "image/png": "[encoded data removed]",
      "text/plain": [
       "<Figure size 576x396 with 2 Axes>"
      ]
     },
     "metadata": {},
     "output_type": "display_data"
    }
   ],
   "source": [
    "# Class report\n",
    "plot_model(ml_model_tuned, plot='class_report')"
   ]
  },
  {
   "cell_type": "code",
   "execution_count": 57,
   "metadata": {},
   "outputs": [
    {
     "data": {
      "image/png": "[encoded data removed]",
      "text/plain": [
       "<Figure size 800x1000 with 1 Axes>"
      ]
     },
     "metadata": {},
     "output_type": "display_data"
    }
   ],
   "source": [
    "# Feature importance\n",
    "plot_model(ml_model_tuned, plot='feature_all')"
   ]
  },
  {
   "cell_type": "code",
   "execution_count": 58,
   "metadata": {},
   "outputs": [
    {
     "data": {
      "text/html": [
       "\n",
       "            <script src=\"/static/components/requirejs/require.js\"></script>\n",
       "            <script>\n",
       "              requirejs.config({\n",
       "                paths: {\n",
       "                  base: '/static/base',\n",
       "                  plotly: 'https://cdn.plot.ly/plotly-latest.min.js?noext',\n",
       "                },\n",
       "              });\n",
       "            </script>\n",
       "            "
      ],
      "text/plain": [
       "<IPython.core.display.HTML object>"
      ]
     },
     "metadata": {},
     "output_type": "display_data"
    }
   ],
   "source": [
    "# Finalize model\n",
    "final_ml_tuned = finalize_model(ml_model_tuned)"
   ]
  },
  {
   "cell_type": "code",
   "execution_count": 59,
   "metadata": {
    "scrolled": false
   },
   "outputs": [
    {
     "data": {
      "text/html": [
       "\n",
       "            <script src=\"/static/components/requirejs/require.js\"></script>\n",
       "            <script>\n",
       "              requirejs.config({\n",
       "                paths: {\n",
       "                  base: '/static/base',\n",
       "                  plotly: 'https://cdn.plot.ly/plotly-latest.min.js?noext',\n",
       "                },\n",
       "              });\n",
       "            </script>\n",
       "            "
      ],
      "text/plain": [
       "<IPython.core.display.HTML object>"
      ]
     },
     "metadata": {},
     "output_type": "display_data"
    },
    {
     "name": "stdout",
     "output_type": "stream",
     "text": [
      "Transformation Pipeline and Model Succesfully Saved\n"
     ]
    },
    {
     "data": {
      "text/plain": [
       "(Pipeline(memory=None,\n",
       "          steps=[('dtypes',\n",
       "                  DataTypes_Auto_infer(categorical_features=[],\n",
       "                                       display_types=True, features_todrop=[],\n",
       "                                       id_columns=[],\n",
       "                                       ml_usecase='classification',\n",
       "                                       numerical_features=[], target='Class',\n",
       "                                       time_features=[])),\n",
       "                 ('imputer',\n",
       "                  Simple_Imputer(categorical_strategy='not_available',\n",
       "                                 fill_value_categorical=None,\n",
       "                                 fill_value_numerical=None,\n",
       "                                 numeric_strate...\n",
       "                                        target_variable='Class',\n",
       "                                        threshold=0.4)),\n",
       "                 ('dfs', 'passthrough'), ('pca', 'passthrough'),\n",
       "                 ['trained_model',\n",
       "                  LogisticRegression(C=3.872, class_weight='balanced',\n",
       "                                     dual=False, fit_intercept=True,\n",
       "                                     intercept_scaling=1, l1_ratio=None,\n",
       "                                     max_iter=1000, multi_class='auto',\n",
       "                                     n_jobs=None, penalty='l2',\n",
       "                                     random_state=1313, solver='lbfgs',\n",
       "                                     tol=0.0001, verbose=0, warm_start=False)]],\n",
       "          verbose=False),\n",
       " 'LR_PYCARET.pkl')"
      ]
     },
     "execution_count": 59,
     "metadata": {},
     "output_type": "execute_result"
    }
   ],
   "source": [
    "# Saving model\n",
    "save_model(final_ml_tuned, 'LR_PYCARET')"
   ]
  },
  {
   "cell_type": "code",
   "execution_count": 60,
   "metadata": {},
   "outputs": [
    {
     "data": {
      "text/html": [
       "\n",
       "            <script src=\"/static/components/requirejs/require.js\"></script>\n",
       "            <script>\n",
       "              requirejs.config({\n",
       "                paths: {\n",
       "                  base: '/static/base',\n",
       "                  plotly: 'https://cdn.plot.ly/plotly-latest.min.js?noext',\n",
       "                },\n",
       "              });\n",
       "            </script>\n",
       "            "
      ],
      "text/plain": [
       "<IPython.core.display.HTML object>"
      ]
     },
     "metadata": {},
     "output_type": "display_data"
    }
   ],
   "source": [
    "# Fix formats\n",
    "predictions['Label'] = predictions['Label'].astype(float)\n",
    "predictions['Class'] = predictions['Class'].astype(float)"
   ]
  },
  {
   "cell_type": "code",
   "execution_count": 61,
   "metadata": {},
   "outputs": [
    {
     "data": {
      "text/html": [
       "\n",
       "            <script src=\"/static/components/requirejs/require.js\"></script>\n",
       "            <script>\n",
       "              requirejs.config({\n",
       "                paths: {\n",
       "                  base: '/static/base',\n",
       "                  plotly: 'https://cdn.plot.ly/plotly-latest.min.js?noext',\n",
       "                },\n",
       "              });\n",
       "            </script>\n",
       "            "
      ],
      "text/plain": [
       "<IPython.core.display.HTML object>"
      ]
     },
     "metadata": {},
     "output_type": "display_data"
    }
   ],
   "source": [
    "# Metrics\n",
    "acc = accuracy_score(predictions['Class'], predictions['Label'])\n",
    "auc = roc_auc_score(predictions['Class'], predictions['Score'])\n",
    "recall = recall_score(predictions['Class'], predictions['Label'])\n",
    "precision = precision_score(predictions['Class'], predictions['Label'])\n",
    "f1 = f1_score(predictions['Class'], predictions['Label'])"
   ]
  },
  {
   "cell_type": "code",
   "execution_count": 62,
   "metadata": {
    "scrolled": false
   },
   "outputs": [
    {
     "data": {
      "text/html": [
       "\n",
       "            <script src=\"/static/components/requirejs/require.js\"></script>\n",
       "            <script>\n",
       "              requirejs.config({\n",
       "                paths: {\n",
       "                  base: '/static/base',\n",
       "                  plotly: 'https://cdn.plot.ly/plotly-latest.min.js?noext',\n",
       "                },\n",
       "              });\n",
       "            </script>\n",
       "            "
      ],
      "text/plain": [
       "<IPython.core.display.HTML object>"
      ]
     },
     "metadata": {},
     "output_type": "display_data"
    },
    {
     "data": {
      "text/html": [
       "<div>\n",
       "<style scoped>\n",
       "    .dataframe tbody tr th:only-of-type {\n",
       "        vertical-align: middle;\n",
       "    }\n",
       "\n",
       "    .dataframe tbody tr th {\n",
       "        vertical-align: top;\n",
       "    }\n",
       "\n",
       "    .dataframe thead th {\n",
       "        text-align: right;\n",
       "    }\n",
       "</style>\n",
       "<table border=\"1\" class=\"dataframe\">\n",
       "  <thead>\n",
       "    <tr style=\"text-align: right;\">\n",
       "      <th></th>\n",
       "      <th>Model</th>\n",
       "      <th>Accurary</th>\n",
       "      <th>AUC</th>\n",
       "      <th>Recall</th>\n",
       "      <th>Prec.</th>\n",
       "      <th>F1</th>\n",
       "    </tr>\n",
       "  </thead>\n",
       "  <tbody>\n",
       "    <tr>\n",
       "      <th>0</th>\n",
       "      <td>Random Forest</td>\n",
       "      <td>0.851901</td>\n",
       "      <td>0.879819</td>\n",
       "      <td>0.95</td>\n",
       "      <td>0.011142</td>\n",
       "      <td>0.022026</td>\n",
       "    </tr>\n",
       "  </tbody>\n",
       "</table>\n",
       "</div>"
      ],
      "text/plain": [
       "           Model  Accurary       AUC  Recall     Prec.        F1\n",
       "0  Random Forest  0.851901  0.879819    0.95  0.011142  0.022026"
      ]
     },
     "execution_count": 62,
     "metadata": {},
     "output_type": "execute_result"
    }
   ],
   "source": [
    "# Visualize metrics\n",
    "cols = ['Model','Accurary','AUC','Recall','Prec.','F1']\n",
    "values = ['Random Forest',acc,auc,recall,precision,f1]\n",
    "metrics_df = pd.DataFrame({tup[0]: [tup[1]] for tup in zip(cols, values)})\n",
    "metrics_df"
   ]
  },
  {
   "cell_type": "code",
   "execution_count": 63,
   "metadata": {},
   "outputs": [
    {
     "data": {
      "text/html": [
       "\n",
       "            <script src=\"/static/components/requirejs/require.js\"></script>\n",
       "            <script>\n",
       "              requirejs.config({\n",
       "                paths: {\n",
       "                  base: '/static/base',\n",
       "                  plotly: 'https://cdn.plot.ly/plotly-latest.min.js?noext',\n",
       "                },\n",
       "              });\n",
       "            </script>\n",
       "            "
      ],
      "text/plain": [
       "<IPython.core.display.HTML object>"
      ]
     },
     "metadata": {},
     "output_type": "display_data"
    },
    {
     "data": {
      "text/html": [
       "<div>\n",
       "<style scoped>\n",
       "    .dataframe tbody tr th:only-of-type {\n",
       "        vertical-align: middle;\n",
       "    }\n",
       "\n",
       "    .dataframe tbody tr th {\n",
       "        vertical-align: top;\n",
       "    }\n",
       "\n",
       "    .dataframe thead th {\n",
       "        text-align: right;\n",
       "    }\n",
       "</style>\n",
       "<table border=\"1\" class=\"dataframe\">\n",
       "  <thead>\n",
       "    <tr style=\"text-align: right;\">\n",
       "      <th></th>\n",
       "      <th>Class</th>\n",
       "      <th>Label</th>\n",
       "      <th>Freq</th>\n",
       "    </tr>\n",
       "  </thead>\n",
       "  <tbody>\n",
       "    <tr>\n",
       "      <th>0</th>\n",
       "      <td>0.0</td>\n",
       "      <td>0.0</td>\n",
       "      <td>48431</td>\n",
       "    </tr>\n",
       "    <tr>\n",
       "      <th>1</th>\n",
       "      <td>0.0</td>\n",
       "      <td>1.0</td>\n",
       "      <td>8431</td>\n",
       "    </tr>\n",
       "    <tr>\n",
       "      <th>2</th>\n",
       "      <td>1.0</td>\n",
       "      <td>0.0</td>\n",
       "      <td>5</td>\n",
       "    </tr>\n",
       "    <tr>\n",
       "      <th>3</th>\n",
       "      <td>1.0</td>\n",
       "      <td>1.0</td>\n",
       "      <td>95</td>\n",
       "    </tr>\n",
       "  </tbody>\n",
       "</table>\n",
       "</div>"
      ],
      "text/plain": [
       "   Class  Label   Freq\n",
       "0    0.0    0.0  48431\n",
       "1    0.0    1.0   8431\n",
       "2    1.0    0.0      5\n",
       "3    1.0    1.0     95"
      ]
     },
     "execution_count": 63,
     "metadata": {},
     "output_type": "execute_result"
    }
   ],
   "source": [
    "# See real target and predicted label\n",
    "pd.crosstab(predictions['Class'], predictions['Label']).stack().reset_index(name='Freq')"
   ]
  },
  {
   "cell_type": "code",
   "execution_count": 64,
   "metadata": {},
   "outputs": [
    {
     "data": {
      "text/html": [
       "\n",
       "            <script src=\"/static/components/requirejs/require.js\"></script>\n",
       "            <script>\n",
       "              requirejs.config({\n",
       "                paths: {\n",
       "                  base: '/static/base',\n",
       "                  plotly: 'https://cdn.plot.ly/plotly-latest.min.js?noext',\n",
       "                },\n",
       "              });\n",
       "            </script>\n",
       "            "
      ],
      "text/plain": [
       "<IPython.core.display.HTML object>"
      ]
     },
     "metadata": {},
     "output_type": "display_data"
    },
    {
     "data": {
      "image/png": "[encoded data removed]",
      "text/plain": [
       "<Figure size 576x396 with 2 Axes>"
      ]
     },
     "metadata": {},
     "output_type": "display_data"
    }
   ],
   "source": [
    "# Plot confusion matrix\n",
    "conf_matx_clf = confusion_matrix(predictions['Class'], predictions['Label'])\n",
    "ax = plt.axes()\n",
    "sns.heatmap(conf_matx_clf, annot=True, cmap='Greens', fmt='.0f')\n",
    "ax.set_title('Log. Reg. Pycaret \\n Confusion Matrix - Original Test set')\n",
    "plt.show()"
   ]
  },
  {
   "cell_type": "markdown",
   "metadata": {},
   "source": [
    "# 3º APPROACH - CLASSIFIER WITH UNDER & OVER SAMPLES"
   ]
  },
  {
   "cell_type": "markdown",
   "metadata": {},
   "source": [
    "#### We'll apply some techniques to help our model identify the outliers.\n",
    "\n",
    "\n",
    "* First, we'll create a dataframe with 492 non-fraud observations and 492 fraud observations (all fraud available);\n",
    "* Second, we'll use smote (over-sample) in this dataframe with 984 observations and create our model with these new data (smote after under-sampling);\n",
    "* After that, we'll predict the under-sampled test set (984 observations);\n",
    "* Finally, we'll predict the original test set with 56,961 observations."
   ]
  },
  {
   "cell_type": "code",
   "execution_count": 65,
   "metadata": {
    "scrolled": true
   },
   "outputs": [
    {
     "data": {
      "text/html": [
       "\n",
       "            <script src=\"/static/components/requirejs/require.js\"></script>\n",
       "            <script>\n",
       "              requirejs.config({\n",
       "                paths: {\n",
       "                  base: '/static/base',\n",
       "                  plotly: 'https://cdn.plot.ly/plotly-latest.min.js?noext',\n",
       "                },\n",
       "              });\n",
       "            </script>\n",
       "            "
      ],
      "text/plain": [
       "<IPython.core.display.HTML object>"
      ]
     },
     "metadata": {},
     "output_type": "display_data"
    },
    {
     "data": {
      "text/html": [
       "<div>\n",
       "<style scoped>\n",
       "    .dataframe tbody tr th:only-of-type {\n",
       "        vertical-align: middle;\n",
       "    }\n",
       "\n",
       "    .dataframe tbody tr th {\n",
       "        vertical-align: top;\n",
       "    }\n",
       "\n",
       "    .dataframe thead th {\n",
       "        text-align: right;\n",
       "    }\n",
       "</style>\n",
       "<table border=\"1\" class=\"dataframe\">\n",
       "  <thead>\n",
       "    <tr style=\"text-align: right;\">\n",
       "      <th></th>\n",
       "      <th>scaled_amount</th>\n",
       "      <th>scaled_time</th>\n",
       "      <th>V1</th>\n",
       "      <th>V2</th>\n",
       "      <th>V3</th>\n",
       "      <th>V4</th>\n",
       "      <th>V5</th>\n",
       "      <th>V6</th>\n",
       "      <th>V7</th>\n",
       "      <th>V8</th>\n",
       "      <th>...</th>\n",
       "      <th>V20</th>\n",
       "      <th>V21</th>\n",
       "      <th>V22</th>\n",
       "      <th>V23</th>\n",
       "      <th>V24</th>\n",
       "      <th>V25</th>\n",
       "      <th>V26</th>\n",
       "      <th>V27</th>\n",
       "      <th>V28</th>\n",
       "      <th>Class</th>\n",
       "    </tr>\n",
       "  </thead>\n",
       "  <tbody>\n",
       "    <tr>\n",
       "      <th>151006</th>\n",
       "      <td>-0.293440</td>\n",
       "      <td>0.113606</td>\n",
       "      <td>-26.457745</td>\n",
       "      <td>16.497472</td>\n",
       "      <td>-30.177317</td>\n",
       "      <td>8.904157</td>\n",
       "      <td>-17.892600</td>\n",
       "      <td>-1.227904</td>\n",
       "      <td>-31.197329</td>\n",
       "      <td>-11.438920</td>\n",
       "      <td>...</td>\n",
       "      <td>2.812241</td>\n",
       "      <td>-8.755698</td>\n",
       "      <td>3.460893</td>\n",
       "      <td>0.896538</td>\n",
       "      <td>0.254836</td>\n",
       "      <td>-0.738097</td>\n",
       "      <td>-0.966564</td>\n",
       "      <td>-7.263482</td>\n",
       "      <td>-1.324884</td>\n",
       "      <td>1</td>\n",
       "    </tr>\n",
       "    <tr>\n",
       "      <th>248419</th>\n",
       "      <td>2.019842</td>\n",
       "      <td>0.813520</td>\n",
       "      <td>1.939494</td>\n",
       "      <td>-1.228433</td>\n",
       "      <td>-1.822550</td>\n",
       "      <td>-1.123825</td>\n",
       "      <td>-0.153692</td>\n",
       "      <td>-0.232265</td>\n",
       "      <td>-0.295362</td>\n",
       "      <td>-0.198967</td>\n",
       "      <td>...</td>\n",
       "      <td>0.368968</td>\n",
       "      <td>0.548874</td>\n",
       "      <td>1.212058</td>\n",
       "      <td>-0.208544</td>\n",
       "      <td>0.172305</td>\n",
       "      <td>0.222485</td>\n",
       "      <td>0.043438</td>\n",
       "      <td>-0.071139</td>\n",
       "      <td>-0.046482</td>\n",
       "      <td>0</td>\n",
       "    </tr>\n",
       "    <tr>\n",
       "      <th>154670</th>\n",
       "      <td>1.145812</td>\n",
       "      <td>0.209084</td>\n",
       "      <td>-2.296987</td>\n",
       "      <td>4.064043</td>\n",
       "      <td>-5.957706</td>\n",
       "      <td>4.680008</td>\n",
       "      <td>-2.080938</td>\n",
       "      <td>-1.463272</td>\n",
       "      <td>-4.490847</td>\n",
       "      <td>1.029246</td>\n",
       "      <td>...</td>\n",
       "      <td>1.264954</td>\n",
       "      <td>1.089084</td>\n",
       "      <td>0.975398</td>\n",
       "      <td>-0.625530</td>\n",
       "      <td>-0.535181</td>\n",
       "      <td>0.247435</td>\n",
       "      <td>0.160400</td>\n",
       "      <td>0.969582</td>\n",
       "      <td>0.335041</td>\n",
       "      <td>1</td>\n",
       "    </tr>\n",
       "    <tr>\n",
       "      <th>15566</th>\n",
       "      <td>1.089779</td>\n",
       "      <td>-0.678239</td>\n",
       "      <td>-23.237920</td>\n",
       "      <td>13.487386</td>\n",
       "      <td>-25.188773</td>\n",
       "      <td>6.261733</td>\n",
       "      <td>-17.345188</td>\n",
       "      <td>-4.534989</td>\n",
       "      <td>-17.100492</td>\n",
       "      <td>15.374630</td>\n",
       "      <td>...</td>\n",
       "      <td>1.630787</td>\n",
       "      <td>1.769708</td>\n",
       "      <td>-1.691973</td>\n",
       "      <td>-1.045673</td>\n",
       "      <td>0.143386</td>\n",
       "      <td>1.611577</td>\n",
       "      <td>-0.221576</td>\n",
       "      <td>1.481233</td>\n",
       "      <td>0.438125</td>\n",
       "      <td>1</td>\n",
       "    </tr>\n",
       "    <tr>\n",
       "      <th>33295</th>\n",
       "      <td>-0.293440</td>\n",
       "      <td>-0.558230</td>\n",
       "      <td>-0.615139</td>\n",
       "      <td>1.424862</td>\n",
       "      <td>0.825301</td>\n",
       "      <td>0.259156</td>\n",
       "      <td>0.738616</td>\n",
       "      <td>-1.222637</td>\n",
       "      <td>1.092297</td>\n",
       "      <td>-0.254737</td>\n",
       "      <td>...</td>\n",
       "      <td>-0.088241</td>\n",
       "      <td>0.091877</td>\n",
       "      <td>0.240611</td>\n",
       "      <td>-0.253740</td>\n",
       "      <td>0.286295</td>\n",
       "      <td>0.020606</td>\n",
       "      <td>-0.541818</td>\n",
       "      <td>0.001272</td>\n",
       "      <td>0.188636</td>\n",
       "      <td>0</td>\n",
       "    </tr>\n",
       "  </tbody>\n",
       "</table>\n",
       "<p>5 rows × 31 columns</p>\n",
       "</div>"
      ],
      "text/plain": [
       "        scaled_amount  scaled_time         V1         V2         V3        V4  \\\n",
       "151006      -0.293440     0.113606 -26.457745  16.497472 -30.177317  8.904157   \n",
       "248419       2.019842     0.813520   1.939494  -1.228433  -1.822550 -1.123825   \n",
       "154670       1.145812     0.209084  -2.296987   4.064043  -5.957706  4.680008   \n",
       "15566        1.089779    -0.678239 -23.237920  13.487386 -25.188773  6.261733   \n",
       "33295       -0.293440    -0.558230  -0.615139   1.424862   0.825301  0.259156   \n",
       "\n",
       "               V5        V6         V7         V8  ...       V20       V21  \\\n",
       "151006 -17.892600 -1.227904 -31.197329 -11.438920  ...  2.812241 -8.755698   \n",
       "248419  -0.153692 -0.232265  -0.295362  -0.198967  ...  0.368968  0.548874   \n",
       "154670  -2.080938 -1.463272  -4.490847   1.029246  ...  1.264954  1.089084   \n",
       "15566  -17.345188 -4.534989 -17.100492  15.374630  ...  1.630787  1.769708   \n",
       "33295    0.738616 -1.222637   1.092297  -0.254737  ... -0.088241  0.091877   \n",
       "\n",
       "             V22       V23       V24       V25       V26       V27       V28  \\\n",
       "151006  3.460893  0.896538  0.254836 -0.738097 -0.966564 -7.263482 -1.324884   \n",
       "248419  1.212058 -0.208544  0.172305  0.222485  0.043438 -0.071139 -0.046482   \n",
       "154670  0.975398 -0.625530 -0.535181  0.247435  0.160400  0.969582  0.335041   \n",
       "15566  -1.691973 -1.045673  0.143386  1.611577 -0.221576  1.481233  0.438125   \n",
       "33295   0.240611 -0.253740  0.286295  0.020606 -0.541818  0.001272  0.188636   \n",
       "\n",
       "        Class  \n",
       "151006      1  \n",
       "248419      0  \n",
       "154670      1  \n",
       "15566       1  \n",
       "33295       0  \n",
       "\n",
       "[5 rows x 31 columns]"
      ]
     },
     "execution_count": 65,
     "metadata": {},
     "output_type": "execute_result"
    }
   ],
   "source": [
    "# Shuffle the data before creating the subsamples\n",
    "\n",
    "df = df.sample(frac=1)\n",
    "\n",
    "# Fraud classes = 492 rows.\n",
    "fraud_df = df.loc[df['Class'] == 1]\n",
    "non_fraud_df = df.loc[df['Class'] == 0][:492]\n",
    "\n",
    "normal_distributed_df = pd.concat([fraud_df, non_fraud_df])\n",
    "\n",
    "# Shuffle dataframe rows\n",
    "new_df = normal_distributed_df.sample(frac=1, random_state=1313)\n",
    "\n",
    "new_df.head()"
   ]
  },
  {
   "cell_type": "code",
   "execution_count": 66,
   "metadata": {},
   "outputs": [
    {
     "data": {
      "text/html": [
       "\n",
       "            <script src=\"/static/components/requirejs/require.js\"></script>\n",
       "            <script>\n",
       "              requirejs.config({\n",
       "                paths: {\n",
       "                  base: '/static/base',\n",
       "                  plotly: 'https://cdn.plot.ly/plotly-latest.min.js?noext',\n",
       "                },\n",
       "              });\n",
       "            </script>\n",
       "            "
      ],
      "text/plain": [
       "<IPython.core.display.HTML object>"
      ]
     },
     "metadata": {},
     "output_type": "display_data"
    },
    {
     "data": {
      "image/png": "[encoded data removed]",
      "text/plain": [
       "<Figure size 1728x1440 with 4 Axes>"
      ]
     },
     "metadata": {},
     "output_type": "display_data"
    }
   ],
   "source": [
    "# Plot the original and the undersampled datasets to see the differences\n",
    "f, (ax1, ax2) = plt.subplots(2, 1, figsize=(24,20))\n",
    "\n",
    "# Entire DataFrame\n",
    "corr = df.corr()\n",
    "sns.heatmap(corr, cmap='coolwarm_r', annot_kws={'size':20}, ax=ax1)\n",
    "ax1.set_title(\"Imbalanced Correlation Matrix \\n (don't use for reference)\", fontsize=14)\n",
    "\n",
    "# Subsample dataframe\n",
    "sub_sample_corr = new_df.corr()\n",
    "sns.heatmap(sub_sample_corr, cmap='coolwarm_r', annot_kws={'size':20}, ax=ax2)\n",
    "ax2.set_title('SubSample Correlation Matrix \\n (use for reference)', fontsize=14)\n",
    "plt.show()"
   ]
  },
  {
   "cell_type": "markdown",
   "metadata": {},
   "source": [
    "#### We'll remove extreme outliers from features with high correlation with the class.\n",
    "\n",
    "##### We'll use the interquartile range method, calculating the interquartile range (IQR) between the 75th percentile and the 25th percentile. This technique aims to define a threshold so if some instance passes it, it will be deleted."
   ]
  },
  {
   "cell_type": "code",
   "execution_count": 67,
   "metadata": {},
   "outputs": [
    {
     "data": {
      "text/html": [
       "\n",
       "            <script src=\"/static/components/requirejs/require.js\"></script>\n",
       "            <script>\n",
       "              requirejs.config({\n",
       "                paths: {\n",
       "                  base: '/static/base',\n",
       "                  plotly: 'https://cdn.plot.ly/plotly-latest.min.js?noext',\n",
       "                },\n",
       "              });\n",
       "            </script>\n",
       "            "
      ],
      "text/plain": [
       "<IPython.core.display.HTML object>"
      ]
     },
     "metadata": {},
     "output_type": "display_data"
    }
   ],
   "source": [
    "# We will analyze only the 3 higher and the 3 lower correlations to remove extreme outlies\n",
    "correlations = sub_sample_corr.drop(sub_sample_corr.columns.difference(['Class']), 1)\n",
    "correlations = correlations.drop('Class', 0)\n",
    "correlations = correlations.sort_values(by=['Class'])"
   ]
  },
  {
   "cell_type": "code",
   "execution_count": 68,
   "metadata": {},
   "outputs": [
    {
     "data": {
      "text/html": [
       "\n",
       "            <script src=\"/static/components/requirejs/require.js\"></script>\n",
       "            <script>\n",
       "              requirejs.config({\n",
       "                paths: {\n",
       "                  base: '/static/base',\n",
       "                  plotly: 'https://cdn.plot.ly/plotly-latest.min.js?noext',\n",
       "                },\n",
       "              });\n",
       "            </script>\n",
       "            "
      ],
      "text/plain": [
       "<IPython.core.display.HTML object>"
      ]
     },
     "metadata": {},
     "output_type": "display_data"
    }
   ],
   "source": [
    "# Lower\n",
    "lower_3 = correlations[:3]\n",
    "\n",
    "# Higher\n",
    "higher_3 = correlations[-3:]"
   ]
  },
  {
   "cell_type": "markdown",
   "metadata": {},
   "source": [
    "#### We could join the lower and higher correlations to apply only once. But, we'll keep separated so we can see the differences."
   ]
  },
  {
   "cell_type": "code",
   "execution_count": 69,
   "metadata": {},
   "outputs": [
    {
     "data": {
      "text/html": [
       "\n",
       "            <script src=\"/static/components/requirejs/require.js\"></script>\n",
       "            <script>\n",
       "              requirejs.config({\n",
       "                paths: {\n",
       "                  base: '/static/base',\n",
       "                  plotly: 'https://cdn.plot.ly/plotly-latest.min.js?noext',\n",
       "                },\n",
       "              });\n",
       "            </script>\n",
       "            "
      ],
      "text/plain": [
       "<IPython.core.display.HTML object>"
      ]
     },
     "metadata": {},
     "output_type": "display_data"
    }
   ],
   "source": [
    "# Function to remove the extreme correlations\n",
    "def extremeOutliers(df, correlations, cut):\n",
    "    \n",
    "    global new_df\n",
    "    \n",
    "    for row in correlations.index:\n",
    "        var = row\n",
    "        \n",
    "        fraud_temp = df[var].loc[df['Class']==1].values\n",
    "        q25, q75 = np.percentile(fraud_temp, 25), np.percentile(fraud_temp, 75)\n",
    "        print('Feature: {}'.format(var))\n",
    "        print('Quartile 25: {} | Quartile 75: {}'.format(round(q25,3), round(q75,3)))\n",
    "        iqr_temp = q75 - q25\n",
    "        print('iqr: {}'.format(round(iqr_temp,3)))\n",
    "\n",
    "        cut_off_temp = iqr_temp * cut\n",
    "        lower_temp, upper_temp = q25 - cut_off_temp, q75 + cut_off_temp\n",
    "        print('Cut Off: {}'.format(round(cut_off_temp,3)))\n",
    "        print('Lower: {}'.format(round(lower_temp,3)))\n",
    "        print('Upper: {}'.format(round(upper_temp,3)))\n",
    "\n",
    "        outliers = [x for x in fraud_temp if x < lower_temp or x > upper_temp]\n",
    "        print('Feature Outliers for Fraud Cases: {}'.format(len(outliers)))\n",
    "        print('outliers:{}'.format(outliers))\n",
    "        \n",
    "        print('----' * 30)\n",
    "\n",
    "        df = df.drop(df[(df[var] > upper_temp) | (df[var] < lower_temp)].index)\n",
    "        \n",
    "    new_df = df\n",
    "        \n",
    "    return new_df"
   ]
  },
  {
   "cell_type": "code",
   "execution_count": 70,
   "metadata": {},
   "outputs": [
    {
     "data": {
      "text/html": [
       "\n",
       "            <script src=\"/static/components/requirejs/require.js\"></script>\n",
       "            <script>\n",
       "              requirejs.config({\n",
       "                paths: {\n",
       "                  base: '/static/base',\n",
       "                  plotly: 'https://cdn.plot.ly/plotly-latest.min.js?noext',\n",
       "                },\n",
       "              });\n",
       "            </script>\n",
       "            "
      ],
      "text/plain": [
       "<IPython.core.display.HTML object>"
      ]
     },
     "metadata": {},
     "output_type": "display_data"
    },
    {
     "name": "stdout",
     "output_type": "stream",
     "text": [
      "Feature: V14\n",
      "Quartile 25: -9.693 | Quartile 75: -4.283\n",
      "iqr: 5.41\n",
      "Cut Off: 8.115\n",
      "Lower: -17.808\n",
      "Upper: 3.832\n",
      "Feature Outliers for Fraud Cases: 4\n",
      "outliers:[-18.8220867423816, -19.2143254902614, -18.4937733551053, -18.049997689859396]\n",
      "------------------------------------------------------------------------------------------------------------------------\n",
      "Feature: V12\n",
      "Quartile 25: -8.673 | Quartile 75: -2.893\n",
      "iqr: 5.78\n",
      "Cut Off: 8.67\n",
      "Lower: -17.343\n",
      "Upper: 5.777\n",
      "Feature Outliers for Fraud Cases: 4\n",
      "outliers:[-18.4311310279993, -18.553697009645802, -18.047596570821604, -18.683714633344298]\n",
      "------------------------------------------------------------------------------------------------------------------------\n",
      "Feature: V10\n",
      "Quartile 25: -7.467 | Quartile 75: -2.512\n",
      "iqr: 4.955\n",
      "Cut Off: 7.432\n",
      "Lower: -14.899\n",
      "Upper: 4.92\n",
      "Feature Outliers for Fraud Cases: 27\n",
      "outliers:[-22.1870885620007, -15.1237521803455, -15.2399619587112, -16.6496281595399, -18.9132433348732, -18.2711681738888, -15.2318333653018, -16.2556117491401, -16.7460441053944, -15.2399619587112, -22.1870885620007, -22.1870885620007, -16.3035376590131, -14.9246547735487, -20.949191554361104, -16.6011969664137, -22.1870885620007, -19.836148851696, -15.124162814494698, -17.141513641289198, -24.403184969972802, -15.346098846877501, -14.9246547735487, -15.563791338730098, -23.2282548357516, -24.5882624372475, -15.563791338730098]\n",
      "------------------------------------------------------------------------------------------------------------------------\n"
     ]
    },
    {
     "data": {
      "text/html": [
       "<div>\n",
       "<style scoped>\n",
       "    .dataframe tbody tr th:only-of-type {\n",
       "        vertical-align: middle;\n",
       "    }\n",
       "\n",
       "    .dataframe tbody tr th {\n",
       "        vertical-align: top;\n",
       "    }\n",
       "\n",
       "    .dataframe thead th {\n",
       "        text-align: right;\n",
       "    }\n",
       "</style>\n",
       "<table border=\"1\" class=\"dataframe\">\n",
       "  <thead>\n",
       "    <tr style=\"text-align: right;\">\n",
       "      <th></th>\n",
       "      <th>scaled_amount</th>\n",
       "      <th>scaled_time</th>\n",
       "      <th>V1</th>\n",
       "      <th>V2</th>\n",
       "      <th>V3</th>\n",
       "      <th>V4</th>\n",
       "      <th>V5</th>\n",
       "      <th>V6</th>\n",
       "      <th>V7</th>\n",
       "      <th>V8</th>\n",
       "      <th>...</th>\n",
       "      <th>V20</th>\n",
       "      <th>V21</th>\n",
       "      <th>V22</th>\n",
       "      <th>V23</th>\n",
       "      <th>V24</th>\n",
       "      <th>V25</th>\n",
       "      <th>V26</th>\n",
       "      <th>V27</th>\n",
       "      <th>V28</th>\n",
       "      <th>Class</th>\n",
       "    </tr>\n",
       "  </thead>\n",
       "  <tbody>\n",
       "    <tr>\n",
       "      <th>248419</th>\n",
       "      <td>2.019842</td>\n",
       "      <td>0.813520</td>\n",
       "      <td>1.939494</td>\n",
       "      <td>-1.228433</td>\n",
       "      <td>-1.822550</td>\n",
       "      <td>-1.123825</td>\n",
       "      <td>-0.153692</td>\n",
       "      <td>-0.232265</td>\n",
       "      <td>-0.295362</td>\n",
       "      <td>-0.198967</td>\n",
       "      <td>...</td>\n",
       "      <td>0.368968</td>\n",
       "      <td>0.548874</td>\n",
       "      <td>1.212058</td>\n",
       "      <td>-0.208544</td>\n",
       "      <td>0.172305</td>\n",
       "      <td>0.222485</td>\n",
       "      <td>0.043438</td>\n",
       "      <td>-0.071139</td>\n",
       "      <td>-0.046482</td>\n",
       "      <td>0</td>\n",
       "    </tr>\n",
       "    <tr>\n",
       "      <th>154670</th>\n",
       "      <td>1.145812</td>\n",
       "      <td>0.209084</td>\n",
       "      <td>-2.296987</td>\n",
       "      <td>4.064043</td>\n",
       "      <td>-5.957706</td>\n",
       "      <td>4.680008</td>\n",
       "      <td>-2.080938</td>\n",
       "      <td>-1.463272</td>\n",
       "      <td>-4.490847</td>\n",
       "      <td>1.029246</td>\n",
       "      <td>...</td>\n",
       "      <td>1.264954</td>\n",
       "      <td>1.089084</td>\n",
       "      <td>0.975398</td>\n",
       "      <td>-0.625530</td>\n",
       "      <td>-0.535181</td>\n",
       "      <td>0.247435</td>\n",
       "      <td>0.160400</td>\n",
       "      <td>0.969582</td>\n",
       "      <td>0.335041</td>\n",
       "      <td>1</td>\n",
       "    </tr>\n",
       "    <tr>\n",
       "      <th>15566</th>\n",
       "      <td>1.089779</td>\n",
       "      <td>-0.678239</td>\n",
       "      <td>-23.237920</td>\n",
       "      <td>13.487386</td>\n",
       "      <td>-25.188773</td>\n",
       "      <td>6.261733</td>\n",
       "      <td>-17.345188</td>\n",
       "      <td>-4.534989</td>\n",
       "      <td>-17.100492</td>\n",
       "      <td>15.374630</td>\n",
       "      <td>...</td>\n",
       "      <td>1.630787</td>\n",
       "      <td>1.769708</td>\n",
       "      <td>-1.691973</td>\n",
       "      <td>-1.045673</td>\n",
       "      <td>0.143386</td>\n",
       "      <td>1.611577</td>\n",
       "      <td>-0.221576</td>\n",
       "      <td>1.481233</td>\n",
       "      <td>0.438125</td>\n",
       "      <td>1</td>\n",
       "    </tr>\n",
       "    <tr>\n",
       "      <th>33295</th>\n",
       "      <td>-0.293440</td>\n",
       "      <td>-0.558230</td>\n",
       "      <td>-0.615139</td>\n",
       "      <td>1.424862</td>\n",
       "      <td>0.825301</td>\n",
       "      <td>0.259156</td>\n",
       "      <td>0.738616</td>\n",
       "      <td>-1.222637</td>\n",
       "      <td>1.092297</td>\n",
       "      <td>-0.254737</td>\n",
       "      <td>...</td>\n",
       "      <td>-0.088241</td>\n",
       "      <td>0.091877</td>\n",
       "      <td>0.240611</td>\n",
       "      <td>-0.253740</td>\n",
       "      <td>0.286295</td>\n",
       "      <td>0.020606</td>\n",
       "      <td>-0.541818</td>\n",
       "      <td>0.001272</td>\n",
       "      <td>0.188636</td>\n",
       "      <td>0</td>\n",
       "    </tr>\n",
       "    <tr>\n",
       "      <th>239501</th>\n",
       "      <td>3.007895</td>\n",
       "      <td>0.768888</td>\n",
       "      <td>-6.682832</td>\n",
       "      <td>-2.714268</td>\n",
       "      <td>-5.774530</td>\n",
       "      <td>1.449792</td>\n",
       "      <td>-0.661836</td>\n",
       "      <td>-1.148650</td>\n",
       "      <td>0.849686</td>\n",
       "      <td>0.433427</td>\n",
       "      <td>...</td>\n",
       "      <td>-1.928527</td>\n",
       "      <td>0.220526</td>\n",
       "      <td>1.187013</td>\n",
       "      <td>0.335821</td>\n",
       "      <td>0.215683</td>\n",
       "      <td>0.803110</td>\n",
       "      <td>0.044033</td>\n",
       "      <td>-0.054988</td>\n",
       "      <td>0.082337</td>\n",
       "      <td>1</td>\n",
       "    </tr>\n",
       "    <tr>\n",
       "      <th>...</th>\n",
       "      <td>...</td>\n",
       "      <td>...</td>\n",
       "      <td>...</td>\n",
       "      <td>...</td>\n",
       "      <td>...</td>\n",
       "      <td>...</td>\n",
       "      <td>...</td>\n",
       "      <td>...</td>\n",
       "      <td>...</td>\n",
       "      <td>...</td>\n",
       "      <td>...</td>\n",
       "      <td>...</td>\n",
       "      <td>...</td>\n",
       "      <td>...</td>\n",
       "      <td>...</td>\n",
       "      <td>...</td>\n",
       "      <td>...</td>\n",
       "      <td>...</td>\n",
       "      <td>...</td>\n",
       "      <td>...</td>\n",
       "      <td>...</td>\n",
       "    </tr>\n",
       "    <tr>\n",
       "      <th>117044</th>\n",
       "      <td>-0.269825</td>\n",
       "      <td>-0.119492</td>\n",
       "      <td>-0.641963</td>\n",
       "      <td>1.221503</td>\n",
       "      <td>1.285376</td>\n",
       "      <td>-0.024410</td>\n",
       "      <td>-0.160326</td>\n",
       "      <td>-0.635892</td>\n",
       "      <td>0.272910</td>\n",
       "      <td>-0.665436</td>\n",
       "      <td>...</td>\n",
       "      <td>-0.113711</td>\n",
       "      <td>0.552034</td>\n",
       "      <td>-0.880381</td>\n",
       "      <td>0.119209</td>\n",
       "      <td>0.443139</td>\n",
       "      <td>-0.232847</td>\n",
       "      <td>0.051465</td>\n",
       "      <td>0.271975</td>\n",
       "      <td>0.095299</td>\n",
       "      <td>0</td>\n",
       "    </tr>\n",
       "    <tr>\n",
       "      <th>224407</th>\n",
       "      <td>-0.097813</td>\n",
       "      <td>0.694146</td>\n",
       "      <td>2.345023</td>\n",
       "      <td>-1.421737</td>\n",
       "      <td>-1.447076</td>\n",
       "      <td>-1.896845</td>\n",
       "      <td>-0.648271</td>\n",
       "      <td>0.083851</td>\n",
       "      <td>-1.150088</td>\n",
       "      <td>-0.034705</td>\n",
       "      <td>...</td>\n",
       "      <td>-0.420608</td>\n",
       "      <td>-0.205623</td>\n",
       "      <td>-0.098950</td>\n",
       "      <td>0.057991</td>\n",
       "      <td>-1.471668</td>\n",
       "      <td>-0.041263</td>\n",
       "      <td>-0.088681</td>\n",
       "      <td>0.004239</td>\n",
       "      <td>-0.076750</td>\n",
       "      <td>0</td>\n",
       "    </tr>\n",
       "    <tr>\n",
       "      <th>8312</th>\n",
       "      <td>-0.293440</td>\n",
       "      <td>-0.864672</td>\n",
       "      <td>0.378275</td>\n",
       "      <td>3.914797</td>\n",
       "      <td>-5.726872</td>\n",
       "      <td>6.094141</td>\n",
       "      <td>1.698875</td>\n",
       "      <td>-2.807314</td>\n",
       "      <td>-0.591118</td>\n",
       "      <td>-0.123496</td>\n",
       "      <td>...</td>\n",
       "      <td>0.440439</td>\n",
       "      <td>0.149896</td>\n",
       "      <td>-0.601967</td>\n",
       "      <td>-0.613724</td>\n",
       "      <td>-0.403114</td>\n",
       "      <td>1.568445</td>\n",
       "      <td>0.521884</td>\n",
       "      <td>0.527938</td>\n",
       "      <td>0.411910</td>\n",
       "      <td>1</td>\n",
       "    </tr>\n",
       "    <tr>\n",
       "      <th>30442</th>\n",
       "      <td>-0.243695</td>\n",
       "      <td>-0.572916</td>\n",
       "      <td>-3.896583</td>\n",
       "      <td>4.518355</td>\n",
       "      <td>-4.454027</td>\n",
       "      <td>5.547453</td>\n",
       "      <td>-4.121459</td>\n",
       "      <td>-1.163407</td>\n",
       "      <td>-6.805053</td>\n",
       "      <td>2.928356</td>\n",
       "      <td>...</td>\n",
       "      <td>0.757287</td>\n",
       "      <td>1.691042</td>\n",
       "      <td>0.920021</td>\n",
       "      <td>-0.151104</td>\n",
       "      <td>0.011007</td>\n",
       "      <td>0.080303</td>\n",
       "      <td>0.412191</td>\n",
       "      <td>0.635789</td>\n",
       "      <td>0.501050</td>\n",
       "      <td>1</td>\n",
       "    </tr>\n",
       "    <tr>\n",
       "      <th>279080</th>\n",
       "      <td>0.025152</td>\n",
       "      <td>0.986172</td>\n",
       "      <td>-1.138516</td>\n",
       "      <td>-0.762543</td>\n",
       "      <td>-1.142460</td>\n",
       "      <td>0.022805</td>\n",
       "      <td>3.478549</td>\n",
       "      <td>-2.322037</td>\n",
       "      <td>0.124222</td>\n",
       "      <td>-0.316119</td>\n",
       "      <td>...</td>\n",
       "      <td>0.575289</td>\n",
       "      <td>0.332529</td>\n",
       "      <td>0.627005</td>\n",
       "      <td>0.220621</td>\n",
       "      <td>0.288599</td>\n",
       "      <td>-0.842116</td>\n",
       "      <td>0.421467</td>\n",
       "      <td>-0.014130</td>\n",
       "      <td>0.133600</td>\n",
       "      <td>0</td>\n",
       "    </tr>\n",
       "  </tbody>\n",
       "</table>\n",
       "<p>946 rows × 31 columns</p>\n",
       "</div>"
      ],
      "text/plain": [
       "        scaled_amount  scaled_time         V1         V2         V3        V4  \\\n",
       "248419       2.019842     0.813520   1.939494  -1.228433  -1.822550 -1.123825   \n",
       "154670       1.145812     0.209084  -2.296987   4.064043  -5.957706  4.680008   \n",
       "15566        1.089779    -0.678239 -23.237920  13.487386 -25.188773  6.261733   \n",
       "33295       -0.293440    -0.558230  -0.615139   1.424862   0.825301  0.259156   \n",
       "239501       3.007895     0.768888  -6.682832  -2.714268  -5.774530  1.449792   \n",
       "...               ...          ...        ...        ...        ...       ...   \n",
       "117044      -0.269825    -0.119492  -0.641963   1.221503   1.285376 -0.024410   \n",
       "224407      -0.097813     0.694146   2.345023  -1.421737  -1.447076 -1.896845   \n",
       "8312        -0.293440    -0.864672   0.378275   3.914797  -5.726872  6.094141   \n",
       "30442       -0.243695    -0.572916  -3.896583   4.518355  -4.454027  5.547453   \n",
       "279080       0.025152     0.986172  -1.138516  -0.762543  -1.142460  0.022805   \n",
       "\n",
       "               V5        V6         V7         V8  ...       V20       V21  \\\n",
       "248419  -0.153692 -0.232265  -0.295362  -0.198967  ...  0.368968  0.548874   \n",
       "154670  -2.080938 -1.463272  -4.490847   1.029246  ...  1.264954  1.089084   \n",
       "15566  -17.345188 -4.534989 -17.100492  15.374630  ...  1.630787  1.769708   \n",
       "33295    0.738616 -1.222637   1.092297  -0.254737  ... -0.088241  0.091877   \n",
       "239501  -0.661836 -1.148650   0.849686   0.433427  ... -1.928527  0.220526   \n",
       "...           ...       ...        ...        ...  ...       ...       ...   \n",
       "117044  -0.160326 -0.635892   0.272910  -0.665436  ... -0.113711  0.552034   \n",
       "224407  -0.648271  0.083851  -1.150088  -0.034705  ... -0.420608 -0.205623   \n",
       "8312     1.698875 -2.807314  -0.591118  -0.123496  ...  0.440439  0.149896   \n",
       "30442   -4.121459 -1.163407  -6.805053   2.928356  ...  0.757287  1.691042   \n",
       "279080   3.478549 -2.322037   0.124222  -0.316119  ...  0.575289  0.332529   \n",
       "\n",
       "             V22       V23       V24       V25       V26       V27       V28  \\\n",
       "248419  1.212058 -0.208544  0.172305  0.222485  0.043438 -0.071139 -0.046482   \n",
       "154670  0.975398 -0.625530 -0.535181  0.247435  0.160400  0.969582  0.335041   \n",
       "15566  -1.691973 -1.045673  0.143386  1.611577 -0.221576  1.481233  0.438125   \n",
       "33295   0.240611 -0.253740  0.286295  0.020606 -0.541818  0.001272  0.188636   \n",
       "239501  1.187013  0.335821  0.215683  0.803110  0.044033 -0.054988  0.082337   \n",
       "...          ...       ...       ...       ...       ...       ...       ...   \n",
       "117044 -0.880381  0.119209  0.443139 -0.232847  0.051465  0.271975  0.095299   \n",
       "224407 -0.098950  0.057991 -1.471668 -0.041263 -0.088681  0.004239 -0.076750   \n",
       "8312   -0.601967 -0.613724 -0.403114  1.568445  0.521884  0.527938  0.411910   \n",
       "30442   0.920021 -0.151104  0.011007  0.080303  0.412191  0.635789  0.501050   \n",
       "279080  0.627005  0.220621  0.288599 -0.842116  0.421467 -0.014130  0.133600   \n",
       "\n",
       "        Class  \n",
       "248419      0  \n",
       "154670      1  \n",
       "15566       1  \n",
       "33295       0  \n",
       "239501      1  \n",
       "...       ...  \n",
       "117044      0  \n",
       "224407      0  \n",
       "8312        1  \n",
       "30442       1  \n",
       "279080      0  \n",
       "\n",
       "[946 rows x 31 columns]"
      ]
     },
     "execution_count": 70,
     "metadata": {},
     "output_type": "execute_result"
    }
   ],
   "source": [
    "# Removing the lower correlations\n",
    "extremeOutliers(new_df, lower_3, 1.5)"
   ]
  },
  {
   "cell_type": "code",
   "execution_count": 71,
   "metadata": {},
   "outputs": [
    {
     "data": {
      "text/html": [
       "\n",
       "            <script src=\"/static/components/requirejs/require.js\"></script>\n",
       "            <script>\n",
       "              requirejs.config({\n",
       "                paths: {\n",
       "                  base: '/static/base',\n",
       "                  plotly: 'https://cdn.plot.ly/plotly-latest.min.js?noext',\n",
       "                },\n",
       "              });\n",
       "            </script>\n",
       "            "
      ],
      "text/plain": [
       "<IPython.core.display.HTML object>"
      ]
     },
     "metadata": {},
     "output_type": "display_data"
    },
    {
     "name": "stdout",
     "output_type": "stream",
     "text": [
      "Feature: V2\n",
      "Quartile 25: 1.133 | Quartile 75: 4.142\n",
      "iqr: 3.009\n",
      "Cut Off: 4.513\n",
      "Lower: -3.38\n",
      "Upper: 8.655\n",
      "Feature Outliers for Fraud Cases: 46\n",
      "outliers:[13.4873857909274, 9.067613427317669, 15.3658043803315, -3.95232008590575, 12.785970638297998, 12.785970638297998, 12.785970638297998, 12.9305051249875, 15.876922987953598, 10.5417508026636, -3.93073139597263, 10.114815724665402, 11.817921989785301, 12.6521968313004, -3.4204679837707, 10.5586001882538, -5.1983601992332895, 8.7759971528627, 10.8196653713117, -3.93591892431521, 16.1557014298057, 13.7659421584186, 16.4345245512223, 15.598192662555402, -6.976420007546411, -8.402153677689151, -7.15904171709445, 16.7133892350242, 14.6019980426299, 12.095893225929899, 9.66990017304097, 14.323253809723301, -7.4490151587267395, 12.3739891389716, 10.3939171427504, -4.8144607395562105, 12.785970638297998, 14.044566781510598, -7.19697963053735, 12.785970638297998, 12.785970638297998, 13.208904284417601, 11.586380519818402, 8.71325017095966, 9.22369194937548, -3.4881301811856096]\n",
      "------------------------------------------------------------------------------------------------------------------------\n",
      "Feature: V11\n",
      "Quartile 25: 1.845 | Quartile 75: 4.775\n",
      "iqr: 2.93\n",
      "Cut Off: 4.396\n",
      "Lower: -2.55\n",
      "Upper: 9.171\n",
      "Feature Outliers for Fraud Cases: 11\n",
      "outliers:[9.36907905765884, 9.939819741725689, 10.5452629545898, 10.8530116481991, 10.187587324166401, 10.2777688628065, 9.32879925655782, 10.0637897462894, 10.446846814514, 11.277920727806698, 11.152490598583698]\n",
      "------------------------------------------------------------------------------------------------------------------------\n",
      "Feature: V4\n",
      "Quartile 25: 2.084 | Quartile 75: 5.506\n",
      "iqr: 3.422\n",
      "Cut Off: 5.133\n",
      "Lower: -3.048\n",
      "Upper: 10.639\n",
      "Feature Outliers for Fraud Cases: 2\n",
      "outliers:[10.6485054461688, 10.6485054461688]\n",
      "------------------------------------------------------------------------------------------------------------------------\n"
     ]
    },
    {
     "data": {
      "text/html": [
       "<div>\n",
       "<style scoped>\n",
       "    .dataframe tbody tr th:only-of-type {\n",
       "        vertical-align: middle;\n",
       "    }\n",
       "\n",
       "    .dataframe tbody tr th {\n",
       "        vertical-align: top;\n",
       "    }\n",
       "\n",
       "    .dataframe thead th {\n",
       "        text-align: right;\n",
       "    }\n",
       "</style>\n",
       "<table border=\"1\" class=\"dataframe\">\n",
       "  <thead>\n",
       "    <tr style=\"text-align: right;\">\n",
       "      <th></th>\n",
       "      <th>scaled_amount</th>\n",
       "      <th>scaled_time</th>\n",
       "      <th>V1</th>\n",
       "      <th>V2</th>\n",
       "      <th>V3</th>\n",
       "      <th>V4</th>\n",
       "      <th>V5</th>\n",
       "      <th>V6</th>\n",
       "      <th>V7</th>\n",
       "      <th>V8</th>\n",
       "      <th>...</th>\n",
       "      <th>V20</th>\n",
       "      <th>V21</th>\n",
       "      <th>V22</th>\n",
       "      <th>V23</th>\n",
       "      <th>V24</th>\n",
       "      <th>V25</th>\n",
       "      <th>V26</th>\n",
       "      <th>V27</th>\n",
       "      <th>V28</th>\n",
       "      <th>Class</th>\n",
       "    </tr>\n",
       "  </thead>\n",
       "  <tbody>\n",
       "    <tr>\n",
       "      <th>248419</th>\n",
       "      <td>2.019842</td>\n",
       "      <td>0.813520</td>\n",
       "      <td>1.939494</td>\n",
       "      <td>-1.228433</td>\n",
       "      <td>-1.822550</td>\n",
       "      <td>-1.123825</td>\n",
       "      <td>-0.153692</td>\n",
       "      <td>-0.232265</td>\n",
       "      <td>-0.295362</td>\n",
       "      <td>-0.198967</td>\n",
       "      <td>...</td>\n",
       "      <td>0.368968</td>\n",
       "      <td>0.548874</td>\n",
       "      <td>1.212058</td>\n",
       "      <td>-0.208544</td>\n",
       "      <td>0.172305</td>\n",
       "      <td>0.222485</td>\n",
       "      <td>0.043438</td>\n",
       "      <td>-0.071139</td>\n",
       "      <td>-0.046482</td>\n",
       "      <td>0</td>\n",
       "    </tr>\n",
       "    <tr>\n",
       "      <th>154670</th>\n",
       "      <td>1.145812</td>\n",
       "      <td>0.209084</td>\n",
       "      <td>-2.296987</td>\n",
       "      <td>4.064043</td>\n",
       "      <td>-5.957706</td>\n",
       "      <td>4.680008</td>\n",
       "      <td>-2.080938</td>\n",
       "      <td>-1.463272</td>\n",
       "      <td>-4.490847</td>\n",
       "      <td>1.029246</td>\n",
       "      <td>...</td>\n",
       "      <td>1.264954</td>\n",
       "      <td>1.089084</td>\n",
       "      <td>0.975398</td>\n",
       "      <td>-0.625530</td>\n",
       "      <td>-0.535181</td>\n",
       "      <td>0.247435</td>\n",
       "      <td>0.160400</td>\n",
       "      <td>0.969582</td>\n",
       "      <td>0.335041</td>\n",
       "      <td>1</td>\n",
       "    </tr>\n",
       "    <tr>\n",
       "      <th>33295</th>\n",
       "      <td>-0.293440</td>\n",
       "      <td>-0.558230</td>\n",
       "      <td>-0.615139</td>\n",
       "      <td>1.424862</td>\n",
       "      <td>0.825301</td>\n",
       "      <td>0.259156</td>\n",
       "      <td>0.738616</td>\n",
       "      <td>-1.222637</td>\n",
       "      <td>1.092297</td>\n",
       "      <td>-0.254737</td>\n",
       "      <td>...</td>\n",
       "      <td>-0.088241</td>\n",
       "      <td>0.091877</td>\n",
       "      <td>0.240611</td>\n",
       "      <td>-0.253740</td>\n",
       "      <td>0.286295</td>\n",
       "      <td>0.020606</td>\n",
       "      <td>-0.541818</td>\n",
       "      <td>0.001272</td>\n",
       "      <td>0.188636</td>\n",
       "      <td>0</td>\n",
       "    </tr>\n",
       "    <tr>\n",
       "      <th>239501</th>\n",
       "      <td>3.007895</td>\n",
       "      <td>0.768888</td>\n",
       "      <td>-6.682832</td>\n",
       "      <td>-2.714268</td>\n",
       "      <td>-5.774530</td>\n",
       "      <td>1.449792</td>\n",
       "      <td>-0.661836</td>\n",
       "      <td>-1.148650</td>\n",
       "      <td>0.849686</td>\n",
       "      <td>0.433427</td>\n",
       "      <td>...</td>\n",
       "      <td>-1.928527</td>\n",
       "      <td>0.220526</td>\n",
       "      <td>1.187013</td>\n",
       "      <td>0.335821</td>\n",
       "      <td>0.215683</td>\n",
       "      <td>0.803110</td>\n",
       "      <td>0.044033</td>\n",
       "      <td>-0.054988</td>\n",
       "      <td>0.082337</td>\n",
       "      <td>1</td>\n",
       "    </tr>\n",
       "    <tr>\n",
       "      <th>191690</th>\n",
       "      <td>-0.307413</td>\n",
       "      <td>0.524900</td>\n",
       "      <td>1.183931</td>\n",
       "      <td>3.057250</td>\n",
       "      <td>-6.161997</td>\n",
       "      <td>5.543972</td>\n",
       "      <td>1.617041</td>\n",
       "      <td>-1.848006</td>\n",
       "      <td>-1.005508</td>\n",
       "      <td>0.339937</td>\n",
       "      <td>...</td>\n",
       "      <td>0.252571</td>\n",
       "      <td>0.109185</td>\n",
       "      <td>-0.931072</td>\n",
       "      <td>-0.064175</td>\n",
       "      <td>-0.007013</td>\n",
       "      <td>0.345419</td>\n",
       "      <td>0.064558</td>\n",
       "      <td>0.476629</td>\n",
       "      <td>0.323740</td>\n",
       "      <td>1</td>\n",
       "    </tr>\n",
       "    <tr>\n",
       "      <th>...</th>\n",
       "      <td>...</td>\n",
       "      <td>...</td>\n",
       "      <td>...</td>\n",
       "      <td>...</td>\n",
       "      <td>...</td>\n",
       "      <td>...</td>\n",
       "      <td>...</td>\n",
       "      <td>...</td>\n",
       "      <td>...</td>\n",
       "      <td>...</td>\n",
       "      <td>...</td>\n",
       "      <td>...</td>\n",
       "      <td>...</td>\n",
       "      <td>...</td>\n",
       "      <td>...</td>\n",
       "      <td>...</td>\n",
       "      <td>...</td>\n",
       "      <td>...</td>\n",
       "      <td>...</td>\n",
       "      <td>...</td>\n",
       "      <td>...</td>\n",
       "    </tr>\n",
       "    <tr>\n",
       "      <th>117044</th>\n",
       "      <td>-0.269825</td>\n",
       "      <td>-0.119492</td>\n",
       "      <td>-0.641963</td>\n",
       "      <td>1.221503</td>\n",
       "      <td>1.285376</td>\n",
       "      <td>-0.024410</td>\n",
       "      <td>-0.160326</td>\n",
       "      <td>-0.635892</td>\n",
       "      <td>0.272910</td>\n",
       "      <td>-0.665436</td>\n",
       "      <td>...</td>\n",
       "      <td>-0.113711</td>\n",
       "      <td>0.552034</td>\n",
       "      <td>-0.880381</td>\n",
       "      <td>0.119209</td>\n",
       "      <td>0.443139</td>\n",
       "      <td>-0.232847</td>\n",
       "      <td>0.051465</td>\n",
       "      <td>0.271975</td>\n",
       "      <td>0.095299</td>\n",
       "      <td>0</td>\n",
       "    </tr>\n",
       "    <tr>\n",
       "      <th>224407</th>\n",
       "      <td>-0.097813</td>\n",
       "      <td>0.694146</td>\n",
       "      <td>2.345023</td>\n",
       "      <td>-1.421737</td>\n",
       "      <td>-1.447076</td>\n",
       "      <td>-1.896845</td>\n",
       "      <td>-0.648271</td>\n",
       "      <td>0.083851</td>\n",
       "      <td>-1.150088</td>\n",
       "      <td>-0.034705</td>\n",
       "      <td>...</td>\n",
       "      <td>-0.420608</td>\n",
       "      <td>-0.205623</td>\n",
       "      <td>-0.098950</td>\n",
       "      <td>0.057991</td>\n",
       "      <td>-1.471668</td>\n",
       "      <td>-0.041263</td>\n",
       "      <td>-0.088681</td>\n",
       "      <td>0.004239</td>\n",
       "      <td>-0.076750</td>\n",
       "      <td>0</td>\n",
       "    </tr>\n",
       "    <tr>\n",
       "      <th>8312</th>\n",
       "      <td>-0.293440</td>\n",
       "      <td>-0.864672</td>\n",
       "      <td>0.378275</td>\n",
       "      <td>3.914797</td>\n",
       "      <td>-5.726872</td>\n",
       "      <td>6.094141</td>\n",
       "      <td>1.698875</td>\n",
       "      <td>-2.807314</td>\n",
       "      <td>-0.591118</td>\n",
       "      <td>-0.123496</td>\n",
       "      <td>...</td>\n",
       "      <td>0.440439</td>\n",
       "      <td>0.149896</td>\n",
       "      <td>-0.601967</td>\n",
       "      <td>-0.613724</td>\n",
       "      <td>-0.403114</td>\n",
       "      <td>1.568445</td>\n",
       "      <td>0.521884</td>\n",
       "      <td>0.527938</td>\n",
       "      <td>0.411910</td>\n",
       "      <td>1</td>\n",
       "    </tr>\n",
       "    <tr>\n",
       "      <th>30442</th>\n",
       "      <td>-0.243695</td>\n",
       "      <td>-0.572916</td>\n",
       "      <td>-3.896583</td>\n",
       "      <td>4.518355</td>\n",
       "      <td>-4.454027</td>\n",
       "      <td>5.547453</td>\n",
       "      <td>-4.121459</td>\n",
       "      <td>-1.163407</td>\n",
       "      <td>-6.805053</td>\n",
       "      <td>2.928356</td>\n",
       "      <td>...</td>\n",
       "      <td>0.757287</td>\n",
       "      <td>1.691042</td>\n",
       "      <td>0.920021</td>\n",
       "      <td>-0.151104</td>\n",
       "      <td>0.011007</td>\n",
       "      <td>0.080303</td>\n",
       "      <td>0.412191</td>\n",
       "      <td>0.635789</td>\n",
       "      <td>0.501050</td>\n",
       "      <td>1</td>\n",
       "    </tr>\n",
       "    <tr>\n",
       "      <th>279080</th>\n",
       "      <td>0.025152</td>\n",
       "      <td>0.986172</td>\n",
       "      <td>-1.138516</td>\n",
       "      <td>-0.762543</td>\n",
       "      <td>-1.142460</td>\n",
       "      <td>0.022805</td>\n",
       "      <td>3.478549</td>\n",
       "      <td>-2.322037</td>\n",
       "      <td>0.124222</td>\n",
       "      <td>-0.316119</td>\n",
       "      <td>...</td>\n",
       "      <td>0.575289</td>\n",
       "      <td>0.332529</td>\n",
       "      <td>0.627005</td>\n",
       "      <td>0.220621</td>\n",
       "      <td>0.288599</td>\n",
       "      <td>-0.842116</td>\n",
       "      <td>0.421467</td>\n",
       "      <td>-0.014130</td>\n",
       "      <td>0.133600</td>\n",
       "      <td>0</td>\n",
       "    </tr>\n",
       "  </tbody>\n",
       "</table>\n",
       "<p>872 rows × 31 columns</p>\n",
       "</div>"
      ],
      "text/plain": [
       "        scaled_amount  scaled_time        V1        V2        V3        V4  \\\n",
       "248419       2.019842     0.813520  1.939494 -1.228433 -1.822550 -1.123825   \n",
       "154670       1.145812     0.209084 -2.296987  4.064043 -5.957706  4.680008   \n",
       "33295       -0.293440    -0.558230 -0.615139  1.424862  0.825301  0.259156   \n",
       "239501       3.007895     0.768888 -6.682832 -2.714268 -5.774530  1.449792   \n",
       "191690      -0.307413     0.524900  1.183931  3.057250 -6.161997  5.543972   \n",
       "...               ...          ...       ...       ...       ...       ...   \n",
       "117044      -0.269825    -0.119492 -0.641963  1.221503  1.285376 -0.024410   \n",
       "224407      -0.097813     0.694146  2.345023 -1.421737 -1.447076 -1.896845   \n",
       "8312        -0.293440    -0.864672  0.378275  3.914797 -5.726872  6.094141   \n",
       "30442       -0.243695    -0.572916 -3.896583  4.518355 -4.454027  5.547453   \n",
       "279080       0.025152     0.986172 -1.138516 -0.762543 -1.142460  0.022805   \n",
       "\n",
       "              V5        V6        V7        V8  ...       V20       V21  \\\n",
       "248419 -0.153692 -0.232265 -0.295362 -0.198967  ...  0.368968  0.548874   \n",
       "154670 -2.080938 -1.463272 -4.490847  1.029246  ...  1.264954  1.089084   \n",
       "33295   0.738616 -1.222637  1.092297 -0.254737  ... -0.088241  0.091877   \n",
       "239501 -0.661836 -1.148650  0.849686  0.433427  ... -1.928527  0.220526   \n",
       "191690  1.617041 -1.848006 -1.005508  0.339937  ...  0.252571  0.109185   \n",
       "...          ...       ...       ...       ...  ...       ...       ...   \n",
       "117044 -0.160326 -0.635892  0.272910 -0.665436  ... -0.113711  0.552034   \n",
       "224407 -0.648271  0.083851 -1.150088 -0.034705  ... -0.420608 -0.205623   \n",
       "8312    1.698875 -2.807314 -0.591118 -0.123496  ...  0.440439  0.149896   \n",
       "30442  -4.121459 -1.163407 -6.805053  2.928356  ...  0.757287  1.691042   \n",
       "279080  3.478549 -2.322037  0.124222 -0.316119  ...  0.575289  0.332529   \n",
       "\n",
       "             V22       V23       V24       V25       V26       V27       V28  \\\n",
       "248419  1.212058 -0.208544  0.172305  0.222485  0.043438 -0.071139 -0.046482   \n",
       "154670  0.975398 -0.625530 -0.535181  0.247435  0.160400  0.969582  0.335041   \n",
       "33295   0.240611 -0.253740  0.286295  0.020606 -0.541818  0.001272  0.188636   \n",
       "239501  1.187013  0.335821  0.215683  0.803110  0.044033 -0.054988  0.082337   \n",
       "191690 -0.931072 -0.064175 -0.007013  0.345419  0.064558  0.476629  0.323740   \n",
       "...          ...       ...       ...       ...       ...       ...       ...   \n",
       "117044 -0.880381  0.119209  0.443139 -0.232847  0.051465  0.271975  0.095299   \n",
       "224407 -0.098950  0.057991 -1.471668 -0.041263 -0.088681  0.004239 -0.076750   \n",
       "8312   -0.601967 -0.613724 -0.403114  1.568445  0.521884  0.527938  0.411910   \n",
       "30442   0.920021 -0.151104  0.011007  0.080303  0.412191  0.635789  0.501050   \n",
       "279080  0.627005  0.220621  0.288599 -0.842116  0.421467 -0.014130  0.133600   \n",
       "\n",
       "        Class  \n",
       "248419      0  \n",
       "154670      1  \n",
       "33295       0  \n",
       "239501      1  \n",
       "191690      1  \n",
       "...       ...  \n",
       "117044      0  \n",
       "224407      0  \n",
       "8312        1  \n",
       "30442       1  \n",
       "279080      0  \n",
       "\n",
       "[872 rows x 31 columns]"
      ]
     },
     "execution_count": 71,
     "metadata": {},
     "output_type": "execute_result"
    }
   ],
   "source": [
    "# Removing the higher correlations\n",
    "extremeOutliers(new_df, higher_3, 1.5)"
   ]
  },
  {
   "cell_type": "code",
   "execution_count": 72,
   "metadata": {},
   "outputs": [
    {
     "data": {
      "text/html": [
       "\n",
       "            <script src=\"/static/components/requirejs/require.js\"></script>\n",
       "            <script>\n",
       "              requirejs.config({\n",
       "                paths: {\n",
       "                  base: '/static/base',\n",
       "                  plotly: 'https://cdn.plot.ly/plotly-latest.min.js?noext',\n",
       "                },\n",
       "              });\n",
       "            </script>\n",
       "            "
      ],
      "text/plain": [
       "<IPython.core.display.HTML object>"
      ]
     },
     "metadata": {},
     "output_type": "display_data"
    }
   ],
   "source": [
    "# Separating X and y\n",
    "X = new_df.drop('Class', axis=1)\n",
    "y = new_df['Class']\n",
    "\n",
    "# Spliting train and test with the undersampled dataset\n",
    "X_train, X_test, y_train, y_test = train_test_split(X, y, test_size=0.2, random_state=1313)"
   ]
  },
  {
   "cell_type": "code",
   "execution_count": 73,
   "metadata": {},
   "outputs": [
    {
     "data": {
      "text/html": [
       "\n",
       "            <script src=\"/static/components/requirejs/require.js\"></script>\n",
       "            <script>\n",
       "              requirejs.config({\n",
       "                paths: {\n",
       "                  base: '/static/base',\n",
       "                  plotly: 'https://cdn.plot.ly/plotly-latest.min.js?noext',\n",
       "                },\n",
       "              });\n",
       "            </script>\n",
       "            "
      ],
      "text/plain": [
       "<IPython.core.display.HTML object>"
      ]
     },
     "metadata": {},
     "output_type": "display_data"
    }
   ],
   "source": [
    "# SMOTE Technique (OverSampling)\n",
    "sm = SMOTE(sampling_strategy='minority', random_state=1313)"
   ]
  },
  {
   "cell_type": "code",
   "execution_count": 74,
   "metadata": {},
   "outputs": [
    {
     "data": {
      "text/html": [
       "\n",
       "            <script src=\"/static/components/requirejs/require.js\"></script>\n",
       "            <script>\n",
       "              requirejs.config({\n",
       "                paths: {\n",
       "                  base: '/static/base',\n",
       "                  plotly: 'https://cdn.plot.ly/plotly-latest.min.js?noext',\n",
       "                },\n",
       "              });\n",
       "            </script>\n",
       "            "
      ],
      "text/plain": [
       "<IPython.core.display.HTML object>"
      ]
     },
     "metadata": {},
     "output_type": "display_data"
    }
   ],
   "source": [
    "# This is the data we will train the model\n",
    "Xsm_train, ysm_train = sm.fit_sample(original_Xtrain, original_ytrain)"
   ]
  },
  {
   "cell_type": "code",
   "execution_count": 75,
   "metadata": {},
   "outputs": [
    {
     "data": {
      "text/html": [
       "\n",
       "            <script src=\"/static/components/requirejs/require.js\"></script>\n",
       "            <script>\n",
       "              requirejs.config({\n",
       "                paths: {\n",
       "                  base: '/static/base',\n",
       "                  plotly: 'https://cdn.plot.ly/plotly-latest.min.js?noext',\n",
       "                },\n",
       "              });\n",
       "            </script>\n",
       "            "
      ],
      "text/plain": [
       "<IPython.core.display.HTML object>"
      ]
     },
     "metadata": {},
     "output_type": "display_data"
    }
   ],
   "source": [
    "# Join X and y in the smote dataset\n",
    "df_smote = pd.merge(Xsm_train, ysm_train, left_index=True, right_index=True)"
   ]
  },
  {
   "cell_type": "code",
   "execution_count": 76,
   "metadata": {},
   "outputs": [
    {
     "data": {
      "text/html": [
       "\n",
       "            <script src=\"/static/components/requirejs/require.js\"></script>\n",
       "            <script>\n",
       "              requirejs.config({\n",
       "                paths: {\n",
       "                  base: '/static/base',\n",
       "                  plotly: 'https://cdn.plot.ly/plotly-latest.min.js?noext',\n",
       "                },\n",
       "              });\n",
       "            </script>\n",
       "            "
      ],
      "text/plain": [
       "<IPython.core.display.HTML object>"
      ]
     },
     "metadata": {},
     "output_type": "display_data"
    },
    {
     "data": {
      "image/png": "[encoded data removed]",
      "text/plain": [
       "<Figure size 1728x1440 with 4 Axes>"
      ]
     },
     "metadata": {},
     "output_type": "display_data"
    }
   ],
   "source": [
    "# Plot the original and the smote datasets to see the differences\n",
    "f, (ax1, ax2) = plt.subplots(2, 1, figsize=(24,20))\n",
    "\n",
    "# Entire DataFrame\n",
    "corr = df.corr()\n",
    "sns.heatmap(corr, cmap='coolwarm_r', annot_kws={'size':20}, ax=ax1)\n",
    "ax1.set_title(\"Imbalanced Correlation Matrix\", fontsize=14)\n",
    "\n",
    "# Smote dataFrame\n",
    "sub_sample_corr = df_smote.corr()\n",
    "sns.heatmap(sub_sample_corr, cmap='coolwarm_r', annot_kws={'size':20}, ax=ax2)\n",
    "ax2.set_title('Smote Correlation Matrix', fontsize=14)\n",
    "plt.show()"
   ]
  },
  {
   "cell_type": "code",
   "execution_count": 77,
   "metadata": {},
   "outputs": [
    {
     "data": {
      "text/html": [
       "\n",
       "            <script src=\"/static/components/requirejs/require.js\"></script>\n",
       "            <script>\n",
       "              requirejs.config({\n",
       "                paths: {\n",
       "                  base: '/static/base',\n",
       "                  plotly: 'https://cdn.plot.ly/plotly-latest.min.js?noext',\n",
       "                },\n",
       "              });\n",
       "            </script>\n",
       "            "
      ],
      "text/plain": [
       "<IPython.core.display.HTML object>"
      ]
     },
     "metadata": {},
     "output_type": "display_data"
    }
   ],
   "source": [
    "# We will analyze only the 3 higher and the 3 lower correlations to remove extreme outlies in the smote dataset\n",
    "correlations = sub_sample_corr.drop(sub_sample_corr.columns.difference(['Class']), 1)\n",
    "correlations = correlations.drop('Class', 0)\n",
    "correlations = correlations.sort_values(by=['Class'])"
   ]
  },
  {
   "cell_type": "code",
   "execution_count": 78,
   "metadata": {},
   "outputs": [
    {
     "data": {
      "text/html": [
       "\n",
       "            <script src=\"/static/components/requirejs/require.js\"></script>\n",
       "            <script>\n",
       "              requirejs.config({\n",
       "                paths: {\n",
       "                  base: '/static/base',\n",
       "                  plotly: 'https://cdn.plot.ly/plotly-latest.min.js?noext',\n",
       "                },\n",
       "              });\n",
       "            </script>\n",
       "            "
      ],
      "text/plain": [
       "<IPython.core.display.HTML object>"
      ]
     },
     "metadata": {},
     "output_type": "display_data"
    }
   ],
   "source": [
    "# Lower (smote)\n",
    "lower_3 = correlations[:3]\n",
    "\n",
    "# Higher (smote)\n",
    "higher_3 = correlations[-3:]"
   ]
  },
  {
   "cell_type": "code",
   "execution_count": 79,
   "metadata": {
    "scrolled": true
   },
   "outputs": [
    {
     "data": {
      "text/html": [
       "\n",
       "            <script src=\"/static/components/requirejs/require.js\"></script>\n",
       "            <script>\n",
       "              requirejs.config({\n",
       "                paths: {\n",
       "                  base: '/static/base',\n",
       "                  plotly: 'https://cdn.plot.ly/plotly-latest.min.js?noext',\n",
       "                },\n",
       "              });\n",
       "            </script>\n",
       "            "
      ],
      "text/plain": [
       "<IPython.core.display.HTML object>"
      ]
     },
     "metadata": {},
     "output_type": "display_data"
    },
    {
     "name": "stdout",
     "output_type": "stream",
     "text": [
      "Feature: V14\n",
      "Quartile 25: -9.863 | Quartile 75: -4.542\n",
      "iqr: 5.321\n",
      "Cut Off: 15.963\n",
      "Lower: -25.827\n",
      "Upper: 11.421\n",
      "Feature Outliers for Fraud Cases: 0\n",
      "outliers:[]\n",
      "------------------------------------------------------------------------------------------------------------------------\n",
      "Feature: V12\n",
      "Quartile 25: -9.809 | Quartile 75: -3.294\n",
      "iqr: 6.515\n",
      "Cut Off: 19.546\n",
      "Lower: -29.355\n",
      "Upper: 16.252\n",
      "Feature Outliers for Fraud Cases: 0\n",
      "outliers:[]\n",
      "------------------------------------------------------------------------------------------------------------------------\n",
      "Feature: V10\n",
      "Quartile 25: -8.512 | Quartile 75: -2.91\n",
      "iqr: 5.601\n",
      "Cut Off: 16.804\n",
      "Lower: -25.316\n",
      "Upper: 13.894\n",
      "Feature Outliers for Fraud Cases: 0\n",
      "outliers:[]\n",
      "------------------------------------------------------------------------------------------------------------------------\n"
     ]
    },
    {
     "data": {
      "text/html": [
       "<div>\n",
       "<style scoped>\n",
       "    .dataframe tbody tr th:only-of-type {\n",
       "        vertical-align: middle;\n",
       "    }\n",
       "\n",
       "    .dataframe tbody tr th {\n",
       "        vertical-align: top;\n",
       "    }\n",
       "\n",
       "    .dataframe thead th {\n",
       "        text-align: right;\n",
       "    }\n",
       "</style>\n",
       "<table border=\"1\" class=\"dataframe\">\n",
       "  <thead>\n",
       "    <tr style=\"text-align: right;\">\n",
       "      <th></th>\n",
       "      <th>scaled_amount</th>\n",
       "      <th>scaled_time</th>\n",
       "      <th>V1</th>\n",
       "      <th>V2</th>\n",
       "      <th>V3</th>\n",
       "      <th>V4</th>\n",
       "      <th>V5</th>\n",
       "      <th>V6</th>\n",
       "      <th>V7</th>\n",
       "      <th>V8</th>\n",
       "      <th>...</th>\n",
       "      <th>V20</th>\n",
       "      <th>V21</th>\n",
       "      <th>V22</th>\n",
       "      <th>V23</th>\n",
       "      <th>V24</th>\n",
       "      <th>V25</th>\n",
       "      <th>V26</th>\n",
       "      <th>V27</th>\n",
       "      <th>V28</th>\n",
       "      <th>Class</th>\n",
       "    </tr>\n",
       "  </thead>\n",
       "  <tbody>\n",
       "    <tr>\n",
       "      <th>0</th>\n",
       "      <td>1.783274</td>\n",
       "      <td>-0.994983</td>\n",
       "      <td>-1.359807</td>\n",
       "      <td>-0.072781</td>\n",
       "      <td>2.536347</td>\n",
       "      <td>1.378155</td>\n",
       "      <td>-0.338321</td>\n",
       "      <td>0.462388</td>\n",
       "      <td>0.239599</td>\n",
       "      <td>0.098698</td>\n",
       "      <td>...</td>\n",
       "      <td>0.251412</td>\n",
       "      <td>-0.018307</td>\n",
       "      <td>0.277838</td>\n",
       "      <td>-0.110474</td>\n",
       "      <td>0.066928</td>\n",
       "      <td>0.128539</td>\n",
       "      <td>-0.189115</td>\n",
       "      <td>0.133558</td>\n",
       "      <td>-0.021053</td>\n",
       "      <td>0</td>\n",
       "    </tr>\n",
       "    <tr>\n",
       "      <th>1</th>\n",
       "      <td>-0.269825</td>\n",
       "      <td>-0.994983</td>\n",
       "      <td>1.191857</td>\n",
       "      <td>0.266151</td>\n",
       "      <td>0.166480</td>\n",
       "      <td>0.448154</td>\n",
       "      <td>0.060018</td>\n",
       "      <td>-0.082361</td>\n",
       "      <td>-0.078803</td>\n",
       "      <td>0.085102</td>\n",
       "      <td>...</td>\n",
       "      <td>-0.069083</td>\n",
       "      <td>-0.225775</td>\n",
       "      <td>-0.638672</td>\n",
       "      <td>0.101288</td>\n",
       "      <td>-0.339846</td>\n",
       "      <td>0.167170</td>\n",
       "      <td>0.125895</td>\n",
       "      <td>-0.008983</td>\n",
       "      <td>0.014724</td>\n",
       "      <td>0</td>\n",
       "    </tr>\n",
       "    <tr>\n",
       "      <th>2</th>\n",
       "      <td>4.983721</td>\n",
       "      <td>-0.994972</td>\n",
       "      <td>-1.358354</td>\n",
       "      <td>-1.340163</td>\n",
       "      <td>1.773209</td>\n",
       "      <td>0.379780</td>\n",
       "      <td>-0.503198</td>\n",
       "      <td>1.800499</td>\n",
       "      <td>0.791461</td>\n",
       "      <td>0.247676</td>\n",
       "      <td>...</td>\n",
       "      <td>0.524980</td>\n",
       "      <td>0.247998</td>\n",
       "      <td>0.771679</td>\n",
       "      <td>0.909412</td>\n",
       "      <td>-0.689281</td>\n",
       "      <td>-0.327642</td>\n",
       "      <td>-0.139097</td>\n",
       "      <td>-0.055353</td>\n",
       "      <td>-0.059752</td>\n",
       "      <td>0</td>\n",
       "    </tr>\n",
       "    <tr>\n",
       "      <th>3</th>\n",
       "      <td>1.418291</td>\n",
       "      <td>-0.994972</td>\n",
       "      <td>-0.966272</td>\n",
       "      <td>-0.185226</td>\n",
       "      <td>1.792993</td>\n",
       "      <td>-0.863291</td>\n",
       "      <td>-0.010309</td>\n",
       "      <td>1.247203</td>\n",
       "      <td>0.237609</td>\n",
       "      <td>0.377436</td>\n",
       "      <td>...</td>\n",
       "      <td>-0.208038</td>\n",
       "      <td>-0.108300</td>\n",
       "      <td>0.005274</td>\n",
       "      <td>-0.190321</td>\n",
       "      <td>-1.175575</td>\n",
       "      <td>0.647376</td>\n",
       "      <td>-0.221929</td>\n",
       "      <td>0.062723</td>\n",
       "      <td>0.061458</td>\n",
       "      <td>0</td>\n",
       "    </tr>\n",
       "    <tr>\n",
       "      <th>4</th>\n",
       "      <td>0.670579</td>\n",
       "      <td>-0.994960</td>\n",
       "      <td>-1.158233</td>\n",
       "      <td>0.877737</td>\n",
       "      <td>1.548718</td>\n",
       "      <td>0.403034</td>\n",
       "      <td>-0.407193</td>\n",
       "      <td>0.095921</td>\n",
       "      <td>0.592941</td>\n",
       "      <td>-0.270533</td>\n",
       "      <td>...</td>\n",
       "      <td>0.408542</td>\n",
       "      <td>-0.009431</td>\n",
       "      <td>0.798278</td>\n",
       "      <td>-0.137458</td>\n",
       "      <td>0.141267</td>\n",
       "      <td>-0.206010</td>\n",
       "      <td>0.502292</td>\n",
       "      <td>0.219422</td>\n",
       "      <td>0.215153</td>\n",
       "      <td>0</td>\n",
       "    </tr>\n",
       "    <tr>\n",
       "      <th>...</th>\n",
       "      <td>...</td>\n",
       "      <td>...</td>\n",
       "      <td>...</td>\n",
       "      <td>...</td>\n",
       "      <td>...</td>\n",
       "      <td>...</td>\n",
       "      <td>...</td>\n",
       "      <td>...</td>\n",
       "      <td>...</td>\n",
       "      <td>...</td>\n",
       "      <td>...</td>\n",
       "      <td>...</td>\n",
       "      <td>...</td>\n",
       "      <td>...</td>\n",
       "      <td>...</td>\n",
       "      <td>...</td>\n",
       "      <td>...</td>\n",
       "      <td>...</td>\n",
       "      <td>...</td>\n",
       "      <td>...</td>\n",
       "      <td>...</td>\n",
       "    </tr>\n",
       "    <tr>\n",
       "      <th>454899</th>\n",
       "      <td>0.671712</td>\n",
       "      <td>0.108302</td>\n",
       "      <td>-12.307217</td>\n",
       "      <td>7.602335</td>\n",
       "      <td>-19.788195</td>\n",
       "      <td>7.189385</td>\n",
       "      <td>-11.061654</td>\n",
       "      <td>-4.867847</td>\n",
       "      <td>-14.707303</td>\n",
       "      <td>6.041148</td>\n",
       "      <td>...</td>\n",
       "      <td>-0.796822</td>\n",
       "      <td>2.003457</td>\n",
       "      <td>0.882080</td>\n",
       "      <td>-0.397793</td>\n",
       "      <td>0.469162</td>\n",
       "      <td>-0.130634</td>\n",
       "      <td>-0.189784</td>\n",
       "      <td>-2.151976</td>\n",
       "      <td>-0.666952</td>\n",
       "      <td>1</td>\n",
       "    </tr>\n",
       "    <tr>\n",
       "      <th>454900</th>\n",
       "      <td>-0.292028</td>\n",
       "      <td>-0.415486</td>\n",
       "      <td>0.624241</td>\n",
       "      <td>0.390222</td>\n",
       "      <td>0.974385</td>\n",
       "      <td>-0.045120</td>\n",
       "      <td>-0.225802</td>\n",
       "      <td>-0.500707</td>\n",
       "      <td>0.114670</td>\n",
       "      <td>-0.115106</td>\n",
       "      <td>...</td>\n",
       "      <td>-0.018109</td>\n",
       "      <td>0.033938</td>\n",
       "      <td>0.276856</td>\n",
       "      <td>-0.193575</td>\n",
       "      <td>-0.049123</td>\n",
       "      <td>0.459463</td>\n",
       "      <td>-0.465450</td>\n",
       "      <td>0.072489</td>\n",
       "      <td>0.028930</td>\n",
       "      <td>1</td>\n",
       "    </tr>\n",
       "    <tr>\n",
       "      <th>454901</th>\n",
       "      <td>-0.293440</td>\n",
       "      <td>-0.847775</td>\n",
       "      <td>-2.679379</td>\n",
       "      <td>7.022383</td>\n",
       "      <td>-13.548242</td>\n",
       "      <td>10.223529</td>\n",
       "      <td>-2.893169</td>\n",
       "      <td>-3.050300</td>\n",
       "      <td>-9.221104</td>\n",
       "      <td>3.323667</td>\n",
       "      <td>...</td>\n",
       "      <td>1.481529</td>\n",
       "      <td>1.878727</td>\n",
       "      <td>0.297881</td>\n",
       "      <td>0.232744</td>\n",
       "      <td>-1.186607</td>\n",
       "      <td>-0.560702</td>\n",
       "      <td>0.629879</td>\n",
       "      <td>1.930587</td>\n",
       "      <td>0.795589</td>\n",
       "      <td>1</td>\n",
       "    </tr>\n",
       "    <tr>\n",
       "      <th>454902</th>\n",
       "      <td>4.458440</td>\n",
       "      <td>-0.075704</td>\n",
       "      <td>-1.550026</td>\n",
       "      <td>-0.996501</td>\n",
       "      <td>0.810719</td>\n",
       "      <td>0.259955</td>\n",
       "      <td>-0.195255</td>\n",
       "      <td>-0.006302</td>\n",
       "      <td>1.082333</td>\n",
       "      <td>-0.000916</td>\n",
       "      <td>...</td>\n",
       "      <td>-0.176345</td>\n",
       "      <td>-0.057151</td>\n",
       "      <td>-0.235580</td>\n",
       "      <td>0.355842</td>\n",
       "      <td>-0.084267</td>\n",
       "      <td>0.095327</td>\n",
       "      <td>-0.571430</td>\n",
       "      <td>-0.061640</td>\n",
       "      <td>0.047448</td>\n",
       "      <td>1</td>\n",
       "    </tr>\n",
       "    <tr>\n",
       "      <th>454903</th>\n",
       "      <td>4.097408</td>\n",
       "      <td>0.107626</td>\n",
       "      <td>-5.840251</td>\n",
       "      <td>7.151384</td>\n",
       "      <td>-12.817413</td>\n",
       "      <td>7.034110</td>\n",
       "      <td>-9.645873</td>\n",
       "      <td>-2.941595</td>\n",
       "      <td>-11.545306</td>\n",
       "      <td>4.844017</td>\n",
       "      <td>...</td>\n",
       "      <td>0.056993</td>\n",
       "      <td>2.462180</td>\n",
       "      <td>1.053113</td>\n",
       "      <td>0.530329</td>\n",
       "      <td>0.472326</td>\n",
       "      <td>-0.276051</td>\n",
       "      <td>0.280963</td>\n",
       "      <td>0.103942</td>\n",
       "      <td>0.254859</td>\n",
       "      <td>1</td>\n",
       "    </tr>\n",
       "  </tbody>\n",
       "</table>\n",
       "<p>454900 rows × 31 columns</p>\n",
       "</div>"
      ],
      "text/plain": [
       "        scaled_amount  scaled_time         V1        V2         V3         V4  \\\n",
       "0            1.783274    -0.994983  -1.359807 -0.072781   2.536347   1.378155   \n",
       "1           -0.269825    -0.994983   1.191857  0.266151   0.166480   0.448154   \n",
       "2            4.983721    -0.994972  -1.358354 -1.340163   1.773209   0.379780   \n",
       "3            1.418291    -0.994972  -0.966272 -0.185226   1.792993  -0.863291   \n",
       "4            0.670579    -0.994960  -1.158233  0.877737   1.548718   0.403034   \n",
       "...               ...          ...        ...       ...        ...        ...   \n",
       "454899       0.671712     0.108302 -12.307217  7.602335 -19.788195   7.189385   \n",
       "454900      -0.292028    -0.415486   0.624241  0.390222   0.974385  -0.045120   \n",
       "454901      -0.293440    -0.847775  -2.679379  7.022383 -13.548242  10.223529   \n",
       "454902       4.458440    -0.075704  -1.550026 -0.996501   0.810719   0.259955   \n",
       "454903       4.097408     0.107626  -5.840251  7.151384 -12.817413   7.034110   \n",
       "\n",
       "               V5        V6         V7        V8  ...       V20       V21  \\\n",
       "0       -0.338321  0.462388   0.239599  0.098698  ...  0.251412 -0.018307   \n",
       "1        0.060018 -0.082361  -0.078803  0.085102  ... -0.069083 -0.225775   \n",
       "2       -0.503198  1.800499   0.791461  0.247676  ...  0.524980  0.247998   \n",
       "3       -0.010309  1.247203   0.237609  0.377436  ... -0.208038 -0.108300   \n",
       "4       -0.407193  0.095921   0.592941 -0.270533  ...  0.408542 -0.009431   \n",
       "...           ...       ...        ...       ...  ...       ...       ...   \n",
       "454899 -11.061654 -4.867847 -14.707303  6.041148  ... -0.796822  2.003457   \n",
       "454900  -0.225802 -0.500707   0.114670 -0.115106  ... -0.018109  0.033938   \n",
       "454901  -2.893169 -3.050300  -9.221104  3.323667  ...  1.481529  1.878727   \n",
       "454902  -0.195255 -0.006302   1.082333 -0.000916  ... -0.176345 -0.057151   \n",
       "454903  -9.645873 -2.941595 -11.545306  4.844017  ...  0.056993  2.462180   \n",
       "\n",
       "             V22       V23       V24       V25       V26       V27       V28  \\\n",
       "0       0.277838 -0.110474  0.066928  0.128539 -0.189115  0.133558 -0.021053   \n",
       "1      -0.638672  0.101288 -0.339846  0.167170  0.125895 -0.008983  0.014724   \n",
       "2       0.771679  0.909412 -0.689281 -0.327642 -0.139097 -0.055353 -0.059752   \n",
       "3       0.005274 -0.190321 -1.175575  0.647376 -0.221929  0.062723  0.061458   \n",
       "4       0.798278 -0.137458  0.141267 -0.206010  0.502292  0.219422  0.215153   \n",
       "...          ...       ...       ...       ...       ...       ...       ...   \n",
       "454899  0.882080 -0.397793  0.469162 -0.130634 -0.189784 -2.151976 -0.666952   \n",
       "454900  0.276856 -0.193575 -0.049123  0.459463 -0.465450  0.072489  0.028930   \n",
       "454901  0.297881  0.232744 -1.186607 -0.560702  0.629879  1.930587  0.795589   \n",
       "454902 -0.235580  0.355842 -0.084267  0.095327 -0.571430 -0.061640  0.047448   \n",
       "454903  1.053113  0.530329  0.472326 -0.276051  0.280963  0.103942  0.254859   \n",
       "\n",
       "        Class  \n",
       "0           0  \n",
       "1           0  \n",
       "2           0  \n",
       "3           0  \n",
       "4           0  \n",
       "...       ...  \n",
       "454899      1  \n",
       "454900      1  \n",
       "454901      1  \n",
       "454902      1  \n",
       "454903      1  \n",
       "\n",
       "[454900 rows x 31 columns]"
      ]
     },
     "execution_count": 79,
     "metadata": {},
     "output_type": "execute_result"
    }
   ],
   "source": [
    "# Removing the lower correlations (smote)\n",
    "extremeOutliers(df_smote, lower_3, 3)"
   ]
  },
  {
   "cell_type": "code",
   "execution_count": 80,
   "metadata": {
    "scrolled": true
   },
   "outputs": [
    {
     "data": {
      "text/html": [
       "\n",
       "            <script src=\"/static/components/requirejs/require.js\"></script>\n",
       "            <script>\n",
       "              requirejs.config({\n",
       "                paths: {\n",
       "                  base: '/static/base',\n",
       "                  plotly: 'https://cdn.plot.ly/plotly-latest.min.js?noext',\n",
       "                },\n",
       "              });\n",
       "            </script>\n",
       "            "
      ],
      "text/plain": [
       "<IPython.core.display.HTML object>"
      ]
     },
     "metadata": {},
     "output_type": "display_data"
    },
    {
     "name": "stdout",
     "output_type": "stream",
     "text": [
      "Feature: V2\n",
      "Quartile 25: 1.328 | Quartile 75: 6.186\n",
      "iqr: 4.858\n",
      "Cut Off: 14.574\n",
      "Lower: -13.245\n",
      "Upper: 20.76\n",
      "Feature Outliers for Fraud Cases: 522\n",
      "outliers:[21.4672029942752, 22.0577289904909, 21.58361433063832, 21.988850878626053, 21.477239748906246, 21.905512688746356, 21.793438500680477, 21.582099744560637, 21.730665633383843, 21.20372471555416, 21.816294330605857, 21.491680761406492, 21.84003188924353, 20.97386125190294, 22.052719829116526, 21.347634785251575, 21.618596524417452, 21.546770870493475, 20.99338684963587, 21.415749552492965, 21.560575584225305, 21.060962005469456, 21.731172015153852, 21.938702340551508, 21.96480314439898, 21.532797320648122, 21.357857833850346, 21.58089093915473, 21.185296861703765, 20.99491021429548, 21.04782975130339, 21.70657221371062, 21.030098493071225, 21.74246242961703, 21.32169322403962, 21.57014748179804, 21.747112748864108, 21.71411424457876, 21.625782050534113, 20.764413052178707, 21.383524644229098, 21.582375026145396, 21.070782553898688, 21.941165162874057, 21.94834472882034, 20.804657300623724, 21.641470856125643, 21.474111027918042, 21.99002915916604, 22.00137706675789, 21.134661052776657, 21.558793751342844, 20.819378647748508, 21.557568789248478, 21.972179856267, 20.922019472333538, 21.809272649045834, 22.03160836895243, 21.726662663964174, 20.976209375813674, 21.876377063839406, 21.991697016815483, 21.710731645482095, 21.852679738274155, 21.259282152509897, 21.35684735048615, 21.730564480547216, 20.9356824190607, 21.963788485416877, 21.7952179064955, 21.14096540507757, 21.559563111279676, 21.682020715908855, 21.564384928564376, 21.13336860007916, 21.866825249707684, 21.67396075022436, 21.645977751303754, 21.051518524451666, 21.855055995541885, 21.755992725483924, 20.973201571464394, 21.041823178860458, 21.111791262112884, 21.540824785062366, 20.79414868381397, 21.957653548354752, 21.676549008649697, 21.025933172283743, 21.59689622556507, 21.36398702163707, 21.460019824286753, 21.880529657424724, 21.959183708723245, 21.50034489222224, 21.59604091830481, 21.53191267687703, 21.86910381976007, 21.620483001138787, 21.79901635305907, 20.777639736932294, 21.834512893194347, 21.612536233754735, 21.160603321613635, 21.930429211478287, 20.89021770289382, 21.181704837569818, 21.849958429428295, 21.40961451338929, 20.780954132172308, 21.795135785813972, 21.68251528704212, 21.444349371231766, 21.74394680692352, 21.774765089825394, 21.82004927881603, 21.212328448091334, 21.50213506641068, 21.669719333387036, 20.97997141979147, 22.03219398779399, 21.24127641876442, 21.745055753453187, 21.499103455593637, 21.899602412179238, 21.877804074503842, 21.717837454625812, 21.39602022509393, 21.480790887637628, 21.025320516519642, 20.893013494052006, 20.84000154175813, 22.042579563692062, 21.4211639800276, 21.961460568150304, 20.93711022737927, 21.256442920262458, 21.802983430548437, 21.730811518972907, 20.862698778171076, 21.863268294372126, 21.125264319633644, 21.972027880831604, 21.96846723200345, 21.87165323573523, 21.42266550151578, 20.891541846858942, 20.991956784078432, 21.94254166741445, 21.55104626728692, 21.33270367600723, 21.481604568068153, 21.883848274616494, 20.78014117670568, 22.00242627090853, 21.178922695812048, 21.685956030155918, 21.407371714614516, 21.89888646341627, 21.526096170876958, 21.72341090202639, 20.997793364842373, 20.857174623517647, 20.97418500885202, 21.88331842355969, 21.313689420448423, 21.717662542321808, 21.954988550983654, 21.50124901693135, 20.94931781822974, 20.94422471609679, 21.955439971273915, 21.681767282398066, 21.01727386737092, 21.95288939254612, 21.573368431873266, 21.60777562770699, 21.6609645699247, 22.051852751515018, 21.228151188729452, 21.50176731870118, 22.03139323936807, 21.397525064185377, 21.904016388149557, 21.61185187278068, 21.99919283204061, 21.98303971723646, 21.99960580186763, 21.474194197272144, 20.94426815358466, 21.00824167102818, 20.98653425051201, 21.210848127513078, 21.2174034254758, 21.788339664700764, 22.008195492451158, 20.779992466672358, 21.05237796650242, 21.945561552666653, 21.908724349877, 21.498328044056375, 21.110633190749734, 20.907483225071406, 21.871067666375204, 21.945376348897835, 21.126663010298035, 21.474195658545376, 21.46588840915013, 21.396926361294817, 21.652026614346365, 21.85967374625822, 21.815177180095702, 20.783981413199697, 21.498053161352075, 21.634762603391966, 21.24875882642824, 21.34420487389161, 21.918652332005205, 21.72914424614782, 21.481203127928243, 20.929857918462822, 22.051866393044605, 21.885865816084827, 21.55823199888035, 21.069513184557543, 21.412937793785563, 21.56632857456761, 21.837305073071082, 20.9783360918774, 21.033574476295964, 22.054472604090552, 21.892892657582337, 20.980802633522284, 21.655873249150165, 21.409499614188412, 21.9273376287832, 21.358173874996417, 21.50853822243187, 21.747209297656426, 21.44681645688882, 21.655468928852667, 21.930530785818664, 21.883396391794992, 20.858029356411727, 21.9889238156589, 20.856838285187397, 21.899531161926944, 21.026217320005998, 20.866651886439698, 21.641946433826572, 21.907913202385043, 22.01787608349703, 21.69904983773985, 21.82464667989276, 21.382251400301477, 21.797443238657294, 20.86351484525713, 21.73029021790195, 21.036790743953546, 20.987711363624832, 21.867186577274534, 21.693534329901826, 20.940121875811265, 21.97405394006389, 21.622782585529684, 21.30977264107701, 21.85636219372181, 21.731606102018024, 21.07720891753697, 20.821903642948218, 22.006667725044515, 21.67072960944248, 20.869609498608288, 22.037899566422517, 20.772323967769506, 21.65652778301642, 21.006544336829773, 20.788241702736666, 20.821248005465808, 21.985454709899006, 21.125019865937354, 21.88150757460992, 21.247823921636734, 21.916562542205934, 21.6749604223129, 21.99442760821961, 21.985335372540288, 21.37185875459047, 21.27480848612921, 21.78210199690087, 21.899904645131397, 21.362921982557204, 21.618409264998622, 21.845695090060975, 21.4497757444193, 20.7786851095046, 21.82329375354908, 21.867990729595878, 21.63350251701724, 21.347324478289487, 21.700786892661707, 21.401240755640806, 21.31349911526344, 21.942519109793395, 21.45451166197378, 21.507517079760106, 21.420381940880844, 21.218338870340048, 21.975572058416965, 21.893320351558472, 21.79779086743855, 21.653234965821767, 21.25468562478617, 21.104195964323495, 20.82152990277572, 21.929687564132312, 21.816523514674913, 20.90735987568377, 21.835927996580917, 21.46502377829335, 20.779086241876627, 21.36277648130581, 20.878895649937917, 21.800866548767637, 21.80160283045922, 21.79717785677284, 21.980571722047966, 21.868474504478506, 21.57843304664191, 21.82570749294608, 21.76911407040542, 21.745346535010942, 21.983338525571675, 21.042754663767887, 21.574954272574587, 20.94707165674944, 21.750174195510088, 21.796943170236563, 21.629233902821333, 20.910060213579726, 21.83673770653361, 20.801673402382526, 21.67878552054515, 21.927329485074825, 21.620631136129656, 21.865205960177423, 21.636634086712572, 21.641051550345157, 20.949111466281575, 21.866899907752074, 21.549230412427384, 20.849915165836066, 21.96799058417775, 21.09061712537259, 21.345496003154633, 21.057712242627403, 21.712051184963467, 21.051452223505215, 20.871889289206152, 21.86703900488594, 21.75101899698401, 21.633436176038995, 22.024809832489797, 20.809688862065407, 21.692173417339948, 20.824140929263283, 21.77653288968035, 21.891073019290666, 21.90214019066017, 21.121412452262085, 22.003918342883164, 22.049113323526942, 21.28621224777671, 21.09675877262672, 21.47310048911429, 21.702493190302384, 20.85066729308452, 22.010108610165275, 21.88355760198862, 21.981059342324908, 21.47383549362718, 21.157315290048157, 21.81919980404386, 21.737977882524426, 21.31505992159324, 21.289946517204346, 20.871853024965304, 21.55551032916131, 20.904567943439165, 21.94453566002533, 20.981716349746904, 21.825545240464646, 21.406032045485546, 22.01415260390231, 21.111409677423165, 21.035384193336526, 21.7760912211518, 21.993636773409907, 20.8177964963898, 21.883092221143603, 21.99194409276532, 21.359073666963106, 21.507899842274718, 21.319049919463602, 22.02721873488286, 21.97672714742287, 21.702912841970395, 21.879589356713687, 21.23473188739938, 21.685356422778383, 22.004335479977005, 21.48830063159286, 21.10803511104165, 21.344679802642577, 21.676632868620782, 22.003837604766407, 20.846765734826697, 21.72259100038032, 21.997013801415847, 21.405186673671814, 22.007676784554366, 20.795151202074422, 21.570479343390296, 21.361868817655346, 21.42106442291969, 22.00534002070864, 21.937225024383604, 21.549166777067867, 21.646478199855757, 21.77757704568091, 21.498086847318145, 21.731425764268806, 21.590552013972502, 21.7731479311821, 21.29399845886333, 21.446840664448136, 21.810909206778803, 21.5825299019122, 21.903320204735184, 21.982792709078296, 21.662426045897657, 21.662671925001906, 21.301741170751388, 21.738842055248302, 21.239941298330105, 21.299731381119667, 21.193513610726267, 21.746984986778408, 22.034261980112923, 21.04601310513233, 21.80559458296019, 21.42300676025127, 21.836414121403045, 21.61505562159961, 21.25206120542931, 21.794839221779892, 21.546272848283845, 22.008639125435128, 21.788667085801876, 21.733666571141885, 20.801560074677564, 21.250698585941947, 20.800469843540682, 21.497790232421693, 21.770856671160544, 21.084461198355473, 21.158843014566845, 21.524493667478534, 21.91688208454768, 21.749007011241577, 21.470552261945112, 21.63343300824308, 20.994026576452793, 20.79439803645135, 21.720846404442003, 21.31828337893549, 21.85197489648874, 21.87113535148518, 20.977699206170783, 21.660371420381907, 21.98572538862507, 21.890018807183836, 21.882459328987284, 21.731587860668167, 21.85424346056888, 21.170515972190156, 21.445235563796476, 21.355827089001124, 21.239422075258254, 21.58451747370335, 21.541123276007927, 21.60533055614015, 21.80064456256733, 21.814029468958974, 20.887772563698054, 21.186712934576605, 20.922009365261523, 21.628658420897857, 21.637674509947956, 21.873625958623727, 21.57665682128328, 21.87334497644559, 22.015123385104914, 22.03969265033535, 22.026549931297723, 21.688729743699746, 20.82661136114901, 21.348707280269984, 21.766863658282208, 21.768776511119732, 21.708069012285115, 21.686876559805683, 21.926204780539983, 21.033689883459612, 21.713192851022832, 21.886318394867043, 20.79932322147618, 21.935859675431818, 20.937723381368176, 21.5680939719223, 20.825674741373383, 20.806198884220677]\n",
      "------------------------------------------------------------------------------------------------------------------------\n"
     ]
    },
    {
     "name": "stdout",
     "output_type": "stream",
     "text": [
      "Feature: V11\n",
      "Quartile 25: 2.365 | Quartile 75: 5.809\n",
      "iqr: 3.444\n",
      "Cut Off: 10.332\n",
      "Lower: -7.967\n",
      "Upper: 16.141\n",
      "Feature Outliers for Fraud Cases: 0\n",
      "outliers:[]\n",
      "------------------------------------------------------------------------------------------------------------------------\n",
      "Feature: V4\n",
      "Quartile 25: 2.395 | Quartile 75: 6.423\n",
      "iqr: 4.028\n",
      "Cut Off: 12.084\n",
      "Lower: -9.688\n",
      "Upper: 18.507\n",
      "Feature Outliers for Fraud Cases: 0\n",
      "outliers:[]\n",
      "------------------------------------------------------------------------------------------------------------------------\n"
     ]
    },
    {
     "data": {
      "text/html": [
       "<div>\n",
       "<style scoped>\n",
       "    .dataframe tbody tr th:only-of-type {\n",
       "        vertical-align: middle;\n",
       "    }\n",
       "\n",
       "    .dataframe tbody tr th {\n",
       "        vertical-align: top;\n",
       "    }\n",
       "\n",
       "    .dataframe thead th {\n",
       "        text-align: right;\n",
       "    }\n",
       "</style>\n",
       "<table border=\"1\" class=\"dataframe\">\n",
       "  <thead>\n",
       "    <tr style=\"text-align: right;\">\n",
       "      <th></th>\n",
       "      <th>scaled_amount</th>\n",
       "      <th>scaled_time</th>\n",
       "      <th>V1</th>\n",
       "      <th>V2</th>\n",
       "      <th>V3</th>\n",
       "      <th>V4</th>\n",
       "      <th>V5</th>\n",
       "      <th>V6</th>\n",
       "      <th>V7</th>\n",
       "      <th>V8</th>\n",
       "      <th>...</th>\n",
       "      <th>V20</th>\n",
       "      <th>V21</th>\n",
       "      <th>V22</th>\n",
       "      <th>V23</th>\n",
       "      <th>V24</th>\n",
       "      <th>V25</th>\n",
       "      <th>V26</th>\n",
       "      <th>V27</th>\n",
       "      <th>V28</th>\n",
       "      <th>Class</th>\n",
       "    </tr>\n",
       "  </thead>\n",
       "  <tbody>\n",
       "    <tr>\n",
       "      <th>0</th>\n",
       "      <td>1.783274</td>\n",
       "      <td>-0.994983</td>\n",
       "      <td>-1.359807</td>\n",
       "      <td>-0.072781</td>\n",
       "      <td>2.536347</td>\n",
       "      <td>1.378155</td>\n",
       "      <td>-0.338321</td>\n",
       "      <td>0.462388</td>\n",
       "      <td>0.239599</td>\n",
       "      <td>0.098698</td>\n",
       "      <td>...</td>\n",
       "      <td>0.251412</td>\n",
       "      <td>-0.018307</td>\n",
       "      <td>0.277838</td>\n",
       "      <td>-0.110474</td>\n",
       "      <td>0.066928</td>\n",
       "      <td>0.128539</td>\n",
       "      <td>-0.189115</td>\n",
       "      <td>0.133558</td>\n",
       "      <td>-0.021053</td>\n",
       "      <td>0</td>\n",
       "    </tr>\n",
       "    <tr>\n",
       "      <th>1</th>\n",
       "      <td>-0.269825</td>\n",
       "      <td>-0.994983</td>\n",
       "      <td>1.191857</td>\n",
       "      <td>0.266151</td>\n",
       "      <td>0.166480</td>\n",
       "      <td>0.448154</td>\n",
       "      <td>0.060018</td>\n",
       "      <td>-0.082361</td>\n",
       "      <td>-0.078803</td>\n",
       "      <td>0.085102</td>\n",
       "      <td>...</td>\n",
       "      <td>-0.069083</td>\n",
       "      <td>-0.225775</td>\n",
       "      <td>-0.638672</td>\n",
       "      <td>0.101288</td>\n",
       "      <td>-0.339846</td>\n",
       "      <td>0.167170</td>\n",
       "      <td>0.125895</td>\n",
       "      <td>-0.008983</td>\n",
       "      <td>0.014724</td>\n",
       "      <td>0</td>\n",
       "    </tr>\n",
       "    <tr>\n",
       "      <th>2</th>\n",
       "      <td>4.983721</td>\n",
       "      <td>-0.994972</td>\n",
       "      <td>-1.358354</td>\n",
       "      <td>-1.340163</td>\n",
       "      <td>1.773209</td>\n",
       "      <td>0.379780</td>\n",
       "      <td>-0.503198</td>\n",
       "      <td>1.800499</td>\n",
       "      <td>0.791461</td>\n",
       "      <td>0.247676</td>\n",
       "      <td>...</td>\n",
       "      <td>0.524980</td>\n",
       "      <td>0.247998</td>\n",
       "      <td>0.771679</td>\n",
       "      <td>0.909412</td>\n",
       "      <td>-0.689281</td>\n",
       "      <td>-0.327642</td>\n",
       "      <td>-0.139097</td>\n",
       "      <td>-0.055353</td>\n",
       "      <td>-0.059752</td>\n",
       "      <td>0</td>\n",
       "    </tr>\n",
       "    <tr>\n",
       "      <th>3</th>\n",
       "      <td>1.418291</td>\n",
       "      <td>-0.994972</td>\n",
       "      <td>-0.966272</td>\n",
       "      <td>-0.185226</td>\n",
       "      <td>1.792993</td>\n",
       "      <td>-0.863291</td>\n",
       "      <td>-0.010309</td>\n",
       "      <td>1.247203</td>\n",
       "      <td>0.237609</td>\n",
       "      <td>0.377436</td>\n",
       "      <td>...</td>\n",
       "      <td>-0.208038</td>\n",
       "      <td>-0.108300</td>\n",
       "      <td>0.005274</td>\n",
       "      <td>-0.190321</td>\n",
       "      <td>-1.175575</td>\n",
       "      <td>0.647376</td>\n",
       "      <td>-0.221929</td>\n",
       "      <td>0.062723</td>\n",
       "      <td>0.061458</td>\n",
       "      <td>0</td>\n",
       "    </tr>\n",
       "    <tr>\n",
       "      <th>4</th>\n",
       "      <td>0.670579</td>\n",
       "      <td>-0.994960</td>\n",
       "      <td>-1.158233</td>\n",
       "      <td>0.877737</td>\n",
       "      <td>1.548718</td>\n",
       "      <td>0.403034</td>\n",
       "      <td>-0.407193</td>\n",
       "      <td>0.095921</td>\n",
       "      <td>0.592941</td>\n",
       "      <td>-0.270533</td>\n",
       "      <td>...</td>\n",
       "      <td>0.408542</td>\n",
       "      <td>-0.009431</td>\n",
       "      <td>0.798278</td>\n",
       "      <td>-0.137458</td>\n",
       "      <td>0.141267</td>\n",
       "      <td>-0.206010</td>\n",
       "      <td>0.502292</td>\n",
       "      <td>0.219422</td>\n",
       "      <td>0.215153</td>\n",
       "      <td>0</td>\n",
       "    </tr>\n",
       "    <tr>\n",
       "      <th>...</th>\n",
       "      <td>...</td>\n",
       "      <td>...</td>\n",
       "      <td>...</td>\n",
       "      <td>...</td>\n",
       "      <td>...</td>\n",
       "      <td>...</td>\n",
       "      <td>...</td>\n",
       "      <td>...</td>\n",
       "      <td>...</td>\n",
       "      <td>...</td>\n",
       "      <td>...</td>\n",
       "      <td>...</td>\n",
       "      <td>...</td>\n",
       "      <td>...</td>\n",
       "      <td>...</td>\n",
       "      <td>...</td>\n",
       "      <td>...</td>\n",
       "      <td>...</td>\n",
       "      <td>...</td>\n",
       "      <td>...</td>\n",
       "      <td>...</td>\n",
       "    </tr>\n",
       "    <tr>\n",
       "      <th>454899</th>\n",
       "      <td>0.671712</td>\n",
       "      <td>0.108302</td>\n",
       "      <td>-12.307217</td>\n",
       "      <td>7.602335</td>\n",
       "      <td>-19.788195</td>\n",
       "      <td>7.189385</td>\n",
       "      <td>-11.061654</td>\n",
       "      <td>-4.867847</td>\n",
       "      <td>-14.707303</td>\n",
       "      <td>6.041148</td>\n",
       "      <td>...</td>\n",
       "      <td>-0.796822</td>\n",
       "      <td>2.003457</td>\n",
       "      <td>0.882080</td>\n",
       "      <td>-0.397793</td>\n",
       "      <td>0.469162</td>\n",
       "      <td>-0.130634</td>\n",
       "      <td>-0.189784</td>\n",
       "      <td>-2.151976</td>\n",
       "      <td>-0.666952</td>\n",
       "      <td>1</td>\n",
       "    </tr>\n",
       "    <tr>\n",
       "      <th>454900</th>\n",
       "      <td>-0.292028</td>\n",
       "      <td>-0.415486</td>\n",
       "      <td>0.624241</td>\n",
       "      <td>0.390222</td>\n",
       "      <td>0.974385</td>\n",
       "      <td>-0.045120</td>\n",
       "      <td>-0.225802</td>\n",
       "      <td>-0.500707</td>\n",
       "      <td>0.114670</td>\n",
       "      <td>-0.115106</td>\n",
       "      <td>...</td>\n",
       "      <td>-0.018109</td>\n",
       "      <td>0.033938</td>\n",
       "      <td>0.276856</td>\n",
       "      <td>-0.193575</td>\n",
       "      <td>-0.049123</td>\n",
       "      <td>0.459463</td>\n",
       "      <td>-0.465450</td>\n",
       "      <td>0.072489</td>\n",
       "      <td>0.028930</td>\n",
       "      <td>1</td>\n",
       "    </tr>\n",
       "    <tr>\n",
       "      <th>454901</th>\n",
       "      <td>-0.293440</td>\n",
       "      <td>-0.847775</td>\n",
       "      <td>-2.679379</td>\n",
       "      <td>7.022383</td>\n",
       "      <td>-13.548242</td>\n",
       "      <td>10.223529</td>\n",
       "      <td>-2.893169</td>\n",
       "      <td>-3.050300</td>\n",
       "      <td>-9.221104</td>\n",
       "      <td>3.323667</td>\n",
       "      <td>...</td>\n",
       "      <td>1.481529</td>\n",
       "      <td>1.878727</td>\n",
       "      <td>0.297881</td>\n",
       "      <td>0.232744</td>\n",
       "      <td>-1.186607</td>\n",
       "      <td>-0.560702</td>\n",
       "      <td>0.629879</td>\n",
       "      <td>1.930587</td>\n",
       "      <td>0.795589</td>\n",
       "      <td>1</td>\n",
       "    </tr>\n",
       "    <tr>\n",
       "      <th>454902</th>\n",
       "      <td>4.458440</td>\n",
       "      <td>-0.075704</td>\n",
       "      <td>-1.550026</td>\n",
       "      <td>-0.996501</td>\n",
       "      <td>0.810719</td>\n",
       "      <td>0.259955</td>\n",
       "      <td>-0.195255</td>\n",
       "      <td>-0.006302</td>\n",
       "      <td>1.082333</td>\n",
       "      <td>-0.000916</td>\n",
       "      <td>...</td>\n",
       "      <td>-0.176345</td>\n",
       "      <td>-0.057151</td>\n",
       "      <td>-0.235580</td>\n",
       "      <td>0.355842</td>\n",
       "      <td>-0.084267</td>\n",
       "      <td>0.095327</td>\n",
       "      <td>-0.571430</td>\n",
       "      <td>-0.061640</td>\n",
       "      <td>0.047448</td>\n",
       "      <td>1</td>\n",
       "    </tr>\n",
       "    <tr>\n",
       "      <th>454903</th>\n",
       "      <td>4.097408</td>\n",
       "      <td>0.107626</td>\n",
       "      <td>-5.840251</td>\n",
       "      <td>7.151384</td>\n",
       "      <td>-12.817413</td>\n",
       "      <td>7.034110</td>\n",
       "      <td>-9.645873</td>\n",
       "      <td>-2.941595</td>\n",
       "      <td>-11.545306</td>\n",
       "      <td>4.844017</td>\n",
       "      <td>...</td>\n",
       "      <td>0.056993</td>\n",
       "      <td>2.462180</td>\n",
       "      <td>1.053113</td>\n",
       "      <td>0.530329</td>\n",
       "      <td>0.472326</td>\n",
       "      <td>-0.276051</td>\n",
       "      <td>0.280963</td>\n",
       "      <td>0.103942</td>\n",
       "      <td>0.254859</td>\n",
       "      <td>1</td>\n",
       "    </tr>\n",
       "  </tbody>\n",
       "</table>\n",
       "<p>454068 rows × 31 columns</p>\n",
       "</div>"
      ],
      "text/plain": [
       "        scaled_amount  scaled_time         V1        V2         V3         V4  \\\n",
       "0            1.783274    -0.994983  -1.359807 -0.072781   2.536347   1.378155   \n",
       "1           -0.269825    -0.994983   1.191857  0.266151   0.166480   0.448154   \n",
       "2            4.983721    -0.994972  -1.358354 -1.340163   1.773209   0.379780   \n",
       "3            1.418291    -0.994972  -0.966272 -0.185226   1.792993  -0.863291   \n",
       "4            0.670579    -0.994960  -1.158233  0.877737   1.548718   0.403034   \n",
       "...               ...          ...        ...       ...        ...        ...   \n",
       "454899       0.671712     0.108302 -12.307217  7.602335 -19.788195   7.189385   \n",
       "454900      -0.292028    -0.415486   0.624241  0.390222   0.974385  -0.045120   \n",
       "454901      -0.293440    -0.847775  -2.679379  7.022383 -13.548242  10.223529   \n",
       "454902       4.458440    -0.075704  -1.550026 -0.996501   0.810719   0.259955   \n",
       "454903       4.097408     0.107626  -5.840251  7.151384 -12.817413   7.034110   \n",
       "\n",
       "               V5        V6         V7        V8  ...       V20       V21  \\\n",
       "0       -0.338321  0.462388   0.239599  0.098698  ...  0.251412 -0.018307   \n",
       "1        0.060018 -0.082361  -0.078803  0.085102  ... -0.069083 -0.225775   \n",
       "2       -0.503198  1.800499   0.791461  0.247676  ...  0.524980  0.247998   \n",
       "3       -0.010309  1.247203   0.237609  0.377436  ... -0.208038 -0.108300   \n",
       "4       -0.407193  0.095921   0.592941 -0.270533  ...  0.408542 -0.009431   \n",
       "...           ...       ...        ...       ...  ...       ...       ...   \n",
       "454899 -11.061654 -4.867847 -14.707303  6.041148  ... -0.796822  2.003457   \n",
       "454900  -0.225802 -0.500707   0.114670 -0.115106  ... -0.018109  0.033938   \n",
       "454901  -2.893169 -3.050300  -9.221104  3.323667  ...  1.481529  1.878727   \n",
       "454902  -0.195255 -0.006302   1.082333 -0.000916  ... -0.176345 -0.057151   \n",
       "454903  -9.645873 -2.941595 -11.545306  4.844017  ...  0.056993  2.462180   \n",
       "\n",
       "             V22       V23       V24       V25       V26       V27       V28  \\\n",
       "0       0.277838 -0.110474  0.066928  0.128539 -0.189115  0.133558 -0.021053   \n",
       "1      -0.638672  0.101288 -0.339846  0.167170  0.125895 -0.008983  0.014724   \n",
       "2       0.771679  0.909412 -0.689281 -0.327642 -0.139097 -0.055353 -0.059752   \n",
       "3       0.005274 -0.190321 -1.175575  0.647376 -0.221929  0.062723  0.061458   \n",
       "4       0.798278 -0.137458  0.141267 -0.206010  0.502292  0.219422  0.215153   \n",
       "...          ...       ...       ...       ...       ...       ...       ...   \n",
       "454899  0.882080 -0.397793  0.469162 -0.130634 -0.189784 -2.151976 -0.666952   \n",
       "454900  0.276856 -0.193575 -0.049123  0.459463 -0.465450  0.072489  0.028930   \n",
       "454901  0.297881  0.232744 -1.186607 -0.560702  0.629879  1.930587  0.795589   \n",
       "454902 -0.235580  0.355842 -0.084267  0.095327 -0.571430 -0.061640  0.047448   \n",
       "454903  1.053113  0.530329  0.472326 -0.276051  0.280963  0.103942  0.254859   \n",
       "\n",
       "        Class  \n",
       "0           0  \n",
       "1           0  \n",
       "2           0  \n",
       "3           0  \n",
       "4           0  \n",
       "...       ...  \n",
       "454899      1  \n",
       "454900      1  \n",
       "454901      1  \n",
       "454902      1  \n",
       "454903      1  \n",
       "\n",
       "[454068 rows x 31 columns]"
      ]
     },
     "execution_count": 80,
     "metadata": {},
     "output_type": "execute_result"
    }
   ],
   "source": [
    "# Removing the higher correlations (smote)\n",
    "extremeOutliers(df_smote, higher_3, 3)"
   ]
  },
  {
   "cell_type": "code",
   "execution_count": 81,
   "metadata": {},
   "outputs": [
    {
     "data": {
      "text/html": [
       "\n",
       "            <script src=\"/static/components/requirejs/require.js\"></script>\n",
       "            <script>\n",
       "              requirejs.config({\n",
       "                paths: {\n",
       "                  base: '/static/base',\n",
       "                  plotly: 'https://cdn.plot.ly/plotly-latest.min.js?noext',\n",
       "                },\n",
       "              });\n",
       "            </script>\n",
       "            "
      ],
      "text/plain": [
       "<IPython.core.display.HTML object>"
      ]
     },
     "metadata": {},
     "output_type": "display_data"
    }
   ],
   "source": [
    "# Separating X and y (smote)\n",
    "X = df_smote.drop('Class', axis=1)\n",
    "y = df_smote['Class']\n",
    "\n",
    "# Spliting train and test (smote dataframe).\n",
    "Xsm_train, X1_test, ysm_train, y1_test = train_test_split(X, y, test_size=0.2, random_state=1313)"
   ]
  },
  {
   "cell_type": "code",
   "execution_count": 82,
   "metadata": {},
   "outputs": [
    {
     "data": {
      "text/html": [
       "\n",
       "            <script src=\"/static/components/requirejs/require.js\"></script>\n",
       "            <script>\n",
       "              requirejs.config({\n",
       "                paths: {\n",
       "                  base: '/static/base',\n",
       "                  plotly: 'https://cdn.plot.ly/plotly-latest.min.js?noext',\n",
       "                },\n",
       "              });\n",
       "            </script>\n",
       "            "
      ],
      "text/plain": [
       "<IPython.core.display.HTML object>"
      ]
     },
     "metadata": {},
     "output_type": "display_data"
    }
   ],
   "source": [
    "# Logistic Regression parameters\n",
    "log_reg_params = {\"penalty\": ['l1', 'l2'], 'C': [0.001, 0.01, 0.1, 1, 10, 100, 1000]}\n",
    "grid_log_reg = GridSearchCV(LogisticRegression(), log_reg_params)"
   ]
  },
  {
   "cell_type": "code",
   "execution_count": 83,
   "metadata": {},
   "outputs": [
    {
     "data": {
      "text/html": [
       "\n",
       "            <script src=\"/static/components/requirejs/require.js\"></script>\n",
       "            <script>\n",
       "              requirejs.config({\n",
       "                paths: {\n",
       "                  base: '/static/base',\n",
       "                  plotly: 'https://cdn.plot.ly/plotly-latest.min.js?noext',\n",
       "                },\n",
       "              });\n",
       "            </script>\n",
       "            "
      ],
      "text/plain": [
       "<IPython.core.display.HTML object>"
      ]
     },
     "metadata": {},
     "output_type": "display_data"
    },
    {
     "name": "stdout",
     "output_type": "stream",
     "text": [
      "Fitting SMOTE data took :6.92450475692749 sec\n"
     ]
    }
   ],
   "source": [
    "# Logistic Regression fitted in smote dataframe\n",
    "t0 = time.time()\n",
    "log_reg_sm = grid_log_reg.estimator\n",
    "log_reg_sm.fit(Xsm_train, ysm_train)\n",
    "t1 = time.time()\n",
    "print(\"Fitting SMOTE data took :{} sec\".format(t1 - t0))"
   ]
  },
  {
   "cell_type": "code",
   "execution_count": 84,
   "metadata": {},
   "outputs": [
    {
     "data": {
      "text/html": [
       "\n",
       "            <script src=\"/static/components/requirejs/require.js\"></script>\n",
       "            <script>\n",
       "              requirejs.config({\n",
       "                paths: {\n",
       "                  base: '/static/base',\n",
       "                  plotly: 'https://cdn.plot.ly/plotly-latest.min.js?noext',\n",
       "                },\n",
       "              });\n",
       "            </script>\n",
       "            "
      ],
      "text/plain": [
       "<IPython.core.display.HTML object>"
      ]
     },
     "metadata": {},
     "output_type": "display_data"
    }
   ],
   "source": [
    "# Logistic Regression predicted in the under-sampled dataframe\n",
    "y_pred_log_reg = log_reg_sm.predict(X_test)"
   ]
  },
  {
   "cell_type": "code",
   "execution_count": 85,
   "metadata": {},
   "outputs": [
    {
     "data": {
      "text/html": [
       "\n",
       "            <script src=\"/static/components/requirejs/require.js\"></script>\n",
       "            <script>\n",
       "              requirejs.config({\n",
       "                paths: {\n",
       "                  base: '/static/base',\n",
       "                  plotly: 'https://cdn.plot.ly/plotly-latest.min.js?noext',\n",
       "                },\n",
       "              });\n",
       "            </script>\n",
       "            "
      ],
      "text/plain": [
       "<IPython.core.display.HTML object>"
      ]
     },
     "metadata": {},
     "output_type": "display_data"
    },
    {
     "name": "stdout",
     "output_type": "stream",
     "text": [
      "Logistic Regression:\n",
      "              precision    recall  f1-score   support\n",
      "\n",
      "           0       0.89      0.97      0.93        94\n",
      "           1       0.96      0.86      0.91        81\n",
      "\n",
      "    accuracy                           0.92       175\n",
      "   macro avg       0.93      0.92      0.92       175\n",
      "weighted avg       0.92      0.92      0.92       175\n",
      "\n"
     ]
    }
   ],
   "source": [
    "# Report (comparing with under-sampled class)\n",
    "print('Logistic Regression:')\n",
    "print(classification_report(y_test, y_pred_log_reg))"
   ]
  },
  {
   "cell_type": "code",
   "execution_count": 86,
   "metadata": {},
   "outputs": [
    {
     "data": {
      "text/html": [
       "\n",
       "            <script src=\"/static/components/requirejs/require.js\"></script>\n",
       "            <script>\n",
       "              requirejs.config({\n",
       "                paths: {\n",
       "                  base: '/static/base',\n",
       "                  plotly: 'https://cdn.plot.ly/plotly-latest.min.js?noext',\n",
       "                },\n",
       "              });\n",
       "            </script>\n",
       "            "
      ],
      "text/plain": [
       "<IPython.core.display.HTML object>"
      ]
     },
     "metadata": {},
     "output_type": "display_data"
    },
    {
     "data": {
      "image/png": "[encoded data removed]",
      "text/plain": [
       "<Figure size 576x396 with 2 Axes>"
      ]
     },
     "metadata": {},
     "output_type": "display_data"
    }
   ],
   "source": [
    "# Plot confusion matrix\n",
    "conf_matx_smt = confusion_matrix(y_test, y_pred_log_reg)\n",
    "ax = plt.axes()\n",
    "sns.heatmap(conf_matx_smt, annot=True, cmap='Greens', fmt='.0f')\n",
    "ax.set_title('Log. Reg. under-sampled \\n Confusion Matrix - Under-sampled test set')\n",
    "plt.show()"
   ]
  },
  {
   "cell_type": "code",
   "execution_count": 87,
   "metadata": {},
   "outputs": [
    {
     "data": {
      "text/html": [
       "\n",
       "            <script src=\"/static/components/requirejs/require.js\"></script>\n",
       "            <script>\n",
       "              requirejs.config({\n",
       "                paths: {\n",
       "                  base: '/static/base',\n",
       "                  plotly: 'https://cdn.plot.ly/plotly-latest.min.js?noext',\n",
       "                },\n",
       "              });\n",
       "            </script>\n",
       "            "
      ],
      "text/plain": [
       "<IPython.core.display.HTML object>"
      ]
     },
     "metadata": {},
     "output_type": "display_data"
    }
   ],
   "source": [
    "# Logistic Regression predicted in the original test set\n",
    "y_pred_sm = log_reg_sm.predict(original_Xtest)"
   ]
  },
  {
   "cell_type": "code",
   "execution_count": 88,
   "metadata": {},
   "outputs": [
    {
     "data": {
      "text/html": [
       "\n",
       "            <script src=\"/static/components/requirejs/require.js\"></script>\n",
       "            <script>\n",
       "              requirejs.config({\n",
       "                paths: {\n",
       "                  base: '/static/base',\n",
       "                  plotly: 'https://cdn.plot.ly/plotly-latest.min.js?noext',\n",
       "                },\n",
       "              });\n",
       "            </script>\n",
       "            "
      ],
      "text/plain": [
       "<IPython.core.display.HTML object>"
      ]
     },
     "metadata": {},
     "output_type": "display_data"
    },
    {
     "name": "stdout",
     "output_type": "stream",
     "text": [
      "              precision    recall  f1-score   support\n",
      "\n",
      "    No Fraud       1.00      0.99      0.99     56863\n",
      "       Fraud       0.12      0.87      0.21        98\n",
      "\n",
      "    accuracy                           0.99     56961\n",
      "   macro avg       0.56      0.93      0.60     56961\n",
      "weighted avg       1.00      0.99      0.99     56961\n",
      "\n"
     ]
    }
   ],
   "source": [
    "# Report\n",
    "labels = ['No Fraud', 'Fraud']\n",
    "print(classification_report(original_ytest, y_pred_sm, target_names=labels))"
   ]
  },
  {
   "cell_type": "code",
   "execution_count": 89,
   "metadata": {},
   "outputs": [
    {
     "data": {
      "text/html": [
       "\n",
       "            <script src=\"/static/components/requirejs/require.js\"></script>\n",
       "            <script>\n",
       "              requirejs.config({\n",
       "                paths: {\n",
       "                  base: '/static/base',\n",
       "                  plotly: 'https://cdn.plot.ly/plotly-latest.min.js?noext',\n",
       "                },\n",
       "              });\n",
       "            </script>\n",
       "            "
      ],
      "text/plain": [
       "<IPython.core.display.HTML object>"
      ]
     },
     "metadata": {},
     "output_type": "display_data"
    }
   ],
   "source": [
    "# Merge labels with X_test\n",
    "original_Xtest['Label'] = y_pred_sm\n",
    "original_Xtest['Class'] = original_ytest"
   ]
  },
  {
   "cell_type": "code",
   "execution_count": 90,
   "metadata": {},
   "outputs": [
    {
     "data": {
      "text/html": [
       "\n",
       "            <script src=\"/static/components/requirejs/require.js\"></script>\n",
       "            <script>\n",
       "              requirejs.config({\n",
       "                paths: {\n",
       "                  base: '/static/base',\n",
       "                  plotly: 'https://cdn.plot.ly/plotly-latest.min.js?noext',\n",
       "                },\n",
       "              });\n",
       "            </script>\n",
       "            "
      ],
      "text/plain": [
       "<IPython.core.display.HTML object>"
      ]
     },
     "metadata": {},
     "output_type": "display_data"
    }
   ],
   "source": [
    "# Metrics\n",
    "acc = accuracy_score(original_Xtest['Class'], original_Xtest['Label'])\n",
    "auc = roc_auc_score(original_Xtest['Class'], original_Xtest['Label'])\n",
    "recall = recall_score(original_Xtest['Class'], original_Xtest['Label'])\n",
    "precision = precision_score(original_Xtest['Class'], original_Xtest['Label'])\n",
    "f1 = f1_score(original_Xtest['Class'], original_Xtest['Label'])"
   ]
  },
  {
   "cell_type": "code",
   "execution_count": 91,
   "metadata": {
    "scrolled": false
   },
   "outputs": [
    {
     "data": {
      "text/html": [
       "\n",
       "            <script src=\"/static/components/requirejs/require.js\"></script>\n",
       "            <script>\n",
       "              requirejs.config({\n",
       "                paths: {\n",
       "                  base: '/static/base',\n",
       "                  plotly: 'https://cdn.plot.ly/plotly-latest.min.js?noext',\n",
       "                },\n",
       "              });\n",
       "            </script>\n",
       "            "
      ],
      "text/plain": [
       "<IPython.core.display.HTML object>"
      ]
     },
     "metadata": {},
     "output_type": "display_data"
    },
    {
     "data": {
      "text/html": [
       "<div>\n",
       "<style scoped>\n",
       "    .dataframe tbody tr th:only-of-type {\n",
       "        vertical-align: middle;\n",
       "    }\n",
       "\n",
       "    .dataframe tbody tr th {\n",
       "        vertical-align: top;\n",
       "    }\n",
       "\n",
       "    .dataframe thead th {\n",
       "        text-align: right;\n",
       "    }\n",
       "</style>\n",
       "<table border=\"1\" class=\"dataframe\">\n",
       "  <thead>\n",
       "    <tr style=\"text-align: right;\">\n",
       "      <th></th>\n",
       "      <th>Model</th>\n",
       "      <th>Accurary</th>\n",
       "      <th>AUC</th>\n",
       "      <th>Recall</th>\n",
       "      <th>Prec.</th>\n",
       "      <th>F1</th>\n",
       "    </tr>\n",
       "  </thead>\n",
       "  <tbody>\n",
       "    <tr>\n",
       "      <th>0</th>\n",
       "      <td>Log. Reg. Smote</td>\n",
       "      <td>0.988905</td>\n",
       "      <td>0.928231</td>\n",
       "      <td>0.867347</td>\n",
       "      <td>0.120739</td>\n",
       "      <td>0.21197</td>\n",
       "    </tr>\n",
       "  </tbody>\n",
       "</table>\n",
       "</div>"
      ],
      "text/plain": [
       "             Model  Accurary       AUC    Recall     Prec.       F1\n",
       "0  Log. Reg. Smote  0.988905  0.928231  0.867347  0.120739  0.21197"
      ]
     },
     "execution_count": 91,
     "metadata": {},
     "output_type": "execute_result"
    }
   ],
   "source": [
    "# Visualize metrics\n",
    "cols = ['Model','Accurary','AUC','Recall','Prec.','F1']\n",
    "values = ['Log. Reg. Smote',acc,auc,recall,precision,f1]\n",
    "metrics_df = pd.DataFrame({tup[0]: [tup[1]] for tup in zip(cols, values)})\n",
    "metrics_df"
   ]
  },
  {
   "cell_type": "code",
   "execution_count": 92,
   "metadata": {},
   "outputs": [
    {
     "data": {
      "text/html": [
       "\n",
       "            <script src=\"/static/components/requirejs/require.js\"></script>\n",
       "            <script>\n",
       "              requirejs.config({\n",
       "                paths: {\n",
       "                  base: '/static/base',\n",
       "                  plotly: 'https://cdn.plot.ly/plotly-latest.min.js?noext',\n",
       "                },\n",
       "              });\n",
       "            </script>\n",
       "            "
      ],
      "text/plain": [
       "<IPython.core.display.HTML object>"
      ]
     },
     "metadata": {},
     "output_type": "display_data"
    },
    {
     "data": {
      "text/html": [
       "<div>\n",
       "<style scoped>\n",
       "    .dataframe tbody tr th:only-of-type {\n",
       "        vertical-align: middle;\n",
       "    }\n",
       "\n",
       "    .dataframe tbody tr th {\n",
       "        vertical-align: top;\n",
       "    }\n",
       "\n",
       "    .dataframe thead th {\n",
       "        text-align: right;\n",
       "    }\n",
       "</style>\n",
       "<table border=\"1\" class=\"dataframe\">\n",
       "  <thead>\n",
       "    <tr style=\"text-align: right;\">\n",
       "      <th></th>\n",
       "      <th>Class</th>\n",
       "      <th>Label</th>\n",
       "      <th>Freq</th>\n",
       "    </tr>\n",
       "  </thead>\n",
       "  <tbody>\n",
       "    <tr>\n",
       "      <th>0</th>\n",
       "      <td>0</td>\n",
       "      <td>0</td>\n",
       "      <td>56244</td>\n",
       "    </tr>\n",
       "    <tr>\n",
       "      <th>1</th>\n",
       "      <td>0</td>\n",
       "      <td>1</td>\n",
       "      <td>619</td>\n",
       "    </tr>\n",
       "    <tr>\n",
       "      <th>2</th>\n",
       "      <td>1</td>\n",
       "      <td>0</td>\n",
       "      <td>13</td>\n",
       "    </tr>\n",
       "    <tr>\n",
       "      <th>3</th>\n",
       "      <td>1</td>\n",
       "      <td>1</td>\n",
       "      <td>85</td>\n",
       "    </tr>\n",
       "  </tbody>\n",
       "</table>\n",
       "</div>"
      ],
      "text/plain": [
       "   Class  Label   Freq\n",
       "0      0      0  56244\n",
       "1      0      1    619\n",
       "2      1      0     13\n",
       "3      1      1     85"
      ]
     },
     "execution_count": 92,
     "metadata": {},
     "output_type": "execute_result"
    }
   ],
   "source": [
    "# See real target and predicted label\n",
    "pd.crosstab(original_Xtest['Class'], original_Xtest['Label']).stack().reset_index(name='Freq')"
   ]
  },
  {
   "cell_type": "code",
   "execution_count": 93,
   "metadata": {},
   "outputs": [
    {
     "data": {
      "text/html": [
       "\n",
       "            <script src=\"/static/components/requirejs/require.js\"></script>\n",
       "            <script>\n",
       "              requirejs.config({\n",
       "                paths: {\n",
       "                  base: '/static/base',\n",
       "                  plotly: 'https://cdn.plot.ly/plotly-latest.min.js?noext',\n",
       "                },\n",
       "              });\n",
       "            </script>\n",
       "            "
      ],
      "text/plain": [
       "<IPython.core.display.HTML object>"
      ]
     },
     "metadata": {},
     "output_type": "display_data"
    },
    {
     "data": {
      "image/png": "[encoded data removed]",
      "text/plain": [
       "<Figure size 576x396 with 2 Axes>"
      ]
     },
     "metadata": {},
     "output_type": "display_data"
    }
   ],
   "source": [
    "# Plot confusion matrix\n",
    "conf_matx_smt = confusion_matrix(original_ytest, y_pred_sm)\n",
    "ax = plt.axes()\n",
    "sns.heatmap(conf_matx_smt, annot=True, cmap='Greens', fmt='.0f')\n",
    "ax.set_title('Log. Reg. Smote \\n Confusion Matrix - Original Test set')\n",
    "plt.show()"
   ]
  },
  {
   "cell_type": "markdown",
   "metadata": {},
   "source": [
    "# CONCLUSION"
   ]
  },
  {
   "cell_type": "markdown",
   "metadata": {},
   "source": [
    "The implementations made in this project show us that we have a trade-off when it comes to models. On the one hand, a model that can detect 95% of anomaly cases, but which attributes a huge volume of \"non-fraud\" transactions to fraud (false positive). On the other hand, a little prediction is lost using an under-over sample model (we achieved 87% success in detecting fraud), but we labeled 92% less reputable transactions as fraud, thus reducing our volume of false positives.\n",
    "\n",
    "\n",
    "**`Some points about the models:`**\n",
    "\n",
    "* The model with under-over sample was the best. There were only 619 false-positive and 13 false-negative observations;\n",
    "* The pycaret classification model was better at solving frauds, however, there were 8431 cases of false positives, which can generate dissatisfaction among customers for having their cards blocked due to suspected fraud;\n",
    "* The pycaret anomaly model managed to detect fraud as well as the under-over sample model, but it also had a high number of false positives (2657).\n",
    "\n",
    "\n",
    "**`Important to say:`** Pycaret is a powerful prediction tool because with few lines of code it is possible to develop a model with great metrics. For models where there are no metrics designed and/or that need a quick solution, albeit a palliative one, pycaret will surely exceed expectations.\n",
    "\n",
    "\n",
    "**`Personal note:`** I have been using pycaret in work projects. A scenario where we have few resources and a lot of demand. We are gaining agility with projects that need a quick response (due to our industry) or new customers, where there are still no defined metrics/goals."
   ]
  },
  {
   "cell_type": "markdown",
   "metadata": {},
   "source": [
    "**`Here is a summary of the 3 confusion matrices applied on the same test set:`**"
   ]
  },
  {
   "cell_type": "code",
   "execution_count": 98,
   "metadata": {},
   "outputs": [
    {
     "data": {
      "text/html": [
       "\n",
       "            <script src=\"/static/components/requirejs/require.js\"></script>\n",
       "            <script>\n",
       "              requirejs.config({\n",
       "                paths: {\n",
       "                  base: '/static/base',\n",
       "                  plotly: 'https://cdn.plot.ly/plotly-latest.min.js?noext',\n",
       "                },\n",
       "              });\n",
       "            </script>\n",
       "            "
      ],
      "text/plain": [
       "<IPython.core.display.HTML object>"
      ]
     },
     "metadata": {},
     "output_type": "display_data"
    },
    {
     "data": {
      "text/plain": [
       "Text(0.5, 1.0, 'Log. Reg. Smote \\n Confusion Matrix - Original Test set')"
      ]
     },
     "execution_count": 98,
     "metadata": {},
     "output_type": "execute_result"
    },
    {
     "data": {
      "image/png": "[encoded data removed]",
      "text/plain": [
       "<Figure size 1440x360 with 6 Axes>"
      ]
     },
     "metadata": {},
     "output_type": "display_data"
    }
   ],
   "source": [
    "# Plot confusion matrix for the 3 approaches. Everyone built with the original test set\n",
    "\n",
    "f, (ax1, ax2, ax3) = plt.subplots(1,3, figsize=(20,5))\n",
    "\n",
    "# 1º Approach (Anomaly model with Pycaret)\n",
    "sns.heatmap(conf_matx_anom, ax=ax1, annot=True, cmap='Greens', fmt='.0f')\n",
    "ax1.set_title('Clustering-Based Local Outlier \"CLT\" Pycaret \\n Confusion Matrix - Original Test set', fontsize=14)\n",
    "\n",
    "# 2º Approach (Classifier model with Pycaret)\n",
    "sns.heatmap(conf_matx_clf, ax=ax2, annot=True, cmap='Greens', fmt='.0f')\n",
    "ax2.set_title('Log. Reg. Pycaret \\n Confusion Matrix - Original Test set', fontsize=14)\n",
    "\n",
    "# 3º Approach (Classifier with under & over sample)\n",
    "sns.heatmap(conf_matx_smt, ax=ax3, annot=True, cmap='Greens', fmt='.0f')\n",
    "ax3.set_title('Log. Reg. Smote \\n Confusion Matrix - Original Test set', fontsize=14)"
   ]
  }
 ],
 "metadata": {
  "kernelspec": {
   "display_name": "kaggle_fraud",
   "language": "python",
   "name": "kaggle_fraud"
  },
  "language_info": {
   "codemirror_mode": {
    "name": "ipython",
    "version": 3
   },
   "file_extension": ".py",
   "mimetype": "text/x-python",
   "name": "python",
   "nbconvert_exporter": "python",
   "pygments_lexer": "ipython3",
   "version": "3.7.1"
  }
 },
 "nbformat": 4,
 "nbformat_minor": 4
}
